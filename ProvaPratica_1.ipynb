{
  "nbformat": 4,
  "nbformat_minor": 0,
  "metadata": {
    "colab": {
      "name": "ProvaPratica-1.ipynb",
      "provenance": [],
      "authorship_tag": "ABX9TyOV5aMJkgInzJ68U2tcpDZy",
      "include_colab_link": true
    },
    "kernelspec": {
      "name": "python3",
      "display_name": "Python 3"
    },
    "language_info": {
      "name": "python"
    }
  },
  "cells": [
    {
      "cell_type": "markdown",
      "metadata": {
        "id": "view-in-github",
        "colab_type": "text"
      },
      "source": [
        "<a href=\"https://colab.research.google.com/github/omarlatorre/UEMS-PP-2021/blob/master/ProvaPratica_1.ipynb\" target=\"_parent\"><img src=\"https://colab.research.google.com/assets/colab-badge.svg\" alt=\"Open In Colab\"/></a>"
      ]
    },
    {
      "cell_type": "markdown",
      "metadata": {
        "id": "hMsltUCabzgp"
      },
      "source": [
        "##Prova Pratica 1\n",
        "\n",
        "1)\tSimular em Java a operação de um cadastro de imóveis. Para tanto, empregar como referencia o diagrama UML da Figura e as informações contidas na Tabela."
      ]
    },
    {
      "cell_type": "code",
      "metadata": {
        "id": "6MijuJ4_aqC6",
        "colab": {
          "base_uri": "https://localhost:8080/"
        },
        "outputId": "13402ab2-80be-4e42-8446-ae514b749c03"
      },
      "source": [
        "!pip install git+git://github.com/canesche/nvcc4jupyter.git\n",
        "!git clone https://github.com/canesche/nvcc4jupyter\n",
        "%load_ext nvcc_plugin"
      ],
      "execution_count": 1,
      "outputs": [
        {
          "output_type": "stream",
          "text": [
            "Collecting git+git://github.com/canesche/nvcc4jupyter.git\n",
            "  Cloning git://github.com/canesche/nvcc4jupyter.git to /tmp/pip-req-build-2bjl943h\n",
            "  Running command git clone -q git://github.com/canesche/nvcc4jupyter.git /tmp/pip-req-build-2bjl943h\n",
            "Building wheels for collected packages: ColabPlugin\n",
            "  Building wheel for ColabPlugin (setup.py) ... \u001b[?25l\u001b[?25hdone\n",
            "  Created wheel for ColabPlugin: filename=ColabPlugin-blind-py3-none-any.whl size=12728 sha256=ad5f80a37dda01a824b1accc6267b9d677cc82cb806b3c58408a1c5e29ae34cc\n",
            "  Stored in directory: /tmp/pip-ephem-wheel-cache-lvox7rdy/wheels/97/a0/61/b9e5e1f61c5cfd624df291d57f6731a0f5832606b9ced448ef\n",
            "\u001b[33m  WARNING: Built wheel for ColabPlugin is invalid: Metadata 1.2 mandates PEP 440 version, but 'blind' is not\u001b[0m\n",
            "Failed to build ColabPlugin\n",
            "Installing collected packages: ColabPlugin\n",
            "    Running setup.py install for ColabPlugin ... \u001b[?25l\u001b[?25hdone\n",
            "\u001b[33m  DEPRECATION: ColabPlugin was installed using the legacy 'setup.py install' method, because a wheel could not be built for it. A possible replacement is to fix the wheel build issue reported above. You can find discussion regarding this at https://github.com/pypa/pip/issues/8368.\u001b[0m\n",
            "Successfully installed ColabPlugin-blind\n",
            "Cloning into 'nvcc4jupyter'...\n",
            "remote: Enumerating objects: 1147, done.\u001b[K\n",
            "remote: Counting objects: 100% (362/362), done.\u001b[K\n",
            "remote: Compressing objects: 100% (271/271), done.\u001b[K\n",
            "remote: Total 1147 (delta 100), reused 328 (delta 74), pack-reused 785\u001b[K\n",
            "Receiving objects: 100% (1147/1147), 35.71 MiB | 18.62 MiB/s, done.\n",
            "Resolving deltas: 100% (554/554), done.\n"
          ],
          "name": "stdout"
        }
      ]
    },
    {
      "cell_type": "code",
      "metadata": {
        "id": "9w5-l1WDcJDV",
        "colab": {
          "base_uri": "https://localhost:8080/"
        },
        "outputId": "ec69c3c6-64c4-45d8-834c-7a6c3ce12a71"
      },
      "source": [
        "%%writefile Construcao.java\n",
        "\n",
        "public abstract class Construcao {\n",
        "    double area;\n",
        "    double precoArea;\n",
        "    \n",
        "    public Construcao() {\n",
        "        this.area = 10;\n",
        "        this.precoArea = 150;\n",
        "    }\n",
        "    \n",
        "    public Construcao(double area, double precoArea) {\n",
        "        this.area = area;\n",
        "        this.precoArea = precoArea;\n",
        "    }\n",
        "    \n",
        "    public String getDados() {\n",
        "        return(\"Área: \"+this.area+\", Preço: \"+this.precoArea);\n",
        "    }\n",
        "    \n",
        "    public double getPrecoTotal(){\n",
        "        return (this.area*this.precoArea);\n",
        "    }\n",
        "    \n",
        "    public void printDados(){\n",
        "        String dados = getDados();\n",
        "        double preco = getPrecoTotal();\n",
        "        System.out.println(\"dados: \"+dados+\", Preço Total: \"+preco);\n",
        "    }\n",
        "    \n",
        "}"
      ],
      "execution_count": 2,
      "outputs": [
        {
          "output_type": "stream",
          "text": [
            "Writing Construcao.java\n"
          ],
          "name": "stdout"
        }
      ]
    },
    {
      "cell_type": "code",
      "metadata": {
        "colab": {
          "base_uri": "https://localhost:8080/"
        },
        "id": "EVBCtuEfGanp",
        "outputId": "69710400-45a4-49f0-ad23-a2179be416e8"
      },
      "source": [
        "%%writefile Commission.java\n",
        "\n",
        "public interface Commission{\n",
        "    double COMMISSION_RATE = 0.10;\n",
        "    public void setVendas(double sales);\n",
        "}"
      ],
      "execution_count": 3,
      "outputs": [
        {
          "output_type": "stream",
          "text": [
            "Writing Commission.java\n"
          ],
          "name": "stdout"
        }
      ]
    },
    {
      "cell_type": "code",
      "metadata": {
        "colab": {
          "base_uri": "https://localhost:8080/"
        },
        "id": "TJoLMe4cJYB0",
        "outputId": "66cb2071-a782-48de-e484-a53dc8e9c6fa"
      },
      "source": [
        "%%writefile Loja.java\n",
        "\n",
        "public class Loja extends Construcao implements Commission {\n",
        "    double sales;\n",
        "    \n",
        "    public Loja(){\n",
        "        super(10, 150);\n",
        "        this.sales = 0;\n",
        "    }\n",
        "    \n",
        "    public Loja(double area, double precoArea){\n",
        "        super(area, precoArea);\n",
        "        this.sales = 0;\n",
        "    }\n",
        "    \n",
        "    /* provem da classe construcao */\n",
        "    public String getDados(){\n",
        "        return (\"Vendas: \"+sales);\n",
        "    }\n",
        "    \n",
        "    /* provem da interface commission */\n",
        "    @Override\n",
        "    public void setVendas(double sales){\n",
        "        this.sales = sales;\n",
        "    }\n",
        "    \n",
        "    /* provem da classe construcao */\n",
        "    @Override\n",
        "    public double getPrecoTotal(){\n",
        "        double preco = area*precoArea;\n",
        "        return preco + (preco*COMMISSION_RATE);\n",
        "    }\n",
        "}"
      ],
      "execution_count": 12,
      "outputs": [
        {
          "output_type": "stream",
          "text": [
            "Writing Loja.java\n"
          ],
          "name": "stdout"
        }
      ]
    },
    {
      "cell_type": "code",
      "metadata": {
        "colab": {
          "base_uri": "https://localhost:8080/"
        },
        "id": "S57zd-nxGgCv",
        "outputId": "8fbff066-42dc-4927-b9f5-4ee53029ed79"
      },
      "source": [
        "%%writefile Apto.java\n",
        "\n",
        "public class Apto extends Construcao {\n",
        "    int nQuartos;\n",
        "    \n",
        "    public Apto(){\n",
        "        super(10, 150);\n",
        "        this.nQuartos = 2;\n",
        "    }\n",
        "    \n",
        "    public Apto(double area, double precoArea, int nQuartos){\n",
        "        super(area, precoArea);\n",
        "        this.nQuartos = nQuartos;\n",
        "    }\n",
        "    \n",
        "    public void setNQuartos(int n){\n",
        "        this.nQuartos = n;\n",
        "    }\n",
        "    \n",
        "    public int getNQuartos(){\n",
        "        return nQuartos;\n",
        "    }\n",
        "    \n",
        "    /* provem da classe construcao */\n",
        "    public String getDados(){\n",
        "        return (\"Número de quartos: \"+nQuartos);\n",
        "    }\n",
        "    \n",
        "    /* provem da classe construcao */\n",
        "    @Override\n",
        "    public double getPrecoTotal(){\n",
        "        double preco = area*precoArea;\n",
        "        return preco*nQuartos;\n",
        "    }\n",
        "}"
      ],
      "execution_count": 4,
      "outputs": [
        {
          "output_type": "stream",
          "text": [
            "Writing Apto.java\n"
          ],
          "name": "stdout"
        }
      ]
    },
    {
      "cell_type": "code",
      "metadata": {
        "colab": {
          "base_uri": "https://localhost:8080/"
        },
        "id": "OUyeX29VHmfC",
        "outputId": "f3d4d13a-2260-48f5-a225-1aca664d29e3"
      },
      "source": [
        "%%writefile Escritorio.java\n",
        "\n",
        "public class Escritorio extends Apto implements Commission {\n",
        "    double sales;\n",
        "    \n",
        "    public Escritorio(){\n",
        "        super(10, 150, 2);\n",
        "        this.sales = 0;\n",
        "    }\n",
        "    \n",
        "    public Escritorio(double area, double precoArea, int nQuartos){\n",
        "        super(area, precoArea, nQuartos);\n",
        "        this.sales = 0;\n",
        "    }\n",
        "    \n",
        "    /*public porHoraEComissao(){\n",
        "        \n",
        "    }*/\n",
        "    \n",
        "    public void setVendas(double s){\n",
        "        this.sales = s;\n",
        "    }\n",
        "    \n",
        "    /* provem da interface commission */\n",
        "    public String getDados(){\n",
        "        return (\"Vendas: \"+sales);\n",
        "    }\n",
        "    \n",
        "    /* provem da classe construcao */\n",
        "    @Override\n",
        "    public double getPrecoTotal(){\n",
        "        double preco = area*precoArea*nQuartos; //Retorno da Apto\n",
        "        double precoLoja = preco*COMMISSION_RATE; //Retorno da Loja\n",
        "        return preco*precoLoja;\n",
        "    }\n",
        "}"
      ],
      "execution_count": 5,
      "outputs": [
        {
          "output_type": "stream",
          "text": [
            "Writing Escritorio.java\n"
          ],
          "name": "stdout"
        }
      ]
    },
    {
      "cell_type": "code",
      "metadata": {
        "colab": {
          "base_uri": "https://localhost:8080/"
        },
        "id": "5zP5SIitHsiY",
        "outputId": "1d54fc31-b8dc-449a-d5f5-8636b81c4936"
      },
      "source": [
        "%%writefile Imobiliaria.java\n",
        "\n",
        "public class Imobiliaria {\n",
        "    public static void main(String args[]) {\n",
        "    \n",
        "      Loja loja = new Loja(25, 300);\n",
        "      Apto apt = new Apto();\n",
        "      Escritorio esc = new Escritorio();\n",
        "      \n",
        "      System.out.println(loja.getPrecoTotal());\n",
        "      System.out.println(apt.getDados());\n",
        "      System.out.println(esc.getPrecoTotal());\n",
        "    }\n",
        "}"
      ],
      "execution_count": 6,
      "outputs": [
        {
          "output_type": "stream",
          "text": [
            "Writing Imobiliaria.java\n"
          ],
          "name": "stdout"
        }
      ]
    },
    {
      "cell_type": "code",
      "metadata": {
        "colab": {
          "base_uri": "https://localhost:8080/"
        },
        "id": "68XottYEISJy",
        "outputId": "cf48e711-a6af-452c-d7f9-3a9d44bd8a1e"
      },
      "source": [
        "!javac Construcao.java Commission.java Loja.java Apto.java Escritorio.java Imobiliaria.java\n",
        "!java Imobiliaria"
      ],
      "execution_count": 13,
      "outputs": [
        {
          "output_type": "stream",
          "text": [
            "8250.0\n",
            "Número de quartos: 2\n",
            "900000.0\n"
          ],
          "name": "stdout"
        }
      ]
    }
  ]
}