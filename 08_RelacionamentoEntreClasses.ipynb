{
  "nbformat": 4,
  "nbformat_minor": 0,
  "metadata": {
    "colab": {
      "name": "08_RelacionamentoEntreClasses.ipynb",
      "provenance": [],
      "collapsed_sections": [],
      "authorship_tag": "ABX9TyOZOqNVC3jpMTsxK5V88+F/",
      "include_colab_link": true
    },
    "kernelspec": {
      "name": "python3",
      "display_name": "Python 3"
    },
    "language_info": {
      "name": "python"
    }
  },
  "cells": [
    {
      "cell_type": "markdown",
      "metadata": {
        "id": "view-in-github",
        "colab_type": "text"
      },
      "source": [
        "<a href=\"https://colab.research.google.com/github/omarlatorre/UEMS-PP-2021/blob/master/08_RelacionamentoEntreClasses.ipynb\" target=\"_parent\"><img src=\"https://colab.research.google.com/assets/colab-badge.svg\" alt=\"Open In Colab\"/></a>"
      ]
    },
    {
      "cell_type": "markdown",
      "metadata": {
        "id": "oRoO-eKJilVk"
      },
      "source": [
        "#Relacionamento entre classes\n",
        "Entender como as classes colaboram para criar as funcionalidades de um sistema orientado a objetos"
      ]
    },
    {
      "cell_type": "code",
      "metadata": {
        "colab": {
          "base_uri": "https://localhost:8080/"
        },
        "id": "OAEBafNzhYqO",
        "outputId": "9a76fb8a-3021-4827-b8db-a96a1aff69a9"
      },
      "source": [
        "!pip install git+git://github.com/canesche/nvcc4jupyter.git\n",
        "!git clone https://github.com/canesche/nvcc4jupyter\n",
        "%load_ext nvcc_plugin"
      ],
      "execution_count": null,
      "outputs": [
        {
          "output_type": "stream",
          "text": [
            "Collecting git+git://github.com/canesche/nvcc4jupyter.git\n",
            "  Cloning git://github.com/canesche/nvcc4jupyter.git to /tmp/pip-req-build-8m8_sv9s\n",
            "  Running command git clone -q git://github.com/canesche/nvcc4jupyter.git /tmp/pip-req-build-8m8_sv9s\n",
            "Building wheels for collected packages: ColabPlugin\n",
            "  Building wheel for ColabPlugin (setup.py) ... \u001b[?25l\u001b[?25hdone\n",
            "  Created wheel for ColabPlugin: filename=ColabPlugin-blind-cp37-none-any.whl size=12726 sha256=7b7bb79017391ca55dcbd8c6627994a4d7b691ce78dbe2d558616cf5e22cdd46\n",
            "  Stored in directory: /tmp/pip-ephem-wheel-cache-ji9d240l/wheels/87/ae/09/21c6e192181a0472e20ddd1d5212e2cbb113f00ebe14330d0d\n",
            "Successfully built ColabPlugin\n",
            "Installing collected packages: ColabPlugin\n",
            "Successfully installed ColabPlugin-blind\n",
            "Cloning into 'nvcc4jupyter'...\n",
            "remote: Enumerating objects: 1147, done.\u001b[K\n",
            "remote: Counting objects: 100% (362/362), done.\u001b[K\n",
            "remote: Compressing objects: 100% (271/271), done.\u001b[K\n",
            "remote: Total 1147 (delta 100), reused 328 (delta 74), pack-reused 785\u001b[K\n",
            "Receiving objects: 100% (1147/1147), 35.71 MiB | 19.64 MiB/s, done.\n",
            "Resolving deltas: 100% (554/554), done.\n"
          ],
          "name": "stdout"
        }
      ]
    },
    {
      "cell_type": "markdown",
      "metadata": {
        "id": "jg5PSxbvkTya"
      },
      "source": [
        "##Métodos e atributos estáticos\n",
        "Criar e utilizar métodos e atributos estáticos em classes, sabendo diferencia-los dos métodos e atributos de instância"
      ]
    },
    {
      "cell_type": "code",
      "metadata": {
        "colab": {
          "base_uri": "https://localhost:8080/"
        },
        "id": "OCzBB2BGkePS",
        "outputId": "cb7646f8-61b2-4dd4-a018-bd408b096e1a"
      },
      "source": [
        "%%writefile Somador.java\n",
        "\n",
        "public class Somador {\n",
        "    String nome;\n",
        "    int valorInstancia = 0;\n",
        "    static int valorEstatica = 0;\n",
        "\n",
        "    void somar(){\n",
        "\t      valorInstancia ++;\n",
        "        valorEstatica ++;\n",
        "    }\n",
        "\n",
        "    @Override\n",
        "    public String toString(){\n",
        "        return \"O somador \\'\"+nome+\"\\': instancia=\"+valorInstancia+\" e estatico=\"+valorEstatica;\n",
        "    }\n",
        "}"
      ],
      "execution_count": null,
      "outputs": [
        {
          "output_type": "stream",
          "text": [
            "Overwriting Somador.java\n"
          ],
          "name": "stdout"
        }
      ]
    },
    {
      "cell_type": "code",
      "metadata": {
        "colab": {
          "base_uri": "https://localhost:8080/"
        },
        "id": "YmvVFbztkmtg",
        "outputId": "ab922cdc-1a4f-4536-94af-0ec320f79431"
      },
      "source": [
        "%%writefile TestSomador.java\n",
        "\n",
        "public class TestSomador{\n",
        "  public static void main(String [] args){\n",
        "     Somador s1 = new Somador();\n",
        "     s1.nome = \"Somador 1\";\n",
        "     Somador s2 = new Somador();\n",
        "     s2.nome = \"Somador 2\";\n",
        "     Somador s3 = new Somador();\n",
        "     s3.nome = \"Somador 3\";\n",
        "\n",
        "     for(int i=0; i < 3; i++){\n",
        "        s1.somar();\n",
        "        s2.somar();\n",
        "        s3.somar();\n",
        "     }\n",
        "     System.out.println(s1.toString());\n",
        "     System.out.println(s2.toString());\n",
        "     System.out.println(s3.toString());\n",
        "  }\n",
        "}"
      ],
      "execution_count": null,
      "outputs": [
        {
          "output_type": "stream",
          "text": [
            "Writing TestSomador.java\n"
          ],
          "name": "stdout"
        }
      ]
    },
    {
      "cell_type": "code",
      "metadata": {
        "colab": {
          "base_uri": "https://localhost:8080/"
        },
        "id": "MorPi0JRkzXa",
        "outputId": "267f40b5-3469-4c99-d44b-277b8c6296db"
      },
      "source": [
        "!javac Somador.java TestSomador.java\n",
        "!java TestSomador"
      ],
      "execution_count": null,
      "outputs": [
        {
          "output_type": "stream",
          "text": [
            "O somador 'Somador 1': instancia=3 e estatico=9\n",
            "O somador 'Somador 2': instancia=3 e estatico=9\n",
            "O somador 'Somador 3': instancia=3 e estatico=9\n"
          ],
          "name": "stdout"
        }
      ]
    },
    {
      "cell_type": "markdown",
      "metadata": {
        "id": "1DfBscKDriYk"
      },
      "source": [
        "##Agregação e Composição de Objetos\n",
        "Apresenta-se o caso de uma pizzaria que tem vendas por internet, para isso conta com uma pagina web, o usuário pode accesar ao sistema por meio de uma conta criada, então o usuário tem acesso a um carrinho de compras, ele pode comprar de uma a mais pizzas, cada pizza possui seus próprios ingredientes, o custo total da pizza se dá por meio dos ingredientes usados. o administrador de esta empresa contrata você para fazer um sistema que controle ditas ventas online. Para isso usaremos o conceito de POO composição na criação de um carrinho de compras.  \n"
      ]
    },
    {
      "cell_type": "code",
      "metadata": {
        "colab": {
          "base_uri": "https://localhost:8080/"
        },
        "id": "FC4DsFV5hfuz",
        "outputId": "91266b8f-5cf8-4ad3-a386-af6ae7f6242b"
      },
      "source": [
        "%%writefile Pizza.java\n",
        "\n",
        "import java.util.*;\n",
        "\n",
        "public class Pizza\n",
        "{\n",
        "\tpublic static int totalIngredientes = 0;\n",
        "\tpublic static Map<String, Integer> mapaIngredientes = new HashMap<String, Integer>();\n",
        "\tprivate ArrayList <String>  ingrediente = new ArrayList<String>();\n",
        "\t\n",
        "\tpublic ArrayList<String> getIngrediente()\n",
        "\t{\n",
        "\t\treturn ingrediente;\n",
        "\t}\n",
        "\t\n",
        "\tpublic static Map<String, Integer>  getListaIngredientes()\n",
        "\t{\n",
        "\t\treturn   mapaIngredientes;\n",
        "\t}\n",
        "\t\n",
        "\tpublic void addIngrediente(String ingrediente)\n",
        "\t{\n",
        "\t\tthis.ingrediente.add(ingrediente);\n",
        "\t\tcountIngrediente(ingrediente);\n",
        "\t}\n",
        "\t\n",
        "\tpublic int getPreco()\n",
        "\t{\n",
        "\t\tint preco = 0;\n",
        "\t\t\n",
        "\t\tif (ingrediente.size() <= 2)\n",
        "\t\t{\n",
        "\t\t\tpreco = 15;\n",
        "\t\t}\n",
        "\t\tif (ingrediente.size() >= 3 && ingrediente.size() <= 5)\n",
        "\t\t{\n",
        "\t\t\tpreco = 20;\n",
        "\t\t}\n",
        "\t\tif (ingrediente.size() > 5)\n",
        "\t\t{\n",
        "\t\t\tpreco = 23;\n",
        "\t\t}\n",
        "\t\t\n",
        "\t\treturn preco;\t\n",
        "\t}\n",
        "\t\n",
        "\tpublic static void countIngrediente(String ingrediente)\n",
        "\t{\n",
        "\t\tif (mapaIngredientes.containsKey(ingrediente))\n",
        "\t\t{\n",
        "\t\t\tint value = mapaIngredientes.get(ingrediente);\n",
        "\t\t\tmapaIngredientes.put(ingrediente, value + 1);\t\t\t\n",
        "\t\t}\n",
        "\t\telse\n",
        "\t\t{\n",
        "\t\t\tmapaIngredientes.put(ingrediente, 1);\n",
        "\t\t}\n",
        "\t\t\n",
        "\t\ttotalIngredientes++;\n",
        "\t}\n",
        "}"
      ],
      "execution_count": null,
      "outputs": [
        {
          "output_type": "stream",
          "text": [
            "Writing Pizza.java\n"
          ],
          "name": "stdout"
        }
      ]
    },
    {
      "cell_type": "code",
      "metadata": {
        "colab": {
          "base_uri": "https://localhost:8080/"
        },
        "id": "yze-38GOhzRF",
        "outputId": "90484980-f5d6-4cd4-9664-2c71dcccac4a"
      },
      "source": [
        "%%writefile CarrinhoDeCompras.java\n",
        "\n",
        "import java.util.ArrayList;\n",
        "\n",
        "public class CarrinhoDeCompras {\n",
        "\t\n",
        "\tprivate ArrayList <Pizza> pizzas = new ArrayList <Pizza>();\n",
        "\tprivate double precoTotal = 0;\n",
        "\t\n",
        "\tpublic void addPizza(Pizza p)\n",
        " \t{\n",
        " \t\tif (!p.getIngrediente().isEmpty())\n",
        " \t\t{\n",
        " \t\t\tpizzas.add(p);\n",
        " \t\t}\n",
        " \t}\n",
        "\t\n",
        "\tpublic int totalPizzas()\n",
        "\t{\n",
        "\t\treturn pizzas.size();\n",
        "\t}\n",
        "\t\n",
        "\tpublic double getPrecoTotal()\n",
        "\t{\n",
        "\t\tfor(int i = 0; i< pizzas.size(); i++)\n",
        "\t\t{\n",
        "\t\t\tprecoTotal += pizzas.get(i).getPreco();\t\n",
        "\t\t}\n",
        "\t\t\n",
        "\t\treturn precoTotal;\n",
        "\t}\n",
        "}"
      ],
      "execution_count": null,
      "outputs": [
        {
          "output_type": "stream",
          "text": [
            "Writing CarrinhoDeCompras.java\n"
          ],
          "name": "stdout"
        }
      ]
    },
    {
      "cell_type": "code",
      "metadata": {
        "colab": {
          "base_uri": "https://localhost:8080/"
        },
        "id": "4r7FGG4LfNL4",
        "outputId": "c6e621f0-1d1b-4adc-d05e-058281a63e3a"
      },
      "source": [
        "%%writefile TestPizzaria.java\n",
        "\n",
        "public class TestPizzaria {\n",
        "    public static void main(String[] args) {\n",
        "\n",
        "\t\tPizza p1 = new Pizza();\n",
        "\t\tPizza p2 = new Pizza();\n",
        "\t\tPizza p3 = new Pizza();\n",
        "\n",
        "\t\tp1.addIngrediente(\"Mozzarella\");\n",
        "\t\tp1.addIngrediente(\"Palmito\");\n",
        "\t\t\n",
        "\t\tp2.addIngrediente(\"Azeitona\");\n",
        "\t\tp2.addIngrediente(\"Molho de Tomate\");\n",
        "\t\tp2.addIngrediente(\"Mozzarella\");\n",
        "\t\tp2.addIngrediente(\"Presunto\");\n",
        "\t\t\n",
        "\t\tp3.addIngrediente(\"Azeitona\");\t\t\n",
        "\t\tp3.addIngrediente(\"Cheddar\");\n",
        "\t\tp3.addIngrediente(\"Mozzarella\");\n",
        "\t\tp3.addIngrediente(\"Parmesao\");\n",
        "\t\tp3.addIngrediente(\"Presunto\");\n",
        "\t\tp3.addIngrediente(\"Requeijao\");\n",
        "\t\t\n",
        "\t\tCarrinhoDeCompras c = new CarrinhoDeCompras();\n",
        "\t\t\n",
        "\t\tc.addPizza(p1);\n",
        "\t\tc.addPizza(p2);\n",
        "\t\tc.addPizza(p3);\n",
        "\t\n",
        "\t\tSystem.out.println(\"Total de pizzas no carrinho: \" + c.totalPizzas());\n",
        "\t\tSystem.out.println(\"Valor total da compra: \" + c.getPrecoTotal());\t\t\n",
        "\t\tSystem.out.println(\"Lista de ingredientes usados: \\n\" + Pizza.getListaIngredientes());\t\n",
        "\t}\n",
        "}"
      ],
      "execution_count": null,
      "outputs": [
        {
          "output_type": "stream",
          "text": [
            "Writing TestPizzaria.java\n"
          ],
          "name": "stdout"
        }
      ]
    },
    {
      "cell_type": "code",
      "metadata": {
        "colab": {
          "base_uri": "https://localhost:8080/"
        },
        "id": "Z0KfAB-uiCIZ",
        "outputId": "16be0f9d-ed10-4e4e-cc69-6bead200acb2"
      },
      "source": [
        "!javac Pizza.java CarrinhoDeCompras.java TestPizzaria.java\n",
        "!java TestPizzaria"
      ],
      "execution_count": null,
      "outputs": [
        {
          "output_type": "stream",
          "text": [
            "Total de pizzas no carrinho: 3\n",
            "Valor total da compra: 58.0\n",
            "Lista de ingredientes usados: \n",
            "{Molho de Tomate=1, Cheddar=1, Azeitona=2, Requeijao=1, Mozzarella=3, Parmesao=1, Presunto=2, Palmito=1}\n"
          ],
          "name": "stdout"
        }
      ]
    },
    {
      "cell_type": "markdown",
      "metadata": {
        "id": "VLsJ7XnqlA36"
      },
      "source": [
        "##LISTA DE EXERCÍCIOS RESOLVIDOS\n",
        "\n",
        "###Exercício #1\n",
        "Implemente uma classe chamada Transacao, Conta e Cliente de acordo com o seguinte diagrama de classes:\n"
      ]
    },
    {
      "cell_type": "code",
      "metadata": {
        "colab": {
          "base_uri": "https://localhost:8080/"
        },
        "id": "QaMnqNt_ubha",
        "outputId": "29aa5ad1-109f-4cf0-9fbc-38de4e329678"
      },
      "source": [
        "%%writefile Conta.java\n",
        "\n",
        "import java.util.ArrayList;\n",
        "\n",
        "public class Conta{\n",
        "\tprivate int codigo;\n",
        "\tprivate Cliente cliente;\n",
        "  private ArrayList <Transacao> trans = new ArrayList <Transacao>();\n",
        "\tprivate int qTransacoes;\n",
        "\n",
        "  /* Construtor */\n",
        "  public Conta(){\n",
        "      this.codigo = 100;\n",
        "  }\n",
        "\n",
        "  /*seletores e modificadores */\n",
        "  public void setCodigo(int codigo){\n",
        "      this.codigo = codigo;\n",
        "  }\n",
        "\n",
        "  public void setCliente(Cliente cliente){\n",
        "      this.cliente = cliente;\n",
        "  }\n",
        "\n",
        "  public void addTransacao(Transacao t){\n",
        "      trans.add(t);\n",
        "      qTransacoes = trans.size();\n",
        "  }\n",
        "  public int getQTransacoes(){\n",
        "      return qTransacoes;\n",
        "  }\n",
        "}"
      ],
      "execution_count": null,
      "outputs": [
        {
          "output_type": "stream",
          "text": [
            "Writing Conta.java\n"
          ],
          "name": "stdout"
        }
      ]
    },
    {
      "cell_type": "code",
      "metadata": {
        "colab": {
          "base_uri": "https://localhost:8080/"
        },
        "id": "nXB65Rm2uiQw",
        "outputId": "9a0dcb38-95b9-46d3-c6b1-819eb229735b"
      },
      "source": [
        "%%writefile Transacao.java\n",
        "\n",
        "import java.util.Date;\n",
        "\n",
        "public class Transacao{\n",
        "\tprivate double valor;\n",
        "\tprivate char tipo;\n",
        "\tprivate Date data;\n",
        "\n",
        "  /* construtor */\n",
        "  public Transacao(double valor, char tipo, Date data){\n",
        "      this.valor = valor;\n",
        "      this.tipo = tipo;\n",
        "      this.data = data;\n",
        "  }\n",
        "\n",
        "  public Transacao(){\n",
        "      this.valor = 0.0;\n",
        "      this.tipo = 'A';\n",
        "      this.data = null;\n",
        "  }\n",
        "\n",
        "  /* metodos acessores e seletores */\n",
        "  public void setValor(double valor){\n",
        "      this.valor = valor;\n",
        "  }\n",
        "  public double getValor(){\n",
        "      return this.valor;\n",
        "  }\n",
        "\n",
        "  public void setTipo(char tipo){\n",
        "      this.tipo = tipo;\n",
        "  }\n",
        "  public char getTipo(){\n",
        "      return this.tipo;\n",
        "  }  \n",
        "\n",
        "  public void setData(Date data){\n",
        "      this.data = data;\n",
        "  }\n",
        "  public Date getData(){\n",
        "      return this.data;\n",
        "  }\n",
        "\n",
        "  @Override\n",
        "  public String toString(){\n",
        "      return \"Transacao [valor \"+valor+\", tipo \"+tipo+\", data \"+data+\"]\";\n",
        "  }\n",
        "}"
      ],
      "execution_count": null,
      "outputs": [
        {
          "output_type": "stream",
          "text": [
            "Writing Transacao.java\n"
          ],
          "name": "stdout"
        }
      ]
    },
    {
      "cell_type": "code",
      "metadata": {
        "colab": {
          "base_uri": "https://localhost:8080/"
        },
        "id": "uvogVuNYuqMw",
        "outputId": "4cca64dc-c577-48fa-ecfc-e65d9527b4f9"
      },
      "source": [
        "%%writefile Cliente.java\n",
        "\n",
        "public class Cliente{\n",
        "\tprivate String nome;\n",
        "\tprivate String endereco;\n",
        "\n",
        "  /* construtor */\n",
        "  public Cliente(String nome, String endereco){\n",
        "      this.nome = nome;\n",
        "      this.endereco = endereco;\n",
        "  }\n",
        "\n",
        "  public void setNome(String nome){\n",
        "      this.nome = nome;\n",
        "  }\n",
        "  public String getNome(){\n",
        "      return this.nome;\n",
        "  }\n",
        "\n",
        "  public void setEndereco(String endereco){\n",
        "      this.endereco = endereco;\n",
        "  }\n",
        "  public String getEndereco(){\n",
        "      return this.endereco;\n",
        "  }\n",
        "\n",
        "  @Override\n",
        "  public String toString(){\n",
        "      return \"Cliente [\"+nome+\", endereco \"+endereco+\"]\";\n",
        "  }\n",
        "}"
      ],
      "execution_count": null,
      "outputs": [
        {
          "output_type": "stream",
          "text": [
            "Writing Cliente.java\n"
          ],
          "name": "stdout"
        }
      ]
    },
    {
      "cell_type": "code",
      "metadata": {
        "colab": {
          "base_uri": "https://localhost:8080/"
        },
        "id": "RYdVClAKvieY",
        "outputId": "a0b6b7a5-2dc2-41fb-87c7-6cc4fabfcdd0"
      },
      "source": [
        "%%writefile TestBanco.java\n",
        "\n",
        "import java.util.Date;\n",
        "\n",
        "public class TestBanco{\n",
        "    public static void main(String[] args){\n",
        "      Conta conta = new Conta();\n",
        "      Cliente cliente = new Cliente(\"Ruben Manuel\", \"Rua Sempre viva 123\");\n",
        "\n",
        "      conta.setCodigo(100);\n",
        "      conta.setCliente(cliente);\n",
        "\n",
        "      Transacao cred1 = new Transacao();\n",
        "      cred1.setValor(1000.0);\n",
        "      cred1.setTipo('C');\n",
        "      cred1.setData(new Date());\n",
        "      conta.addTransacao(cred1);\n",
        "\n",
        "      Transacao cred2 = new Transacao();\n",
        "      cred2.setValor(2000.0);\n",
        "      cred2.setTipo('C');\n",
        "      cred2.setData(new Date());\n",
        "      conta.addTransacao(cred2);\n",
        "\n",
        "      System.out.println(cliente.toString());\n",
        "      System.out.println(cred1.toString());\n",
        "      System.out.println(cred2.toString());\n",
        "  }\n",
        "}"
      ],
      "execution_count": null,
      "outputs": [
        {
          "output_type": "stream",
          "text": [
            "Writing TestBanco.java\n"
          ],
          "name": "stdout"
        }
      ]
    },
    {
      "cell_type": "code",
      "metadata": {
        "colab": {
          "base_uri": "https://localhost:8080/"
        },
        "id": "ANdIsu9m36Hu",
        "outputId": "09d40ab3-40f6-466c-9ab6-3281df4a42f1"
      },
      "source": [
        "!javac Conta.java Transacao.java Cliente.java TestBanco.java\n",
        "!java TestBanco"
      ],
      "execution_count": null,
      "outputs": [
        {
          "output_type": "stream",
          "text": [
            "Cliente [Ruben Manuel, endereco Rua Sempre viva 123]\n",
            "Transacao [valor 1000.0, tipo C, data Sat Jun 19 01:47:19 UTC 2021]\n",
            "Transacao [valor 2000.0, tipo C, data Sat Jun 19 01:47:19 UTC 2021]\n"
          ],
          "name": "stdout"
        }
      ]
    }
  ]
}