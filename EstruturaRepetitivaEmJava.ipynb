{
  "nbformat": 4,
  "nbformat_minor": 0,
  "metadata": {
    "colab": {
      "name": "EstruturaRepetitivaEmJava.ipynb",
      "provenance": [],
      "authorship_tag": "ABX9TyMX/E56Url9l5B0qWRvwQ5G",
      "include_colab_link": true
    },
    "kernelspec": {
      "name": "python3",
      "display_name": "Python 3"
    },
    "language_info": {
      "name": "python"
    }
  },
  "cells": [
    {
      "cell_type": "markdown",
      "metadata": {
        "id": "view-in-github",
        "colab_type": "text"
      },
      "source": [
        "<a href=\"https://colab.research.google.com/github/omarlatorre/UEMS-PP-2021/blob/master/EstruturaRepetitivaEmJava.ipynb\" target=\"_parent\"><img src=\"https://colab.research.google.com/assets/colab-badge.svg\" alt=\"Open In Colab\"/></a>"
      ]
    },
    {
      "cell_type": "markdown",
      "metadata": {
        "id": "ldTkgKnExphX"
      },
      "source": [
        "#Estruturas Repetitivas em Java\n",
        "As estruturas de repetição também são conhecidas como laços (loops) e são utilizados para executar, repetidamente, uma instrução ou bloco de instrução enquanto determinada condição estiver sendo satisfeita.\n",
        "\n",
        "Qualquer que seja a estrutura de repetição, ela contém quatro elementos fundamentais: inicialização, condição, corpo e iteração. A inicialização compõe-se de todo código que determina a condição inicial da repetição. A condição é uma expressão booleana avaliada após cada leitura do corpo e determina se uma nova leitura deve ser feita ou se a estrutura de repetição deve ser encerrada. O corpo compõe-se de todas as instruções que são executadas repetidamente. A iteração é a instrução que deve ser executada depois do corpo e antes de uma nova repetição.\n",
        "\n",
        "##Estruturas de controle de repetição\n",
        "##While\n",
        "##Do – while\n",
        "##For"
      ]
    },
    {
      "cell_type": "code",
      "metadata": {
        "colab": {
          "base_uri": "https://localhost:8080/"
        },
        "id": "3aPWOtFhybwn",
        "outputId": "b0c7d9f0-f109-4bee-cec7-21d7764618d7"
      },
      "source": [
        "!pip install git+git://github.com/canesche/nvcc4jupyter.git\n",
        "!git clone https://github.com/canesche/nvcc4jupyter\n",
        "%load_ext nvcc_plugin"
      ],
      "execution_count": null,
      "outputs": [
        {
          "output_type": "stream",
          "text": [
            "Collecting git+git://github.com/canesche/nvcc4jupyter.git\n",
            "  Cloning git://github.com/canesche/nvcc4jupyter.git to /tmp/pip-req-build-qh1ysna3\n",
            "  Running command git clone -q git://github.com/canesche/nvcc4jupyter.git /tmp/pip-req-build-qh1ysna3\n",
            "Building wheels for collected packages: ColabPlugin\n",
            "  Building wheel for ColabPlugin (setup.py) ... \u001b[?25l\u001b[?25hdone\n",
            "  Created wheel for ColabPlugin: filename=ColabPlugin-blind-cp37-none-any.whl size=12717 sha256=c824bb3d07c1f00bc3f127157e692fc3ee2d90a6bc8c50d40a9406be15ac893f\n",
            "  Stored in directory: /tmp/pip-ephem-wheel-cache-ysogn0lu/wheels/87/ae/09/21c6e192181a0472e20ddd1d5212e2cbb113f00ebe14330d0d\n",
            "Successfully built ColabPlugin\n",
            "Installing collected packages: ColabPlugin\n",
            "Successfully installed ColabPlugin-blind\n",
            "Cloning into 'nvcc4jupyter'...\n",
            "remote: Enumerating objects: 1147, done.\u001b[K\n",
            "remote: Counting objects: 100% (362/362), done.\u001b[K\n",
            "remote: Compressing objects: 100% (271/271), done.\u001b[K\n",
            "remote: Total 1147 (delta 100), reused 328 (delta 74), pack-reused 785\u001b[K\n",
            "Receiving objects: 100% (1147/1147), 35.71 MiB | 20.30 MiB/s, done.\n",
            "Resolving deltas: 100% (554/554), done.\n"
          ],
          "name": "stdout"
        }
      ]
    },
    {
      "cell_type": "markdown",
      "metadata": {
        "id": "jakTdqmeyn4-"
      },
      "source": [
        "##Estrutura de repetição While\n",
        "**Exemplo** : Digitar um número e mostrar sua raiz quadrada com três casas decimais, depois repetir o procedimento. Quando o usuário digitar um número negativo (podendo inclusive ser na primeira vez), mostrar uma mensagem \"Negative number\" e terminar o programa."
      ]
    },
    {
      "cell_type": "code",
      "metadata": {
        "colab": {
          "base_uri": "https://localhost:8080/"
        },
        "id": "GGVN0xCTy_fm",
        "outputId": "4e4aa862-229e-4c63-b9ca-73c2f9b020e8"
      },
      "source": [
        "%%writefile EstruturaRepetitivaEx1.java\n",
        "\n",
        "import java.util.Scanner;\n",
        "import java.lang.Math;\n",
        "\n",
        "public class EstruturaRepetitivaEx1 {\n",
        "\n",
        "    public static void main(String[] args) {\n",
        "        Scanner sc = new Scanner(System.in);\n",
        "        System.out.print(\"Enter a number : \");\n",
        "        double number = sc.nextDouble();\n",
        "        while(number >= 0.0){\n",
        "            /* calculando a raiz quadrada de number */\n",
        "            System.out.println(String.format(\"%.3f\", Math.sqrt(number)));\n",
        "            System.out.print(\"Enter another number : \");\n",
        "            number = sc.nextDouble();\n",
        "        }\n",
        "        System.out.println(\"Negative number\");\n",
        "    }\n",
        "}"
      ],
      "execution_count": null,
      "outputs": [
        {
          "output_type": "stream",
          "text": [
            "Writing EstruturaRepetitivaEx1.java\n"
          ],
          "name": "stdout"
        }
      ]
    },
    {
      "cell_type": "code",
      "metadata": {
        "colab": {
          "base_uri": "https://localhost:8080/"
        },
        "id": "3yij28kk1Duv",
        "outputId": "0438fac2-d9c3-4613-b6a3-4c3a13cc74eb"
      },
      "source": [
        "!javac EstruturaRepetitivaEx1.java\n",
        "!java EstruturaRepetitivaEx1"
      ],
      "execution_count": null,
      "outputs": [
        {
          "output_type": "stream",
          "text": [
            "Enter a number : 5\n",
            "2.236\n",
            "Enter another number : 16\n",
            "4.000\n",
            "Enter another number : -7\n",
            "Negative number\n"
          ],
          "name": "stdout"
        }
      ]
    },
    {
      "cell_type": "markdown",
      "metadata": {
        "id": "yIPbRbb24sXq"
      },
      "source": [
        "##Estrutura de repetição Do-While\n",
        "**Exemplo** : Digitar um número e mostrar sua raiz quadrada, depois perguntar ao usuário se ele deseja repetir o procedimento (y/n). Caso ele responda 'y', repetir o procedimento."
      ]
    },
    {
      "cell_type": "code",
      "metadata": {
        "colab": {
          "base_uri": "https://localhost:8080/"
        },
        "id": "6KVaQSi-4-EG",
        "outputId": "89e72c96-13ff-4d33-c657-9ed91947f374"
      },
      "source": [
        "%%writefile EstruturaRepetitivaEx2.java\n",
        "\n",
        "import java.util.Scanner;\n",
        "import java.lang.Math;\n",
        "\n",
        "public class EstruturaRepetitivaEx2 {\n",
        "\n",
        "    public static void main(String[] args) {\n",
        "        Scanner sc = new Scanner(System.in);\n",
        "        char flag;\n",
        "\n",
        "        do{\n",
        "            System.out.print(\"Enter a number : \");\n",
        "            double number = sc.nextDouble();\n",
        "            /* calculando a raiz quadrada de number */\n",
        "            System.out.println(\"Square root = \"+String.format(\"%.3f\", Math.sqrt(number)));\n",
        "            System.out.print(\"Repeat (y/n)? \");\n",
        "            flag = sc.next().charAt(0);\n",
        "        }while(flag == 'y');\n",
        "    }\n",
        "}"
      ],
      "execution_count": null,
      "outputs": [
        {
          "output_type": "stream",
          "text": [
            "Writing EstruturaRepetitivaEx2.java\n"
          ],
          "name": "stdout"
        }
      ]
    },
    {
      "cell_type": "code",
      "metadata": {
        "colab": {
          "base_uri": "https://localhost:8080/"
        },
        "id": "jPZ6a0uA6hVg",
        "outputId": "8cf5ec6d-a4d5-466e-84bb-c2c400ae3ab7"
      },
      "source": [
        "!javac EstruturaRepetitivaEx2.java\n",
        "!java EstruturaRepetitivaEx2"
      ],
      "execution_count": null,
      "outputs": [
        {
          "output_type": "stream",
          "text": [
            "Enter a number : 4\n",
            "Square root = 2.000\n",
            "Repeat (y/n)? y\n",
            "Enter a number : 36\n",
            "Square root = 6.000\n",
            "Repeat (y/n)? n\n"
          ],
          "name": "stdout"
        }
      ]
    },
    {
      "cell_type": "markdown",
      "metadata": {
        "id": "BWNHbNVe7BB4"
      },
      "source": [
        "##Estrutura de repetição For\n",
        "**Exemplo** : Digitar um número N e depois N valores inteiros. Mostrar a soma dos N valores digitados."
      ]
    },
    {
      "cell_type": "code",
      "metadata": {
        "colab": {
          "base_uri": "https://localhost:8080/"
        },
        "id": "8y7joTEm7NyC",
        "outputId": "750a1145-85fa-42e1-f02f-1143049fdc4f"
      },
      "source": [
        "%%writefile EstruturaRepetitivaEx3.java\n",
        "\n",
        "import java.util.Scanner;\n",
        "import java.lang.Math;\n",
        "\n",
        "public class EstruturaRepetitivaEx3 {\n",
        "\n",
        "    public static void main(String[] args) {\n",
        "        Scanner sc = new Scanner(System.in);\n",
        "        System.out.print(\"How many integer numbers are you going to enter? \");\n",
        "        int number = sc.nextInt();\n",
        "        int iSoma = 0;\n",
        "        for(int i=0; i < number; i++){\n",
        "            System.out.print(\"Value #\"+(i+1)+\": \");\n",
        "            int iNumber = sc.nextInt();\n",
        "            iSoma += iNumber;\n",
        "        }\n",
        "        System.out.println(\"Sum = \"+iSoma);\n",
        "    }\n",
        "}"
      ],
      "execution_count": null,
      "outputs": [
        {
          "output_type": "stream",
          "text": [
            "Writing EstruturaRepetitivaEx3.java\n"
          ],
          "name": "stdout"
        }
      ]
    },
    {
      "cell_type": "code",
      "metadata": {
        "colab": {
          "base_uri": "https://localhost:8080/"
        },
        "id": "Chgn3cVE8pIv",
        "outputId": "0d87b1a0-a567-4552-c4c3-8b5704ddca18"
      },
      "source": [
        "!javac EstruturaRepetitivaEx3.java\n",
        "!java EstruturaRepetitivaEx3"
      ],
      "execution_count": null,
      "outputs": [
        {
          "output_type": "stream",
          "text": [
            "How many integer numbers are you going to enter? 5\n",
            "Value #1: 45\n",
            "Value #2: 67\n",
            "Value #3: 89\n",
            "Value #4: 127\n",
            "Value #5: 56\n",
            "Sum = 384\n"
          ],
          "name": "stdout"
        }
      ]
    },
    {
      "cell_type": "markdown",
      "metadata": {
        "id": "zTOPccW99K8C"
      },
      "source": [
        "##LISTA DE EXERCÍCIOS RESOLVIDOS\n",
        "\n",
        "###Exercício #1\n",
        "Considere um número inteiro positivo. Calcule o fatorial deste número. Use\n",
        "uma declaração for para resolver este problema."
      ]
    },
    {
      "cell_type": "code",
      "metadata": {
        "colab": {
          "base_uri": "https://localhost:8080/"
        },
        "id": "5q_yc_M3dR4i",
        "outputId": "7d0e9304-2696-487b-a9e4-5faed04af85a"
      },
      "source": [
        "%%writefile Exercicio_1.java\n",
        "\n",
        "import java.util.Scanner;\n",
        "\n",
        "public class Exercicio_1 {\n",
        "\n",
        "    public static void main(String[] args) {\n",
        "        Scanner sc = new Scanner(System.in);\n",
        "        System.out.print(\"Enter a number \");\n",
        "        int number = sc.nextInt();\n",
        "        int iFactorial = 1;\n",
        "        for(int i=0; i < number; i++){\n",
        "            iFactorial *= (i+1);\n",
        "        }\n",
        "        System.out.println(\"Factorial = \"+iFactorial);\n",
        "    }\n",
        "}"
      ],
      "execution_count": null,
      "outputs": [
        {
          "output_type": "stream",
          "text": [
            "Writing Exercicio_1.java\n"
          ],
          "name": "stdout"
        }
      ]
    },
    {
      "cell_type": "code",
      "metadata": {
        "colab": {
          "base_uri": "https://localhost:8080/"
        },
        "id": "qcphSRAneemI",
        "outputId": "491739aa-f777-432f-aea8-3e1d778fba4a"
      },
      "source": [
        "!javac Exercicio_1.java\n",
        "!java Exercicio_1"
      ],
      "execution_count": null,
      "outputs": [
        {
          "output_type": "stream",
          "text": [
            "Enter a number 5\n",
            "Factorial = 120\n"
          ],
          "name": "stdout"
        }
      ]
    },
    {
      "cell_type": "markdown",
      "metadata": {
        "id": "qqsFha-Xe9Bf"
      },
      "source": [
        "###Exercício #2\n",
        "Considere um número e um expoente inteiros positivos. Calcule este número\n",
        "elevado ao expoente. Faça três versões deste programa:\n",
        "<ol>\n",
        "<li> Use uma declaração while para resolver este problema </li>\n",
        "<li> Use uma declaração do while para resolver este problema </li>\n",
        "<li> Use uma declaração for para resolver este problema </li>\n",
        "</ol>"
      ]
    },
    {
      "cell_type": "code",
      "metadata": {
        "colab": {
          "base_uri": "https://localhost:8080/"
        },
        "id": "A5L14FlUfcyD",
        "outputId": "519cf829-2104-44e2-cf46-4d7aa0332cd0"
      },
      "source": [
        "%%writefile Exercicio_2.java\n",
        "\n",
        "import java.util.Scanner;\n",
        "\n",
        "public class Exercicio_2 {\n",
        "\n",
        "    public static void main(String[] args) {\n",
        "        /* considere a base e expoente */\n",
        "        Scanner sc = new Scanner(System.in);\n",
        "        System.out.print(\"Enter a number \");\n",
        "        int number = sc.nextInt();\n",
        "        System.out.print(\"Enter an exponent \");\n",
        "        int exponent = sc.nextInt();\n",
        "\n",
        "        /* criamos as variaveis resultados */\n",
        "        int iNumber1 = 1;\n",
        "        int iNumber2 = 1;\n",
        "        int iNumber3 = 1;\n",
        "\n",
        "        /* Estrutura repetitiva while ------------*/\n",
        "        int count1 = exponent;\n",
        "        while(count1 > 0){\n",
        "            iNumber1 *= number;\n",
        "            count1--;\n",
        "        }\n",
        "        System.out.println(\"WHILE, The exponent of a number is \"+iNumber1);\n",
        "\n",
        "        /* Estrutura repetitiva do-while ---------*/\n",
        "        int count2 = exponent;\n",
        "        do{\n",
        "          if(count2 == 0) break;\n",
        "          iNumber2 *= number;\n",
        "          count2--;\n",
        "        }while(count2 > 0);\n",
        "        System.out.println(\"DO-WHILE, The exponent of a number is \"+iNumber2);\n",
        "\n",
        "        /* Laço for ------------------------------*/\n",
        "        for(int i=0; i < exponent; i++){\n",
        "            iNumber3 *= number;\n",
        "        }\n",
        "        System.out.println(\"FOR, The exponent of a number is \"+iNumber3);\n",
        "    }\n",
        "}"
      ],
      "execution_count": null,
      "outputs": [
        {
          "output_type": "stream",
          "text": [
            "Writing Exercicio_2.java\n"
          ],
          "name": "stdout"
        }
      ]
    },
    {
      "cell_type": "code",
      "metadata": {
        "colab": {
          "base_uri": "https://localhost:8080/"
        },
        "id": "jSchtOQCgehG",
        "outputId": "576e05db-a9f4-4a2a-f9a2-d51f822f7838"
      },
      "source": [
        "!javac Exercicio_2.java\n",
        "!java Exercicio_2"
      ],
      "execution_count": null,
      "outputs": [
        {
          "output_type": "stream",
          "text": [
            "Enter a number 2\n",
            "Enter an exponent 3\n",
            "WHILE, The exponent of a number is 8\n",
            "DO-WHILE, The exponent of a number is 8\n",
            "FOR, The exponent of a number is 8\n"
          ],
          "name": "stdout"
        }
      ]
    },
    {
      "cell_type": "markdown",
      "metadata": {
        "id": "V_wvTREsh1w5"
      },
      "source": [
        "###Exercício #3\n",
        "Considere dois números inteiros positivos, use o algoritmo de Euclides para\n",
        "calcular o máximo comum divisor daqueles números."
      ]
    },
    {
      "cell_type": "code",
      "metadata": {
        "colab": {
          "base_uri": "https://localhost:8080/"
        },
        "id": "Ef1txCZeiBre",
        "outputId": "c60c71ca-4118-4bfe-fbd6-c7ec8174bbef"
      },
      "source": [
        "%%writefile Exercicio_3.java\n",
        "\n",
        "import java.util.Scanner;\n",
        "\n",
        "public class Exercicio_3 {\n",
        "\n",
        "    public static void main(String[] args) {\n",
        "        Scanner sc = new Scanner(System.in);\n",
        "        System.out.print(\"Enter a number \");\n",
        "        int number_1 = sc.nextInt();\n",
        "        System.out.print(\"Enter another number \");\n",
        "        int number_2 = sc.nextInt();\n",
        "        System.out.print(\"The mcd(\"+number_1+\", \"+number_2+\") = \");\n",
        "        while(number_2 != 0){\n",
        "            int resto = number_1 % number_2;\n",
        "            number_1 = number_2;\n",
        "            number_2 = resto; \n",
        "        }\n",
        "        System.out.println(number_1);\n",
        "    }\n",
        "}"
      ],
      "execution_count": null,
      "outputs": [
        {
          "output_type": "stream",
          "text": [
            "Writing Exercicio_3.java\n"
          ],
          "name": "stdout"
        }
      ]
    },
    {
      "cell_type": "code",
      "metadata": {
        "colab": {
          "base_uri": "https://localhost:8080/"
        },
        "id": "h2l1Cbavqec3",
        "outputId": "b46a82e4-fdb6-4d0a-9426-8614a8744ab6"
      },
      "source": [
        "!javac Exercicio_3.java\n",
        "!java Exercicio_3"
      ],
      "execution_count": null,
      "outputs": [
        {
          "output_type": "stream",
          "text": [
            "Enter a number 12\n",
            "Enter another number 18\n",
            "The mcd(12, 18) = 6\n"
          ],
          "name": "stdout"
        }
      ]
    }
  ]
}