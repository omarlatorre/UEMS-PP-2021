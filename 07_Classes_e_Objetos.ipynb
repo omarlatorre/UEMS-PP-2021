{
  "nbformat": 4,
  "nbformat_minor": 0,
  "metadata": {
    "colab": {
      "name": "07_Classes-e-Objetos.ipynb",
      "provenance": [],
      "authorship_tag": "ABX9TyOzsnrlIt7A970YkGR41WLg",
      "include_colab_link": true
    },
    "kernelspec": {
      "name": "python3",
      "display_name": "Python 3"
    },
    "language_info": {
      "name": "python"
    }
  },
  "cells": [
    {
      "cell_type": "markdown",
      "metadata": {
        "id": "view-in-github",
        "colab_type": "text"
      },
      "source": [
        "<a href=\"https://colab.research.google.com/github/omarlatorre/UEMS-PP-2021/blob/master/07_Classes_e_Objetos.ipynb\" target=\"_parent\"><img src=\"https://colab.research.google.com/assets/colab-badge.svg\" alt=\"Open In Colab\"/></a>"
      ]
    },
    {
      "cell_type": "markdown",
      "metadata": {
        "id": "fpBSJjRrUA92"
      },
      "source": [
        "#Classes e Objetos\n",
        "Uma classe é um grupo de objetos que possuem propriedades comuns. É um modelo ou blueprint a partir do qual os objetos são criados. É uma entidade lógica. Não pode ser físico.\n",
        "\n",
        "Uma classe Java pode conter:\n",
        "<ul>\n",
        "<li>Variáveis</li>\n",
        "<li>Métodos</li>\n",
        "<li>Construtores</li>\n",
        "<li>Blocos</li>\n",
        "<li>Classe e interface</li>\n",
        "</ul>"
      ]
    },
    {
      "cell_type": "code",
      "metadata": {
        "colab": {
          "base_uri": "https://localhost:8080/"
        },
        "id": "th2S3iN0VsML",
        "outputId": "f3de9395-dbd2-48fa-9786-0ffc6cfa9ff5"
      },
      "source": [
        "!pip install git+git://github.com/canesche/nvcc4jupyter.git\n",
        "!git clone https://github.com/canesche/nvcc4jupyter\n",
        "%load_ext nvcc_plugin"
      ],
      "execution_count": 1,
      "outputs": [
        {
          "output_type": "stream",
          "text": [
            "Collecting git+git://github.com/canesche/nvcc4jupyter.git\n",
            "  Cloning git://github.com/canesche/nvcc4jupyter.git to /tmp/pip-req-build-y5a1mz3j\n",
            "  Running command git clone -q git://github.com/canesche/nvcc4jupyter.git /tmp/pip-req-build-y5a1mz3j\n",
            "Building wheels for collected packages: ColabPlugin\n",
            "  Building wheel for ColabPlugin (setup.py) ... \u001b[?25l\u001b[?25hdone\n",
            "  Created wheel for ColabPlugin: filename=ColabPlugin-blind-cp37-none-any.whl size=12726 sha256=cf3114cda5fad8c906943765f43db420ed4f32af3c34804e15addd8d2db9c2bb\n",
            "  Stored in directory: /tmp/pip-ephem-wheel-cache-copli7e4/wheels/87/ae/09/21c6e192181a0472e20ddd1d5212e2cbb113f00ebe14330d0d\n",
            "Successfully built ColabPlugin\n",
            "Installing collected packages: ColabPlugin\n",
            "Successfully installed ColabPlugin-blind\n",
            "Cloning into 'nvcc4jupyter'...\n",
            "remote: Enumerating objects: 1147, done.\u001b[K\n",
            "remote: Counting objects: 100% (362/362), done.\u001b[K\n",
            "remote: Compressing objects: 100% (271/271), done.\u001b[K\n",
            "remote: Total 1147 (delta 100), reused 328 (delta 74), pack-reused 785\u001b[K\n",
            "Receiving objects: 100% (1147/1147), 35.71 MiB | 21.66 MiB/s, done.\n",
            "Resolving deltas: 100% (554/554), done.\n"
          ],
          "name": "stdout"
        }
      ]
    },
    {
      "cell_type": "markdown",
      "metadata": {
        "id": "HITB0oRaKmE2"
      },
      "source": [
        "##Criando uma classe em Java\n",
        "A declaração de uma classe em Java é bastante simples. Utilizamos a palavra reservada class seguida pelo nome da classe. Logo após, entre chaves, definimos os elementos a ela relacionados: atributos, construtores e métodos. Sintaxe de declaração de classe:"
      ]
    },
    {
      "cell_type": "code",
      "metadata": {
        "colab": {
          "base_uri": "https://localhost:8080/"
        },
        "id": "XrB2m1eVWEBm",
        "outputId": "40c4a053-3359-4033-d71a-cacb57bc199c"
      },
      "source": [
        "%%writefile Carro.java\n",
        "\n",
        "class Carro {\n",
        "    /* atributos */\n",
        "    /* construtores */\n",
        "    /* metodos */\n",
        "}"
      ],
      "execution_count": 2,
      "outputs": [
        {
          "output_type": "stream",
          "text": [
            "Writing Carro.java\n"
          ],
          "name": "stdout"
        }
      ]
    },
    {
      "cell_type": "code",
      "metadata": {
        "id": "GH2kXPXxWdU3"
      },
      "source": [
        "!javac Carro.java"
      ],
      "execution_count": 3,
      "outputs": []
    },
    {
      "cell_type": "markdown",
      "metadata": {
        "id": "N9k8qhnAhVmV"
      },
      "source": [
        "##Atributos da classe\n",
        "Atributos são as características de um objeto, essas características também são conhecidas como variáveis, utilizando o exemplo dos carros, temos alguns atributos, tais como: nome, potencia e velocidade."
      ]
    },
    {
      "cell_type": "code",
      "metadata": {
        "colab": {
          "base_uri": "https://localhost:8080/"
        },
        "id": "6TH4B9OhhamW",
        "outputId": "9754a2c9-f8f3-4419-d4da-516b27175c6c"
      },
      "source": [
        "%%writefile Carro.java\n",
        "\n",
        "class Carro {\n",
        "    /* Atributos */\n",
        "    String nome;\n",
        "    int potencia;\n",
        "    int velocidade;\n",
        "}"
      ],
      "execution_count": 4,
      "outputs": [
        {
          "output_type": "stream",
          "text": [
            "Overwriting Carro.java\n"
          ],
          "name": "stdout"
        }
      ]
    },
    {
      "cell_type": "code",
      "metadata": {
        "id": "8lHmKsFjhmYk"
      },
      "source": [
        "!javac Carro.java"
      ],
      "execution_count": 5,
      "outputs": []
    },
    {
      "cell_type": "markdown",
      "metadata": {
        "id": "HHjd6R79hrVX"
      },
      "source": [
        "##Metodos da classe\n",
        "Métodos são as ações que os objetos podem exercer quando solicitados, onde podem interagir e se comunicarem com outros objetos, utilizando o exemplo dos carros, temos alguns exemplos: acelerar, frear, getVelocidade.\n",
        "\n",
        "Implementando a classe \"Carro\" além dos Atributos, agora com Métodos:"
      ]
    },
    {
      "cell_type": "code",
      "metadata": {
        "colab": {
          "base_uri": "https://localhost:8080/"
        },
        "id": "xZH-0EiIhuv1",
        "outputId": "0f18773b-f0fa-4a0e-e236-e18a1208362c"
      },
      "source": [
        "%%writefile Carro.java\n",
        "\n",
        "class Carro {\n",
        "    /* Atributos */\n",
        "    String nome;\n",
        "    int potencia;\n",
        "    int velocidade;\n",
        "    \n",
        "    /* Metodos */\n",
        "    void acelerar(){\n",
        "        velocidade += potencia;\n",
        "    }\n",
        "    \n",
        "    void frear(){\n",
        "        velocidade = velocidade /2;\n",
        "    }\n",
        "    \n",
        "    int getVelocidade(){\n",
        "        return velocidade;\n",
        "    }\n",
        "    \n",
        "    @Override\n",
        "    public String toString(){\n",
        "        return \"Carro [\"+nome+\", potencia \"+potencia+\n",
        "                \", velocidade \"+velocidade+\"]\";\n",
        "    }\n",
        "}"
      ],
      "execution_count": null,
      "outputs": [
        {
          "output_type": "stream",
          "text": [
            "Overwriting Carro.java\n"
          ],
          "name": "stdout"
        }
      ]
    },
    {
      "cell_type": "code",
      "metadata": {
        "id": "ePsSEEkZlJwv"
      },
      "source": [
        "!javac Carro.java"
      ],
      "execution_count": null,
      "outputs": []
    },
    {
      "cell_type": "markdown",
      "metadata": {
        "id": "HR90Voopkjjh"
      },
      "source": [
        "##Instanciando a classe Carro\n",
        "Uma instância é ação de criar um objeto. Quando dizemos que Corcel pertence a classe carro, podemos dizer que Corcel é uma instância da classe carro. Da mesma forma, Subaro também é uma instância da classe carro."
      ]
    },
    {
      "cell_type": "code",
      "metadata": {
        "colab": {
          "base_uri": "https://localhost:8080/"
        },
        "id": "D3sEuYffkoTT",
        "outputId": "fd87a9ee-e3de-4218-8546-033feaad33ff"
      },
      "source": [
        "%%writefile TestCarro.java\n",
        "\n",
        "public class TestCarro {\n",
        "\tpublic static void main(String[] args){\n",
        "      /*Instanciando a classe Carro */\n",
        "      /* criando um objeto da classe Carro */\n",
        "      Carro c1 = new Carro();\n",
        "      c1.nome = \"Corcel\";\n",
        "      c1.potencia = 10;\n",
        "      c1.velocidade = 0;\n",
        "      \n",
        "      c1.acelerar(); // velocidade = 10\n",
        "      c1.acelerar(); // velocidade = 20 \n",
        "      c1.acelerar(); // velocidade = 30\n",
        "      c1.frear();    // velocidade = 15\n",
        "      \n",
        "      Carro c2 = new Carro();\n",
        "      c2.nome = \"Subaro\";\n",
        "      c2.potencia = 15;\n",
        "      c2.velocidade = 0;\n",
        "        \n",
        "      System.out.println(c1.toString());\n",
        "      System.out.println(c2.toString());\n",
        "\t}\n",
        "}"
      ],
      "execution_count": null,
      "outputs": [
        {
          "output_type": "stream",
          "text": [
            "Overwriting TestCarro.java\n"
          ],
          "name": "stdout"
        }
      ]
    },
    {
      "cell_type": "code",
      "metadata": {
        "colab": {
          "base_uri": "https://localhost:8080/"
        },
        "id": "_vGs5ATRlNw8",
        "outputId": "2c633cd0-c4ae-4660-838a-fa53cb482f8a"
      },
      "source": [
        "!javac Carro.java TestCarro.java\n",
        "!java TestCarro "
      ],
      "execution_count": null,
      "outputs": [
        {
          "output_type": "stream",
          "text": [
            "Carro [Corcel, potencia 10, velocidade 15]\n",
            "Carro [Subaro, potencia 15, velocidade 0]\n"
          ],
          "name": "stdout"
        }
      ]
    },
    {
      "cell_type": "markdown",
      "metadata": {
        "id": "Z_klPiRno8pb"
      },
      "source": [
        "##Classes e Objetos em Python\n",
        "Em Python uma classe associa dados (atributos) e operações (métodos) numa só estrutura. Um objeto é uma instância de uma classe. Ou seja, uma representação da classe. Por exemplo, Corcel é uma instância de uma classe chamada Carro, mas a Carro é a classe que o representa de uma forma genérica. Se você criar um outro objeto chamado Subaro, esse objeto também será uma instancia da classe Carro."
      ]
    },
    {
      "cell_type": "code",
      "metadata": {
        "colab": {
          "base_uri": "https://localhost:8080/"
        },
        "id": "aqVESYhrur0s",
        "outputId": "57d49d20-d49d-424b-b369-bcc9cdd82ae3"
      },
      "source": [
        "%%writefile Carro.py\n",
        "\n",
        "class Carro:\n",
        "  def __init__(self, nome, potencia, velocidade):\n",
        "    type(self).nome = nome\n",
        "    type(self).potencia = potencia\n",
        "    type(self).velocidade = velocidade\n",
        "\n",
        "  @classmethod\n",
        "  def acelerar(cls):\n",
        "    cls.velocidade += cls.potencia\n",
        "\n",
        "  @classmethod\n",
        "  def frear(cls):\n",
        "    cls.velocidade = cls.velocidade / 2\n",
        "\n",
        "  @classmethod\n",
        "  def getVelocidade(cls):\n",
        "    return cls.velocidade\n",
        "\n",
        "  @classmethod\n",
        "  def toString(cls):\n",
        "    return \"Carro [\"+cls.nome+\", potencia \"+str(cls.potencia)+\", velocidade \"+str(cls.velocidade)+\"]\"\n",
        "\n",
        "c1 = Carro(\"Corcel\",10,0)\n",
        "c1.acelerar()\n",
        "c1.acelerar()\n",
        "c1.acelerar()\n",
        "c1.frear()\n",
        "print(c1.toString())\n",
        "\n",
        "c2 = Carro(\"Subaro\",15,0)\n",
        "print(c2.toString())"
      ],
      "execution_count": null,
      "outputs": [
        {
          "output_type": "stream",
          "text": [
            "Writing Carro.py\n"
          ],
          "name": "stdout"
        }
      ]
    },
    {
      "cell_type": "code",
      "metadata": {
        "colab": {
          "base_uri": "https://localhost:8080/"
        },
        "id": "2i4XG07FqaAK",
        "outputId": "c1e266b4-9291-456a-f825-0141298e926d"
      },
      "source": [
        "!python3 Carro.py"
      ],
      "execution_count": null,
      "outputs": [
        {
          "output_type": "stream",
          "text": [
            "Carro [Corcel, potencia 10, velocidade 15.0]\n",
            "Carro [Subaro, potencia 15, velocidade 0]\n"
          ],
          "name": "stdout"
        }
      ]
    },
    {
      "cell_type": "markdown",
      "metadata": {
        "id": "G6uayG-XqzQE"
      },
      "source": [
        "##LISTA DE EXERCÍCIOS RESOLVIDOS\n",
        "\n",
        "###Exercício #1\n",
        "Implemente uma classe chamada Paciente que possui um construtor que recebe o seu peso em quilos e sua altura em metros, ambos utilizando o tipo double. Crie um método chamado calcularIMC() que calcula o índice de Massa Corporal de acordo com a fórmula IMC = peso (quilos) / (altura * altura (metros)). Também crie a classe Principal para criar um objeto, uma instancia da classe Paciente, leia do teclado os valores de seus atributos, finalmente imprima seu peso, sua altura e seu IMC correspondentes."
      ]
    },
    {
      "cell_type": "code",
      "metadata": {
        "colab": {
          "base_uri": "https://localhost:8080/"
        },
        "id": "DZSOXnsdfKdu",
        "outputId": "a17ac775-940d-43e3-dd31-498deb288661"
      },
      "source": [
        "%%writefile Paciente.java\n",
        "\n",
        "public class Paciente {\n",
        "    // atributos\n",
        "    private double peso;\n",
        "    private double altura;\n",
        "    \n",
        "    // construtor\n",
        "    public Paciente(double peso, double altura){\n",
        "        this.peso = peso;\n",
        "        this.altura = altura;\n",
        "    }\n",
        "    \n",
        "    // metodos de acesso\n",
        "    public double getPeso(){\n",
        "        return peso;\n",
        "    }\n",
        "    \n",
        "    public double getAltura(){\n",
        "        return altura;\n",
        "    }\n",
        "    \n",
        "    public double calcularIMC(){\n",
        "        return peso / (altura * altura);\n",
        "    }\n",
        "    \n",
        "    @Override\n",
        "    public String toString() {\n",
        "        return \"Paciente [peso=\" + peso + \", altura=\" + altura \n",
        "\t\t\t\t  + \", calcularIMC()=\" + calcularIMC() + \"]\";\n",
        "    }\n",
        "}"
      ],
      "execution_count": null,
      "outputs": [
        {
          "output_type": "stream",
          "text": [
            "Writing Paciente.java\n"
          ],
          "name": "stdout"
        }
      ]
    },
    {
      "cell_type": "code",
      "metadata": {
        "colab": {
          "base_uri": "https://localhost:8080/"
        },
        "id": "cOAk8ybefUVb",
        "outputId": "d2a96587-b9a1-4a64-a6a1-9faa5d272666"
      },
      "source": [
        "%%writefile TestPaciente.java\n",
        "\n",
        "import java.util.Scanner;\n",
        "\n",
        "public class TestPaciente {\n",
        "\tpublic static void main(String args[]) {\n",
        "      // ler do teclado\n",
        "       Scanner in = new Scanner( System.in );\n",
        "       System.out.println(\"Digite seu peso em Kg: \");\n",
        "       // ler os atributos da instancia Paciente\n",
        "       double peso = in.nextDouble();\n",
        "       System.out.println(\"Digite sua altura em metros: \");\n",
        "       double altura = in.nextDouble();\n",
        "       \n",
        "       // instanciando a classe Paciente\n",
        "       Paciente paciente = new Paciente(peso, altura);\n",
        "       System.out.printf(paciente.toString());\n",
        "\t}\n",
        "}"
      ],
      "execution_count": null,
      "outputs": [
        {
          "output_type": "stream",
          "text": [
            "Writing TestPaciente.java\n"
          ],
          "name": "stdout"
        }
      ]
    },
    {
      "cell_type": "code",
      "metadata": {
        "colab": {
          "base_uri": "https://localhost:8080/"
        },
        "id": "VVmUtXnNfgfz",
        "outputId": "60c934cb-4052-4ad0-c6b1-696fa0502ea5"
      },
      "source": [
        "!javac Paciente.java TestPaciente.java\n",
        "!java TestPaciente "
      ],
      "execution_count": null,
      "outputs": [
        {
          "output_type": "stream",
          "text": [
            "Digite seu peso em Kg: \n",
            "45\n",
            "Digite sua altura em metros: \n",
            "1.45\n",
            "Paciente [peso=45.0, altura=1.45, calcularIMC()=21.40309155766944]"
          ],
          "name": "stdout"
        }
      ]
    },
    {
      "cell_type": "code",
      "metadata": {
        "colab": {
          "base_uri": "https://localhost:8080/"
        },
        "id": "PmXW7XnCaINy",
        "outputId": "313a237d-f530-42ce-b7fb-7ff75622341b"
      },
      "source": [
        "class Paciente:\n",
        "  def __init__(self, peso, altura):\n",
        "    type(self).peso = peso\n",
        "    type(self).altura = altura\n",
        "  \n",
        "  @classmethod\n",
        "  def getPeso(cls):\n",
        "    return cls.peso\n",
        "  \n",
        "  @classmethod\n",
        "  def getAltura(cls):\n",
        "    return cls.altura\n",
        "  \n",
        "  @classmethod\n",
        "  def calcularIMC(cls):\n",
        "    return cls.peso / (cls.altura * cls.altura)\n",
        "  \n",
        "  @classmethod\n",
        "  def toString(cls):\n",
        "    return \"Paciente [peso=\" + str(cls.peso) + \", altura=\" + str(cls.altura) + \", calcularIMC()=\" + str(cls.calcularIMC()) + \"]\"\n",
        "\n",
        "peso = 45.0\n",
        "altura = 1.45\n",
        "paciente = Paciente(peso, altura)\n",
        "print(paciente.toString())"
      ],
      "execution_count": null,
      "outputs": [
        {
          "output_type": "stream",
          "text": [
            "Paciente [peso=45.0, altura=1.45, calcularIMC()=21.40309155766944]\n"
          ],
          "name": "stdout"
        }
      ]
    }
  ]
}