{
  "nbformat": 4,
  "nbformat_minor": 0,
  "metadata": {
    "colab": {
      "name": "EstruturaCondicionalEmJava.ipynb",
      "provenance": [],
      "authorship_tag": "ABX9TyMS00rWxllW4XRdHGZncJyt",
      "include_colab_link": true
    },
    "kernelspec": {
      "name": "python3",
      "display_name": "Python 3"
    },
    "language_info": {
      "name": "python"
    }
  },
  "cells": [
    {
      "cell_type": "markdown",
      "metadata": {
        "id": "view-in-github",
        "colab_type": "text"
      },
      "source": [
        "<a href=\"https://colab.research.google.com/github/omarlatorre/UEMS-PP-2021/blob/master/EstruturaCondicionalEmJava.ipynb\" target=\"_parent\"><img src=\"https://colab.research.google.com/assets/colab-badge.svg\" alt=\"Open In Colab\"/></a>"
      ]
    },
    {
      "cell_type": "markdown",
      "metadata": {
        "id": "07IvHIChQF3J"
      },
      "source": [
        "#Estruturas Condicionais em Java\n",
        "\n",
        "As estruturas condicionais possibilitam ao programa tomar decisões e alterar o seu fluxo de execução. Isso possibilita ao desenvolvedor o poder de controlar quais são as tarefas e trechos de código executados de acordo com diferentes situações, como os valores de variáveis.\n",
        "\n",
        "As estruturas condicionais geralmente analisam expressões booleanas e, caso estas expressões sejam verdadeiras, um trecho do código é executado. No caso contrário, outro trecho do código é executado.\n",
        "\n",
        "###Estruturas de controle de decisão \n",
        "###Sintaxe alternativa: switch-case \n",
        "###Expressão condicional ternária\n"
      ]
    },
    {
      "cell_type": "code",
      "metadata": {
        "colab": {
          "base_uri": "https://localhost:8080/"
        },
        "id": "HF3-J60sBOWu",
        "outputId": "bc4f644e-fdb9-4cc9-b56d-ae27f62690c3"
      },
      "source": [
        "!pip install git+git://github.com/canesche/nvcc4jupyter.git\n",
        "!git clone https://github.com/canesche/nvcc4jupyter\n",
        "%load_ext nvcc_plugin"
      ],
      "execution_count": 1,
      "outputs": [
        {
          "output_type": "stream",
          "text": [
            "Collecting git+git://github.com/canesche/nvcc4jupyter.git\n",
            "  Cloning git://github.com/canesche/nvcc4jupyter.git to /tmp/pip-req-build-69uy1x6r\n",
            "  Running command git clone -q git://github.com/canesche/nvcc4jupyter.git /tmp/pip-req-build-69uy1x6r\n",
            "Building wheels for collected packages: ColabPlugin\n",
            "  Building wheel for ColabPlugin (setup.py) ... \u001b[?25l\u001b[?25hdone\n",
            "  Created wheel for ColabPlugin: filename=ColabPlugin-blind-cp37-none-any.whl size=12717 sha256=e9ebc45e894659339ec035891e3e9c57cf2950a0c16b80928842c22747ea811d\n",
            "  Stored in directory: /tmp/pip-ephem-wheel-cache-sm6cxnr6/wheels/87/ae/09/21c6e192181a0472e20ddd1d5212e2cbb113f00ebe14330d0d\n",
            "Successfully built ColabPlugin\n",
            "Installing collected packages: ColabPlugin\n",
            "Successfully installed ColabPlugin-blind\n",
            "Cloning into 'nvcc4jupyter'...\n",
            "remote: Enumerating objects: 1147, done.\u001b[K\n",
            "remote: Counting objects: 100% (362/362), done.\u001b[K\n",
            "remote: Compressing objects: 100% (271/271), done.\u001b[K\n",
            "remote: Total 1147 (delta 100), reused 328 (delta 74), pack-reused 785\u001b[K\n",
            "Receiving objects: 100% (1147/1147), 35.71 MiB | 21.54 MiB/s, done.\n",
            "Resolving deltas: 100% (554/554), done.\n"
          ],
          "name": "stdout"
        }
      ]
    },
    {
      "cell_type": "markdown",
      "metadata": {
        "id": "ySyE7v7xR8dX"
      },
      "source": [
        "##Estruturas de controle de decisão\n",
        "**Exemplo**: determinar o maior de três números inteiros positivos."
      ]
    },
    {
      "cell_type": "code",
      "metadata": {
        "colab": {
          "base_uri": "https://localhost:8080/"
        },
        "id": "28jjouxCBp8M",
        "outputId": "23ca6aec-0f36-47a5-cca2-3afb26bc76b9"
      },
      "source": [
        "%%java\n",
        "\n",
        "public class EstruturaCondicionalEx1 {\n",
        "\n",
        "    public static void main(String[] args) {\n",
        "        int a = 36;\n",
        "        int b = 87;\n",
        "        int c = 145;\n",
        "        if (a > b && a > c) {\n",
        "            System.out.println(\"Higher = \" + a);\n",
        "        }\n",
        "        else if (b > c) {\n",
        "            System.out.println(\"Higher = \" + b);\n",
        "        }\n",
        "        else {\n",
        "            System.out.println(\"Higher = \" + c);\n",
        "        }\n",
        "    }\n",
        "}"
      ],
      "execution_count": null,
      "outputs": [
        {
          "output_type": "stream",
          "text": [
            "Higher = 145\n",
            "\n"
          ],
          "name": "stdout"
        }
      ]
    },
    {
      "cell_type": "markdown",
      "metadata": {
        "id": "5lpX827BSEEF"
      },
      "source": [
        "##Sintaxe alternativa: switch-case\n",
        "Comparação entre estruturas de controle condicional aninhadas versus estrutura switch-case\n",
        "\n",
        "**Exemplo** : dada uma variavel inteira, o exemplo determina o dia da semana correspondente."
      ]
    },
    {
      "cell_type": "code",
      "metadata": {
        "colab": {
          "base_uri": "https://localhost:8080/"
        },
        "id": "lhw226pGHHNS",
        "outputId": "c6ab39f2-9f3d-4c47-edb8-9d36f0537e21"
      },
      "source": [
        "%%java\n",
        "\n",
        "public class EstruturaCondicionalEx2 {\n",
        "    public static void main(String[] args) {\n",
        "        int x = 8;\n",
        "        String day;\n",
        "        if (x == 1) {\n",
        "            day = \"Sunday\";\n",
        "        }\n",
        "        else if (x == 2) {\n",
        "            day = \"Monday\";\n",
        "        }\n",
        "        else if (x == 3) {\n",
        "            day = \"Tuesday\";\n",
        "        }\n",
        "        else if (x == 4) {\n",
        "            day = \"Wednesday\";\n",
        "        }\n",
        "        else if (x == 5) {\n",
        "            day = \"Thursday\";\n",
        "        }\n",
        "        else if (x == 6) {\n",
        "            day = \"Friday\";\n",
        "        }\n",
        "        else if (x == 7) {\n",
        "            day = \"Saturday\";\n",
        "        }\n",
        "        else {\n",
        "            day = \"Invalid value\";\n",
        "        }\n",
        "        System.out.println(\"Day: \" + day);\n",
        "    }\n",
        "}"
      ],
      "execution_count": null,
      "outputs": [
        {
          "output_type": "stream",
          "text": [
            "Day: Invalid value\n",
            "\n"
          ],
          "name": "stdout"
        }
      ]
    },
    {
      "cell_type": "code",
      "metadata": {
        "colab": {
          "base_uri": "https://localhost:8080/"
        },
        "id": "xkJ_Us5XIJVA",
        "outputId": "4267f4f6-1f5e-45a8-9a41-3894eea9764d"
      },
      "source": [
        "%%java\n",
        "\n",
        "public class EstruturaCondicionalEx3 {\n",
        "    public static void main(String[] args) {\n",
        "        int x = 8;\n",
        "        String day;\n",
        "        switch (x) {\n",
        "            case 1:\n",
        "              day = \"Sunday\";\n",
        "              break;\n",
        "            case 2:\n",
        "              day = \"Monday\";\n",
        "              break;\n",
        "            case 3:\n",
        "              day = \"Tuesday\";\n",
        "              break;\n",
        "            case 4:\n",
        "              day = \"Wednesday\";\n",
        "              break;\n",
        "            case 5:\n",
        "              day = \"Thursday\";\n",
        "              break;\n",
        "            case 6:\n",
        "              day = \"Friday\";\n",
        "              break;\n",
        "            case 7:\n",
        "              day = \"Saturday\";\n",
        "              break;\n",
        "            default:\n",
        "              day = \"Invalid value\";\n",
        "        }\n",
        "        System.out.println(\"Day: \" + day);\n",
        "    }\n",
        "}"
      ],
      "execution_count": null,
      "outputs": [
        {
          "output_type": "stream",
          "text": [
            "Day: Invalid value\n",
            "\n"
          ],
          "name": "stdout"
        }
      ]
    },
    {
      "cell_type": "markdown",
      "metadata": {
        "id": "Cxrs8cQ-SnEO"
      },
      "source": [
        "##Expressão condicional ternária\n",
        "**Exemplo** : fazer o desconto de 10% quando o preço for menor a 20 caso contrário fazer o desconto de 5%."
      ]
    },
    {
      "cell_type": "code",
      "metadata": {
        "colab": {
          "base_uri": "https://localhost:8080/"
        },
        "id": "uA0PZJHzJYMG",
        "outputId": "2224d078-39cd-42ca-a3e0-b12de6619ef8"
      },
      "source": [
        "%%java\n",
        "\n",
        "public class EstruturaCondicionalEx4 {\n",
        "    public static void main(String[] args){\n",
        "        double preco = 34.5;\n",
        "        double desconto;\n",
        "        if (preco < 20.0) {\n",
        "            desconto = preco * 0.1;\n",
        "        }\n",
        "        else {\n",
        "            desconto = preco * 0.05;\n",
        "        }\n",
        "        System.out.println(\"preco = \"+preco);\n",
        "        System.out.println(\"desconto = \"+desconto);\n",
        "\t\t    /*------------------------------------------------------------------*/\n",
        "        desconto = (preco < 20.0) ? preco * 0.1 : preco * 0.05;\n",
        "        System.out.println(\"preco = \"+preco);\n",
        "        System.out.println(\"desconto = \"+desconto);\n",
        "    }\n",
        "}"
      ],
      "execution_count": 3,
      "outputs": [
        {
          "output_type": "stream",
          "text": [
            "preco = 34.5\n",
            "desconto = 1.725\n",
            "preco = 34.5\n",
            "desconto = 1.725\n",
            "\n"
          ],
          "name": "stdout"
        }
      ]
    },
    {
      "cell_type": "markdown",
      "metadata": {
        "id": "ku9_9NcDKXx-"
      },
      "source": [
        "##LISTA DE EXERCÍCIOS RESOLVIDOS\n",
        "\n",
        "###Exercício #1\n",
        "\n",
        "O que o seguinte bloco de código Java imprimirá?"
      ]
    },
    {
      "cell_type": "code",
      "metadata": {
        "colab": {
          "base_uri": "https://localhost:8080/"
        },
        "id": "zx_WbFBYKmMN",
        "outputId": "d48e9b03-ec23-4cb6-d98b-bd39bf780559"
      },
      "source": [
        "%%java\n",
        "\n",
        "public class Exercico_1 {\n",
        "    public static void main(String[] args){\n",
        "        double balance = 0.0;\n",
        "        balance = balance + 20.0; // Adicione 1 beneficio\n",
        "        balance = balance - 25.0; // Subtrae 1 despesa\n",
        "        balance = balance + 30.0; // Adicione 1 beneficio\n",
        "        balance = balance - 25.0; // Subtrae 1 despesa\n",
        "        System.out.println(\"Balance = \"+balance);\n",
        "        if (balance < 0) {\n",
        "            System.out.println(\"Estamos no vermelho!\");\n",
        "        } else if (balance > 0) {\n",
        "            System.out.println(\"Estamos lucrando!\");\n",
        "        } else { \n",
        "            System.out.println(\"Estamos quebrados.\");\n",
        "        }\n",
        "    }\n",
        "}"
      ],
      "execution_count": null,
      "outputs": [
        {
          "output_type": "stream",
          "text": [
            "Balance = 0.0\n",
            "Estamos quebrados.\n",
            "\n"
          ],
          "name": "stdout"
        }
      ]
    },
    {
      "cell_type": "markdown",
      "metadata": {
        "id": "L5mdudf5LV1t"
      },
      "source": [
        "###Exercício #2\n",
        "Suponha que você tenha acesso a uma variável inteira chamada **diaDaSemana** e a uma variável booleana chamada **feriado**, que é verdadeira quando é feriado e falsa em dias normais. Escreva código Java que imprima **“Acorde às 7:00”** em dias de semana que não são feriados e imprima **“Dormir!”** nos fins de semana e feriados. Para a variável **diaDaSemana**, use esta chave:\n",
        "\n",
        "<ul>\n",
        "<li>1 = segunda-feira </li>\n",
        "<li>2 = terça-feira </li>\n",
        "<li>3 = quarta-feira </li>\n",
        "<li>4 = quinta-feira </li>\n",
        "<li>5 = sexta-feira </li>\n",
        "<li>6 = sábado </li>\n",
        "<li>7 = domingo </li>\n",
        "</ul>\n",
        "\n",
        "Considere os valores iniciais para as variáveis:\n",
        "\n",
        "int **diaDaSemana** = 5;\n",
        "boolean **feriado** = false;\n"
      ]
    },
    {
      "cell_type": "code",
      "metadata": {
        "colab": {
          "base_uri": "https://localhost:8080/"
        },
        "id": "JJ-KGwt4LYHt",
        "outputId": "841f143b-b390-4ad0-9950-7ba928285774"
      },
      "source": [
        "%%java\n",
        "\n",
        "public class Exercico_2 {\n",
        "    public static void main(String[] args){\n",
        "        int diaDaSemana = 3;\n",
        "        boolean feriado = true;\n",
        "        if ((diaDaSemana <= 5 && diaDaSemana >= 1) && !feriado) {\n",
        "            /* Dias de semana normais */\n",
        "            System.out.println(\"Acordei as 7:00\");\n",
        "        }\n",
        "        else if ((diaDaSemana >= 6 && diaDaSemana <= 7) || feriado) {\n",
        "            /* Dias de fim de semana e feriados */\n",
        "            System.out.println(\"Dormir!\");   \n",
        "        }\n",
        "    }\n",
        "}"
      ],
      "execution_count": null,
      "outputs": [
        {
          "output_type": "stream",
          "text": [
            "Dormir!\n",
            "\n"
          ],
          "name": "stdout"
        }
      ]
    },
    {
      "cell_type": "markdown",
      "metadata": {
        "id": "o7kErWL4MIag"
      },
      "source": [
        "###Exercício #3\n",
        "Suponha que a variável inteira **diaDaSemana** tenha algum valor e que siga esta regra:\n",
        "<ul>\n",
        "<li>1 = segunda-feira </li>\n",
        "<li>2 = terça-feira </li>\n",
        "<li>3 = quarta-feira </li>\n",
        "<li>4 = quinta-feira </li>\n",
        "<li>5 = sexta-feira </li>\n",
        "<li>6 = sábado </li>\n",
        "<li>7 = domingo </li>\n",
        "</ul>\n",
        "\n",
        "Declare uma variável String chamada **cronograma** e escreva uma instrução **switch** que dê ao cronograma um valor diferente com base no dia da semana. Para segunda-feira, dê o valor \"Academia pela manhã\". Na terça-feira, dê o valor \"Classe após o trabalho\". Para quarta-feira, atribua o valor \"Reuniões o dia todo\". Na quinta-feira, dê o valor \"Trabalhe em casa\". Na sexta-feira, atribua o valor \"Noite de jogos depois do trabalho\". Para sábado e domingo, atribua o valor \"Grátis!\" Esse também deve ser o valor padrão.\n",
        "\n",
        "Faça um algoritmo que determine o cronograma de acordo ao valor fixado da variável **diaDaSemana** = 1.\n"
      ]
    },
    {
      "cell_type": "code",
      "metadata": {
        "colab": {
          "base_uri": "https://localhost:8080/"
        },
        "id": "9KexgNubMMUo",
        "outputId": "fd912811-d379-4350-ace5-29ccfafffedd"
      },
      "source": [
        "%%java \n",
        "\n",
        "public class Exercico_3 {\n",
        "    public static void main(String[] args){\n",
        "        String cronograma;\n",
        "        int diaDaSemana = 5;\n",
        "\n",
        "        switch(diaDaSemana)\n",
        "        {\t\n",
        "          case 1:\n",
        "            cronograma = \"Academia pela manha!!\";\n",
        "            System.out.println(\"Segunda-feira \" + cronograma);\n",
        "            break;\n",
        "\n",
        "          case 2:\n",
        "            cronograma = \"classe apos o trabalho!!\";\n",
        "            System.out.println(\"Terca-feira \" + cronograma);\n",
        "            break;\n",
        "\n",
        "          case 3:\n",
        "            cronograma = \"reunioes o dia todo!!\";\t\n",
        "            System.out.println(\"Quarta-feira \" + cronograma);\n",
        "            break;\t\n",
        "\n",
        "          case 4:\n",
        "            cronograma = \"trabalhe em casa!!\";\n",
        "            System.out.println(\"Quinta-feira \" + cronograma);\n",
        "            break;\n",
        "\n",
        "          case 5:\n",
        "            cronograma = \"Noite de jogos depois do trabalho!!\";\n",
        "            System.out.println(\"Sexta-feira \" + cronograma);\n",
        "            break;\n",
        "\n",
        "          case 6:\n",
        "            cronograma = \"gratis!\";\n",
        "            System.out.println(\"Sabado \" + cronograma);\n",
        "            break;\n",
        "\n",
        "          case 7:\n",
        "            cronograma = \"gratis!\";\n",
        "            System.out.println(\"Domingo \" + cronograma);\n",
        "            break;\t\t\t\t\t\n",
        "\n",
        "        }\n",
        "    }\n",
        "}"
      ],
      "execution_count": null,
      "outputs": [
        {
          "output_type": "stream",
          "text": [
            "Sexta-feira Noite de jogos depois do trabalho!!\n",
            "\n"
          ],
          "name": "stdout"
        }
      ]
    }
  ]
}