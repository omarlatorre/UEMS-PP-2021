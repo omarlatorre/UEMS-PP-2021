{
  "nbformat": 4,
  "nbformat_minor": 0,
  "metadata": {
    "colab": {
      "name": "Vetores-Matrizes-Java.ipynb",
      "provenance": [],
      "authorship_tag": "ABX9TyPstVuzKyLXmhGsfB6US9jx",
      "include_colab_link": true
    },
    "kernelspec": {
      "name": "python3",
      "display_name": "Python 3"
    },
    "language_info": {
      "name": "python"
    }
  },
  "cells": [
    {
      "cell_type": "markdown",
      "metadata": {
        "id": "view-in-github",
        "colab_type": "text"
      },
      "source": [
        "<a href=\"https://colab.research.google.com/github/omarlatorre/UEMS-PP-2021/blob/master/Vetores_Matrizes_Java.ipynb\" target=\"_parent\"><img src=\"https://colab.research.google.com/assets/colab-badge.svg\" alt=\"Open In Colab\"/></a>"
      ]
    },
    {
      "cell_type": "markdown",
      "metadata": {
        "id": "vjVjq8ZUd4TF"
      },
      "source": [
        "#Vetores e Matrizes em Java\n",
        "Uma matriz é um vetor de vetores, todos de mesmo tamanho. Em Java, é possível criar um vetor de vetores onde cada elemento tem um tamanho diferente. Nesse caso, cada elemento deve ser criado de forma independente. Todo vetor em Java tem o atributo length que define o seu número de elementos.\n"
      ]
    },
    {
      "cell_type": "code",
      "metadata": {
        "colab": {
          "base_uri": "https://localhost:8080/"
        },
        "id": "l93EdM-PfRbc",
        "outputId": "ceb967e6-a5fc-4749-93cb-5cce5ddfce23"
      },
      "source": [
        "!pip install git+git://github.com/canesche/nvcc4jupyter.git\n",
        "!git clone https://github.com/canesche/nvcc4jupyter\n",
        "%load_ext nvcc_plugin"
      ],
      "execution_count": null,
      "outputs": [
        {
          "output_type": "stream",
          "text": [
            "Collecting git+git://github.com/canesche/nvcc4jupyter.git\n",
            "  Cloning git://github.com/canesche/nvcc4jupyter.git to /tmp/pip-req-build-md0vz7wu\n",
            "  Running command git clone -q git://github.com/canesche/nvcc4jupyter.git /tmp/pip-req-build-md0vz7wu\n",
            "Building wheels for collected packages: ColabPlugin\n",
            "  Building wheel for ColabPlugin (setup.py) ... \u001b[?25l\u001b[?25hdone\n",
            "  Created wheel for ColabPlugin: filename=ColabPlugin-blind-cp37-none-any.whl size=12717 sha256=f75154dc75031471b0bd1e8938c96e34536aed079877b40656e5590f2d46718a\n",
            "  Stored in directory: /tmp/pip-ephem-wheel-cache-4a1unzzd/wheels/87/ae/09/21c6e192181a0472e20ddd1d5212e2cbb113f00ebe14330d0d\n",
            "Successfully built ColabPlugin\n",
            "Installing collected packages: ColabPlugin\n",
            "Successfully installed ColabPlugin-blind\n",
            "Cloning into 'nvcc4jupyter'...\n",
            "remote: Enumerating objects: 1147, done.\u001b[K\n",
            "remote: Counting objects: 100% (362/362), done.\u001b[K\n",
            "remote: Compressing objects: 100% (271/271), done.\u001b[K\n",
            "remote: Total 1147 (delta 100), reused 328 (delta 74), pack-reused 785\u001b[K\n",
            "Receiving objects: 100% (1147/1147), 35.71 MiB | 20.88 MiB/s, done.\n",
            "Resolving deltas: 100% (554/554), done.\n"
          ],
          "name": "stdout"
        }
      ]
    },
    {
      "cell_type": "markdown",
      "metadata": {
        "id": "TMtMQ7wgfZIz"
      },
      "source": [
        "##Vetores\n",
        "Por exemplo, podemos formar um vetor com as notas de cinco alunos de uma sala de aula do seguinte modo:"
      ]
    },
    {
      "cell_type": "code",
      "metadata": {
        "colab": {
          "base_uri": "https://localhost:8080/"
        },
        "id": "QcIfz17FfoMs",
        "outputId": "fe8df5df-eb56-4513-8af0-1e2b4e275707"
      },
      "source": [
        "%%writefile VetoresEx1.java\n",
        "\n",
        "public class VetoresEx1 {\n",
        "    public static void main(String[] args){\n",
        "        /* vetor de numeros reais de tipo double */\n",
        "        double nota[] = { 7.8, 8.4, 4.2, 1.8, 6.4 };        \n",
        "    }\n",
        "}"
      ],
      "execution_count": null,
      "outputs": [
        {
          "output_type": "stream",
          "text": [
            "Writing VetoresEx1.java\n"
          ],
          "name": "stdout"
        }
      ]
    },
    {
      "cell_type": "code",
      "metadata": {
        "id": "xve7UlAWgaDG"
      },
      "source": [
        "!javac VetoresEx1.java\n",
        "!java VetoresEx1"
      ],
      "execution_count": null,
      "outputs": []
    },
    {
      "cell_type": "markdown",
      "metadata": {
        "id": "R8huTy5ghhVe"
      },
      "source": [
        "##Acesso aos elementos de um vetor \n",
        "Exemplo, a serie de Fibonacci"
      ]
    },
    {
      "cell_type": "code",
      "metadata": {
        "colab": {
          "base_uri": "https://localhost:8080/"
        },
        "id": "xNH2kRSEhunu",
        "outputId": "d062f274-0f00-48c3-d049-990ca72503f0"
      },
      "source": [
        "%%writefile VetoresEx2.java\n",
        "\n",
        "public class VetoresEx2 {\n",
        "    public static void main(String[] args){\n",
        "        /* criando um vetor de 10 elementos */\n",
        "        int[] f = new int[10];\n",
        "        /* atribuindo valores ao vetor nas posicoes 0 e 1 */\n",
        "        f[0] = 0; f[1] = 1;\n",
        "        /* criando a serie de fibonacci para as demais posicoes */\n",
        "        for(int i=2; i<10; i++)\n",
        "          f[i] = f[i-1]+f[i-2];\n",
        "        /* acessando e imprimindo os valores do vetor */\n",
        "        for(int i=0; i<10; i++)\n",
        "          System.out.println(\"f[\"+i+\"] = \"+f[i]);\n",
        "    }\n",
        "}"
      ],
      "execution_count": null,
      "outputs": [
        {
          "output_type": "stream",
          "text": [
            "Writing VetoresEx2.java\n"
          ],
          "name": "stdout"
        }
      ]
    },
    {
      "cell_type": "code",
      "metadata": {
        "colab": {
          "base_uri": "https://localhost:8080/"
        },
        "id": "P-ECtPhgiKDM",
        "outputId": "e6792a00-8234-4856-bb2d-bf535b0a4d14"
      },
      "source": [
        "!javac VetoresEx2.java\n",
        "!java VetoresEx2"
      ],
      "execution_count": null,
      "outputs": [
        {
          "output_type": "stream",
          "text": [
            "f[0] = 0\n",
            "f[1] = 1\n",
            "f[2] = 1\n",
            "f[3] = 2\n",
            "f[4] = 3\n",
            "f[5] = 5\n",
            "f[6] = 8\n",
            "f[7] = 13\n",
            "f[8] = 21\n",
            "f[9] = 34\n"
          ],
          "name": "stdout"
        }
      ]
    },
    {
      "cell_type": "code",
      "metadata": {
        "colab": {
          "base_uri": "https://localhost:8080/"
        },
        "id": "6B8yhFGQkmAv",
        "outputId": "c5933157-2816-4c30-a803-16d24f5b2935"
      },
      "source": [
        "%%writefile VetoresEx3.java\n",
        "\n",
        "public class VetoresEx3 {\n",
        "    public static void main(String[] args){\n",
        "        int[] primos = {2,3,5,7,11,13,17,19,23,29,31};\n",
        "        int[] somas = new int[11];\n",
        "        for(int i=0; i<11; i++){\n",
        "          somas[i] = 0;\n",
        "          for(int j=0; j<=i; j++)\n",
        "            somas[i] += primos[j];\n",
        "        }\n",
        "        System.out.print(\"somas: [\");\n",
        "        for(int i=0; i<11; i++)\n",
        "          System.out.print(\" \"+somas[i]);\n",
        "        System.out.println(\" ]\");\n",
        "    }\n",
        "}"
      ],
      "execution_count": null,
      "outputs": [
        {
          "output_type": "stream",
          "text": [
            "Writing VetoresEx3.java\n"
          ],
          "name": "stdout"
        }
      ]
    },
    {
      "cell_type": "code",
      "metadata": {
        "colab": {
          "base_uri": "https://localhost:8080/"
        },
        "id": "hcG5RIZik38L",
        "outputId": "edfd5ce4-9e24-403c-fee5-4ce72b5b334a"
      },
      "source": [
        "!javac VetoresEx3.java\n",
        "!java VetoresEx3"
      ],
      "execution_count": null,
      "outputs": [
        {
          "output_type": "stream",
          "text": [
            "somas: [ 2 5 10 17 28 41 58 77 100 129 160 ]\n"
          ],
          "name": "stdout"
        }
      ]
    },
    {
      "cell_type": "markdown",
      "metadata": {
        "id": "gy0TNW_cm3k_"
      },
      "source": [
        "##Matrizes\n",
        "Declarando e Inicializando por exemplo \n",
        "\n",
        "char [ ][ ]MAT;  //declarando uma matriz do tipo char com duas dimensões;"
      ]
    },
    {
      "cell_type": "code",
      "metadata": {
        "colab": {
          "base_uri": "https://localhost:8080/"
        },
        "id": "Cb8XbK6WnWMJ",
        "outputId": "760a3afe-ace5-455c-eb51-1f3fd0c14b93"
      },
      "source": [
        "%%writefile MatrizesEx1.java\n",
        "\n",
        "public class MatrizesEx1 {\n",
        "    public static void main(String[] args){\n",
        "        /* declarando e inicializando a matriz tab */\n",
        "        int[][] tab = new int[10][9];\n",
        "        /* preenchendo a matriz */\n",
        "        for(int i = 0; i < 10; i++)\n",
        "          for(int j = 0; j < 9; j++) \n",
        "            tab[i][j] = i*j;\n",
        "        /* acessando e imprimindo os elementos da matriz tab */            \n",
        "        for(int i = 0; i < 10; i++){\n",
        "          for(int j = 0; j < 9; j++){\n",
        "              System.out.print(\" \"+tab[i][j]);  \n",
        "          } \n",
        "          System.out.println();               \n",
        "        }\n",
        "    }\n",
        "}"
      ],
      "execution_count": null,
      "outputs": [
        {
          "output_type": "stream",
          "text": [
            "Writing MatrizesEx1.java\n"
          ],
          "name": "stdout"
        }
      ]
    },
    {
      "cell_type": "code",
      "metadata": {
        "colab": {
          "base_uri": "https://localhost:8080/"
        },
        "id": "-XECrsD5nwhM",
        "outputId": "63ef27ea-f2af-4168-dae1-15ad3e3a17d9"
      },
      "source": [
        "!javac MatrizesEx1.java\n",
        "!java MatrizesEx1"
      ],
      "execution_count": null,
      "outputs": [
        {
          "output_type": "stream",
          "text": [
            " 0 0 0 0 0 0 0 0 0\n",
            " 0 1 2 3 4 5 6 7 8\n",
            " 0 2 4 6 8 10 12 14 16\n",
            " 0 3 6 9 12 15 18 21 24\n",
            " 0 4 8 12 16 20 24 28 32\n",
            " 0 5 10 15 20 25 30 35 40\n",
            " 0 6 12 18 24 30 36 42 48\n",
            " 0 7 14 21 28 35 42 49 56\n",
            " 0 8 16 24 32 40 48 56 64\n",
            " 0 9 18 27 36 45 54 63 72\n"
          ],
          "name": "stdout"
        }
      ]
    },
    {
      "cell_type": "markdown",
      "metadata": {
        "id": "LCXVP23QQX8s"
      },
      "source": [
        "##Vetor de vetores"
      ]
    },
    {
      "cell_type": "code",
      "metadata": {
        "colab": {
          "base_uri": "https://localhost:8080/"
        },
        "id": "Et7L7X-5p7qS",
        "outputId": "1ee7ebe5-453f-4409-c598-9d9f4b82b24d"
      },
      "source": [
        "%%writefile MatrizesEx2.java\n",
        "\n",
        "public class MatrizesEx2 {\n",
        "    public static void main(String[] args){\n",
        "         /* declarando e inicializando um vetor de vetores */\n",
        "        int [][] p = new int[10][];\n",
        "        /* declarando os vetores associados ao vetor p */\n",
        "        for(int i=0; i<10; i++){\n",
        "          p[i] = new int[i+1];\n",
        "        }\n",
        "        /* preenchendo a matriz p com os valores do triangulo de Pascal */\n",
        "        for(int i=0; i<10; i++){\n",
        "          p[i][0] = 1;\n",
        "          p[i][i] = 1;\n",
        "          for(int j=1; j<i; j++)\n",
        "            p[i][j] = p[i-1][j-1] + p[i-1][j];\n",
        "        }\n",
        "        /* acessando e imprimindo os valores da matriz */\n",
        "        for(int i=0; i<10; i++){\n",
        "            for(int j=0; j<i; j++){\n",
        "                System.out.print(\" \"+p[i][j]);\n",
        "            }\n",
        "            System.out.println();\n",
        "        }\n",
        "    }\n",
        "}"
      ],
      "execution_count": null,
      "outputs": [
        {
          "output_type": "stream",
          "text": [
            "Writing MatrizesEx2.java\n"
          ],
          "name": "stdout"
        }
      ]
    },
    {
      "cell_type": "code",
      "metadata": {
        "colab": {
          "base_uri": "https://localhost:8080/"
        },
        "id": "Iv-j_BwEqh0W",
        "outputId": "4964b297-4575-4b0a-dada-ef9209390b51"
      },
      "source": [
        "!javac MatrizesEx2.java\n",
        "!java MatrizesEx2"
      ],
      "execution_count": null,
      "outputs": [
        {
          "output_type": "stream",
          "text": [
            "\n",
            " 1\n",
            " 1 2\n",
            " 1 3 3\n",
            " 1 4 6 4\n",
            " 1 5 10 10 5\n",
            " 1 6 15 20 15 6\n",
            " 1 7 21 35 35 21 7\n",
            " 1 8 28 56 70 56 28 8\n",
            " 1 9 36 84 126 126 84 36 9\n"
          ],
          "name": "stdout"
        }
      ]
    },
    {
      "cell_type": "code",
      "metadata": {
        "colab": {
          "base_uri": "https://localhost:8080/"
        },
        "id": "VavUu9qvTFvQ",
        "outputId": "99bed312-6b4d-4446-ac38-49b7bdcd1895"
      },
      "source": [
        "%%writefile MatrizesEx3.java\n",
        "\n",
        "public class MatrizesEx3{\n",
        "    public static void main(String[] args){\n",
        "      int[] dias_mes = {31,29,31,30,31,30,31,31,30,31,30,31};\n",
        "      float[][] gastos = new float[12][];\n",
        "      for(int m = 0; m<12; m++){\n",
        "        gastos[m] = new float[dias_mes[m]];\n",
        "        for(int d=0; d<dias_mes[m]; d++)\n",
        "          gastos[m][d] = 0.0F;\n",
        "      }\n",
        "      /* acessando e imprimindo os valores da matriz gastos */\n",
        "      for(int m=0; m<gastos.length; m++){\n",
        "          System.out.print(\"mes \"+(m+1)+\" :\");\n",
        "          for(int d=0; d<gastos[m].length; d++){\n",
        "              System.out.print(\" \"+gastos[m][d]);\n",
        "          }\n",
        "          System.out.println();\n",
        "      }\n",
        "    }\n",
        "}"
      ],
      "execution_count": null,
      "outputs": [
        {
          "output_type": "stream",
          "text": [
            "Writing MatrizesEx3.java\n"
          ],
          "name": "stdout"
        }
      ]
    },
    {
      "cell_type": "code",
      "metadata": {
        "colab": {
          "base_uri": "https://localhost:8080/"
        },
        "id": "iZPRl8vNTl6I",
        "outputId": "06c9966d-cd77-4341-f2bd-7f9ec54a7035"
      },
      "source": [
        "!javac MatrizesEx3.java\n",
        "!java MatrizesEx3"
      ],
      "execution_count": null,
      "outputs": [
        {
          "output_type": "stream",
          "text": [
            "mes 1 : 0.0 0.0 0.0 0.0 0.0 0.0 0.0 0.0 0.0 0.0 0.0 0.0 0.0 0.0 0.0 0.0 0.0 0.0 0.0 0.0 0.0 0.0 0.0 0.0 0.0 0.0 0.0 0.0 0.0 0.0 0.0\n",
            "mes 2 : 0.0 0.0 0.0 0.0 0.0 0.0 0.0 0.0 0.0 0.0 0.0 0.0 0.0 0.0 0.0 0.0 0.0 0.0 0.0 0.0 0.0 0.0 0.0 0.0 0.0 0.0 0.0 0.0 0.0\n",
            "mes 3 : 0.0 0.0 0.0 0.0 0.0 0.0 0.0 0.0 0.0 0.0 0.0 0.0 0.0 0.0 0.0 0.0 0.0 0.0 0.0 0.0 0.0 0.0 0.0 0.0 0.0 0.0 0.0 0.0 0.0 0.0 0.0\n",
            "mes 4 : 0.0 0.0 0.0 0.0 0.0 0.0 0.0 0.0 0.0 0.0 0.0 0.0 0.0 0.0 0.0 0.0 0.0 0.0 0.0 0.0 0.0 0.0 0.0 0.0 0.0 0.0 0.0 0.0 0.0 0.0\n",
            "mes 5 : 0.0 0.0 0.0 0.0 0.0 0.0 0.0 0.0 0.0 0.0 0.0 0.0 0.0 0.0 0.0 0.0 0.0 0.0 0.0 0.0 0.0 0.0 0.0 0.0 0.0 0.0 0.0 0.0 0.0 0.0 0.0\n",
            "mes 6 : 0.0 0.0 0.0 0.0 0.0 0.0 0.0 0.0 0.0 0.0 0.0 0.0 0.0 0.0 0.0 0.0 0.0 0.0 0.0 0.0 0.0 0.0 0.0 0.0 0.0 0.0 0.0 0.0 0.0 0.0\n",
            "mes 7 : 0.0 0.0 0.0 0.0 0.0 0.0 0.0 0.0 0.0 0.0 0.0 0.0 0.0 0.0 0.0 0.0 0.0 0.0 0.0 0.0 0.0 0.0 0.0 0.0 0.0 0.0 0.0 0.0 0.0 0.0 0.0\n",
            "mes 8 : 0.0 0.0 0.0 0.0 0.0 0.0 0.0 0.0 0.0 0.0 0.0 0.0 0.0 0.0 0.0 0.0 0.0 0.0 0.0 0.0 0.0 0.0 0.0 0.0 0.0 0.0 0.0 0.0 0.0 0.0 0.0\n",
            "mes 9 : 0.0 0.0 0.0 0.0 0.0 0.0 0.0 0.0 0.0 0.0 0.0 0.0 0.0 0.0 0.0 0.0 0.0 0.0 0.0 0.0 0.0 0.0 0.0 0.0 0.0 0.0 0.0 0.0 0.0 0.0\n",
            "mes 10 : 0.0 0.0 0.0 0.0 0.0 0.0 0.0 0.0 0.0 0.0 0.0 0.0 0.0 0.0 0.0 0.0 0.0 0.0 0.0 0.0 0.0 0.0 0.0 0.0 0.0 0.0 0.0 0.0 0.0 0.0 0.0\n",
            "mes 11 : 0.0 0.0 0.0 0.0 0.0 0.0 0.0 0.0 0.0 0.0 0.0 0.0 0.0 0.0 0.0 0.0 0.0 0.0 0.0 0.0 0.0 0.0 0.0 0.0 0.0 0.0 0.0 0.0 0.0 0.0\n",
            "mes 12 : 0.0 0.0 0.0 0.0 0.0 0.0 0.0 0.0 0.0 0.0 0.0 0.0 0.0 0.0 0.0 0.0 0.0 0.0 0.0 0.0 0.0 0.0 0.0 0.0 0.0 0.0 0.0 0.0 0.0 0.0 0.0\n"
          ],
          "name": "stdout"
        }
      ]
    },
    {
      "cell_type": "markdown",
      "metadata": {
        "id": "22Dm-5I_aZQI"
      },
      "source": [
        "##LISTA DE EXERCÍCIOS RESOLVIDOS\n",
        "\n",
        "###Exercício #1\n",
        "Dias da semana, criar um array de Strings inicializado com os nomes dos sete dias da semana. Por exemplo:\n",
        "\n",
        "String days[] = {\"Monday\", \"Tuesday\", \"Wednesday\", \"Thursday\", \"Friday\", \"Saturday\", \"Sunday\"}\n",
        "\n",
        "Usando uma declaração while, imprima todo o conteúdo do array. Faça o mesmo para as declarações do-while e for."
      ]
    },
    {
      "cell_type": "code",
      "metadata": {
        "colab": {
          "base_uri": "https://localhost:8080/"
        },
        "id": "tVPJHDmka9Zr",
        "outputId": "240592ae-22dc-4101-f5e2-ab16a2ae06f1"
      },
      "source": [
        "%%writefile Exercicio_1.java\n",
        "\n",
        "public class Exercicio_1 {\n",
        "\n",
        "    public static void main(String[] args) {\n",
        "        String days[] = {\"Monday\", \"Tuesday\", \"Wednesday\", \"Thursday\", \"Friday\", \"Saturday\", \"Sunday\"};\n",
        "        /* usando a estrutura repetitiva WHILE */\n",
        "        int count1 = 0;\n",
        "        System.out.print(\"WHILE :\");\n",
        "        while(count1 < days.length){\n",
        "            System.out.print(\" \"+days[count1]);\n",
        "            count1++;\n",
        "        }\n",
        "        System.out.println();\n",
        "        /* usando a estrutura repetitiva DO-WHILE */\n",
        "        int count2 = 0;\n",
        "        System.out.print(\"DO-WHILE :\");\n",
        "        do{\n",
        "            System.out.print(\" \"+days[count2]);\n",
        "            count2++;\n",
        "        }while(count2 < days.length);\n",
        "        System.out.println();\n",
        "        /* usando a estrutura repetitiva FOR */\n",
        "        System.out.print(\"FOR :\");\n",
        "        for(int i=0; i<days.length; i++){\n",
        "            System.out.print(\" \"+days[i]);\n",
        "        }\n",
        "        System.out.println();\n",
        "    }\n",
        "}"
      ],
      "execution_count": null,
      "outputs": [
        {
          "output_type": "stream",
          "text": [
            "Writing Exercicio_1.java\n"
          ],
          "name": "stdout"
        }
      ]
    },
    {
      "cell_type": "code",
      "metadata": {
        "colab": {
          "base_uri": "https://localhost:8080/"
        },
        "id": "yePtQdYUcUDx",
        "outputId": "75f68550-9209-4c77-84cc-6057d7a3cc12"
      },
      "source": [
        "!javac Exercicio_1.java\n",
        "!java Exercicio_1"
      ],
      "execution_count": null,
      "outputs": [
        {
          "output_type": "stream",
          "text": [
            "WHILE : Monday Tuesday Wednesday Thursday Friday Saturday Sunday\n",
            "DO-WHILE : Monday Tuesday Wednesday Thursday Friday Saturday Sunday\n",
            "FOR : Monday Tuesday Wednesday Thursday Friday Saturday Sunday\n"
          ],
          "name": "stdout"
        }
      ]
    },
    {
      "cell_type": "code",
      "metadata": {
        "colab": {
          "base_uri": "https://localhost:8080/"
        },
        "id": "5cwdK1nmhOyO",
        "outputId": "f3fd4c8f-792d-40bc-a703-98daa9ebeb5e"
      },
      "source": [
        "from numpy import *\n",
        "days = array([\"Monday\", \"Tuesday\", \"Wednesday\", \"Thursday\", \"Friday\", \"Saturday\", \"Sunday\"])\n",
        "i=0\n",
        "while (i < size(days)):\n",
        "  print(days[i])\n",
        "  i = i+1"
      ],
      "execution_count": null,
      "outputs": [
        {
          "output_type": "stream",
          "text": [
            "Monday\n",
            "Tuesday\n",
            "Wednesday\n",
            "Thursday\n",
            "Friday\n",
            "Saturday\n",
            "Sunday\n"
          ],
          "name": "stdout"
        }
      ]
    },
    {
      "cell_type": "markdown",
      "metadata": {
        "id": "tx1j4naseIYA"
      },
      "source": [
        "###Exercicio #2\n",
        "Maior número, Usando a classe Scanner solicite 10 números ao usuário. Utilize um array para armazenar o valor destes números. Mostre o número de maior valor."
      ]
    },
    {
      "cell_type": "code",
      "metadata": {
        "colab": {
          "base_uri": "https://localhost:8080/"
        },
        "id": "uow935dheZQB",
        "outputId": "7ececae1-1d0c-4b46-98c5-79d8f12e8e48"
      },
      "source": [
        "%%writefile Exercicio_2.java\n",
        "import java.util.Scanner;\n",
        "\n",
        "public class Exercicio_2 {\n",
        "\n",
        "    public static void main(String[] args) {\n",
        "        /* lendo os dez numeros no console */\n",
        "        Scanner sc = new Scanner(System.in);\n",
        "        System.out.println(\"Enter 10 numbers \");\n",
        "        int [] numbers = new int[10];\n",
        "        for(int i=0; i < numbers.length; i++){\n",
        "            numbers[i] = sc.nextInt();   \n",
        "        }\n",
        "        /* determinando o maior valor */\n",
        "        int maior = 0;\n",
        "        for(int i=0; i<numbers.length; i++){\n",
        "            if(maior < numbers[i]){\n",
        "                maior = numbers[i];\n",
        "            }\n",
        "        }\n",
        "        /* imprimindo o valor calculado */\n",
        "        System.out.println(\"The maximum value is \"+maior);\n",
        "    }\n",
        "}"
      ],
      "execution_count": null,
      "outputs": [
        {
          "output_type": "stream",
          "text": [
            "Writing Exercicio_2.java\n"
          ],
          "name": "stdout"
        }
      ]
    },
    {
      "cell_type": "code",
      "metadata": {
        "colab": {
          "base_uri": "https://localhost:8080/"
        },
        "id": "9u1-jF9DgeSI",
        "outputId": "6eb4938b-af3f-4568-e2dd-a74d873349b0"
      },
      "source": [
        "!javac Exercicio_2.java\n",
        "!java Exercicio_2"
      ],
      "execution_count": null,
      "outputs": [
        {
          "output_type": "stream",
          "text": [
            "Enter 10 numbers \n",
            "34\n",
            "23\n",
            "56\n",
            "45\n",
            "23\n",
            "11\n",
            "56\n",
            "78\n",
            "34\n",
            "12\n",
            "The maximum value is 78\n"
          ],
          "name": "stdout"
        }
      ]
    },
    {
      "cell_type": "code",
      "metadata": {
        "colab": {
          "base_uri": "https://localhost:8080/"
        },
        "id": "U1TAkApljvWp",
        "outputId": "c5ee9eda-5a27-4149-d53a-7353174ea94c"
      },
      "source": [
        "from numpy import *\n",
        "v = array(eval(input(\"Informe o vetor: \")))\n",
        "print(\"O maior numero e \",max(v))"
      ],
      "execution_count": null,
      "outputs": [
        {
          "output_type": "stream",
          "text": [
            "Informe o vetor: 11,23,45,76,22,43,9,2,67,123\n",
            "O maior numero e  123\n"
          ],
          "name": "stdout"
        }
      ]
    },
    {
      "cell_type": "markdown",
      "metadata": {
        "id": "kPcXIl2chFbP"
      },
      "source": [
        "###Exercicio #3\n",
        "Entradas de agenda telefônica. Dado o seguinte array multidimensional, que contém as entradas da agenda telefônica:\n",
        "\n",
        "String entry = {{\"Florence\", \"735\n",
        "1234\", \"Manila\"},\n",
        "{\"Joyce\", \"983\n",
        "3333\", \"Quezon City\"},\n",
        "{\"Becca\", \"456\n",
        "3322\", \"Manila\"}};\n",
        "\n",
        "mostre as conforme o formato abaixo:\n",
        "<ul>\n",
        "<li>Name : Florence</li>\n",
        "<li>Tel. # : 735 1234</li>\n",
        "<li>Address: Manila</li>\n",
        "<li>Name : Joyce</li>\n",
        "<li>Tel. # : 983 3333</li>\n",
        "<li>Address: Quezon City</li>\n",
        "<li>Name : Becca</li>\n",
        "<li>Tel. # : 456 3322</li>\n",
        "<li>Address: Manila</li>\n",
        "</ul>"
      ]
    },
    {
      "cell_type": "code",
      "metadata": {
        "colab": {
          "base_uri": "https://localhost:8080/"
        },
        "id": "WaDBLM7siKVn",
        "outputId": "2015f872-76fd-4522-dde5-f04bccc749b5"
      },
      "source": [
        "%%writefile Exercicio_3.java\n",
        "\n",
        "public class Exercicio_3 {\n",
        "\n",
        "    public static void main(String[] args) {\n",
        "        String[][] entry = {{\"Florence\", \"7351234\", \"Manila\"},\n",
        "                        {\"Joyce\", \"9833333\", \"Quezon City\"},\n",
        "                        {\"Becca\", \"4563322\", \"Manila\"}};\n",
        "        for(int i=0; i < entry.length; i++){\n",
        "            System.out.println(\"Name : \"+entry[i][0]);\n",
        "            System.out.println(\"Tel. # : \"+entry[i][1]);\n",
        "            System.out.println(\"Address : \"+entry[i][2]);\n",
        "        }\n",
        "    }\n",
        "}"
      ],
      "execution_count": null,
      "outputs": [
        {
          "output_type": "stream",
          "text": [
            "Writing Exercicio_3.java\n"
          ],
          "name": "stdout"
        }
      ]
    },
    {
      "cell_type": "code",
      "metadata": {
        "colab": {
          "base_uri": "https://localhost:8080/"
        },
        "id": "ARja-2c7ibyG",
        "outputId": "ed6f5867-bab6-4390-b4f5-679a62a49bd5"
      },
      "source": [
        "!javac Exercicio_3.java\n",
        "!java Exercicio_3"
      ],
      "execution_count": null,
      "outputs": [
        {
          "output_type": "stream",
          "text": [
            "Name : Florence\n",
            "Tel. # : 7351234\n",
            "Address : Manila\n",
            "Name : Joyce\n",
            "Tel. # : 9833333\n",
            "Address : Quezon City\n",
            "Name : Becca\n",
            "Tel. # : 4563322\n",
            "Address : Manila\n"
          ],
          "name": "stdout"
        }
      ]
    },
    {
      "cell_type": "code",
      "metadata": {
        "colab": {
          "base_uri": "https://localhost:8080/"
        },
        "id": "_Cq11mYbkrso",
        "outputId": "96200098-1d74-451e-c12c-4cd0fb6bf473"
      },
      "source": [
        "from numpy import *\n",
        "entry = array([[\"Florence\", \"735 1234\", \"Manila\"],[\"Joyce\", \"983 3333\", \"Quezon City\"],[\"Becca\", \"456 3322\", \"Manila\"]])\n",
        "i = 0\n",
        "while(i < size(entry[0])):\n",
        "  print(\"Name: \", entry[i][0])\n",
        "  print(\"Tel. #: \", entry[i][1])\n",
        "  print(\"Address: \", entry[i][2])\n",
        "  i = i+1"
      ],
      "execution_count": 4,
      "outputs": [
        {
          "output_type": "stream",
          "text": [
            "Name:  Florence\n",
            "Tel. #:  735 1234\n",
            "Address:  Manila\n",
            "Name:  Joyce\n",
            "Tel. #:  983 3333\n",
            "Address:  Quezon City\n",
            "Name:  Becca\n",
            "Tel. #:  456 3322\n",
            "Address:  Manila\n"
          ],
          "name": "stdout"
        }
      ]
    }
  ]
}