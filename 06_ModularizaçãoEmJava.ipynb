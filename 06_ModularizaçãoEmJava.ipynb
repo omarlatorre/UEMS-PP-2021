{
  "nbformat": 4,
  "nbformat_minor": 0,
  "metadata": {
    "colab": {
      "name": "06-ModularizaçãoEmJava.ipynb",
      "provenance": [],
      "authorship_tag": "ABX9TyMz1e20qjC9kxeArWrn48dr",
      "include_colab_link": true
    },
    "kernelspec": {
      "name": "python3",
      "display_name": "Python 3"
    },
    "language_info": {
      "name": "python"
    }
  },
  "cells": [
    {
      "cell_type": "markdown",
      "metadata": {
        "id": "view-in-github",
        "colab_type": "text"
      },
      "source": [
        "<a href=\"https://colab.research.google.com/github/omarlatorre/UEMS-PP-2021/blob/master/06_Modulariza%C3%A7%C3%A3oEmJava.ipynb\" target=\"_parent\"><img src=\"https://colab.research.google.com/assets/colab-badge.svg\" alt=\"Open In Colab\"/></a>"
      ]
    },
    {
      "cell_type": "markdown",
      "metadata": {
        "id": "B5t_4d7o19Hb"
      },
      "source": [
        "#Modularização em Java\n",
        "A programação estruturada é uma forma de programação de computadores que estabelece uma disciplina no desenvolvimento de algoritmos, independentemente da complexidade do problema e da linguagem de programação na qual a solução será codificada. Essa disciplina orienta os programadores na criação de estruturas simples em seus programas, usando um número restrito de mecanismos de codificação com especial destaque para a subprogramação (ou modularização).\n",
        "\n",
        "À medida que os problemas vão se tornando maiores e mais complexos, sempre é possível simplificar a solução dividindo o programa em partes menores, chamadas subprogramas. Um subprograma é o nome dado a um trecho de um programa mais complexo e que, em geral, encerra em si próprio um pedaço da solução de um problema maior (o programa a que ele está subordinado). Procedimento, função, módulo (estrutura modular), e métodos (orientação a objetos), são sinônimos usados na Engenharia de Software para o conceito de subprograma.\n"
      ]
    },
    {
      "cell_type": "code",
      "metadata": {
        "colab": {
          "base_uri": "https://localhost:8080/"
        },
        "id": "uQUn9wgb3oQ8",
        "outputId": "dd3bfd98-559b-4775-f54a-b5de5ccc1efe"
      },
      "source": [
        "!pip install git+git://github.com/canesche/nvcc4jupyter.git\n",
        "!git clone https://github.com/canesche/nvcc4jupyter\n",
        "%load_ext nvcc_plugin"
      ],
      "execution_count": 1,
      "outputs": [
        {
          "output_type": "stream",
          "text": [
            "Collecting git+git://github.com/canesche/nvcc4jupyter.git\n",
            "  Cloning git://github.com/canesche/nvcc4jupyter.git to /tmp/pip-req-build-dz6x66u7\n",
            "  Running command git clone -q git://github.com/canesche/nvcc4jupyter.git /tmp/pip-req-build-dz6x66u7\n",
            "Requirement already satisfied (use --upgrade to upgrade): ColabPlugin===blind from git+git://github.com/canesche/nvcc4jupyter.git in /usr/local/lib/python3.7/dist-packages\n",
            "Building wheels for collected packages: ColabPlugin\n",
            "  Building wheel for ColabPlugin (setup.py) ... \u001b[?25l\u001b[?25hdone\n",
            "  Created wheel for ColabPlugin: filename=ColabPlugin-blind-cp37-none-any.whl size=12717 sha256=1f6a635ffdb469b3b4ca16a7796436a294fa63d6f709311c18bdf0280eaba657\n",
            "  Stored in directory: /tmp/pip-ephem-wheel-cache-52g3kkm4/wheels/87/ae/09/21c6e192181a0472e20ddd1d5212e2cbb113f00ebe14330d0d\n",
            "Successfully built ColabPlugin\n",
            "fatal: destination path 'nvcc4jupyter' already exists and is not an empty directory.\n"
          ],
          "name": "stdout"
        }
      ]
    },
    {
      "cell_type": "code",
      "metadata": {
        "colab": {
          "base_uri": "https://localhost:8080/"
        },
        "id": "agE0FPAa3RPi",
        "outputId": "3e704c04-dad4-4d8c-a2a6-0f64c639bb26"
      },
      "source": [
        "%%writefile ModularizacaoEx1.java\n",
        "\n",
        "public class ModularizacaoEx1 {\n",
        "\t/*o metodo principal */\n",
        "\tpublic static void main(String[] args) {\n",
        "      /* s1 variavel local */\n",
        "\t\tString s1 = \"testando o método escreva\";\n",
        "\t\tescreva(s1);\n",
        "\t}\n",
        "\n",
        "\t/* metodo estatico escreva */\n",
        "\tpublic static void escreva(String frase)  {\n",
        "\t    System.out.println(frase);\n",
        "\t}\n",
        "}"
      ],
      "execution_count": 2,
      "outputs": [
        {
          "output_type": "stream",
          "text": [
            "Writing ModularizacaoEx1.java\n"
          ],
          "name": "stdout"
        }
      ]
    },
    {
      "cell_type": "code",
      "metadata": {
        "colab": {
          "base_uri": "https://localhost:8080/"
        },
        "id": "ihWe2mB9356R",
        "outputId": "18caf38c-a8ba-45b3-e1ba-0e5098f44775"
      },
      "source": [
        "!javac ModularizacaoEx1.java\n",
        "!java ModularizacaoEx1"
      ],
      "execution_count": 3,
      "outputs": [
        {
          "output_type": "stream",
          "text": [
            "testando o método escreva\n"
          ],
          "name": "stdout"
        }
      ]
    },
    {
      "cell_type": "code",
      "metadata": {
        "colab": {
          "base_uri": "https://localhost:8080/"
        },
        "id": "RmYQmbdd4gM7",
        "outputId": "25848161-94d1-4231-a22d-cb18dd5d2f25"
      },
      "source": [
        "%%writefile ModularizacaoEx2.java\n",
        "\n",
        "public class ModularizacaoEx2  \n",
        "{\n",
        "    /* String s1 e uma variavel global */\n",
        "\tstatic String s1 = \"qualquer coisa\";\n",
        "\n",
        "\t/* O metodo principal */\n",
        "\tpublic static void main(String[] args) \n",
        "\t{\n",
        "\t\tSystem.out.println(\"imprimindo o valor de s1 de dentro da função main\");\n",
        "\t\tSystem.out.println(\"s1 = \" + s1);\n",
        "\t\t/* chamada do metodo escreva frase */\n",
        "\t\tescreva_Frase();\n",
        "\t\tSystem.out.println(\"De volta para a função main\");\n",
        "\t}\n",
        "\n",
        "\t/* O metodo estatico escreva frase */\n",
        "\tpublic static void escreva_Frase()  \n",
        "\t{\n",
        "\t\tSystem.out.println(\"imprimindo o valor de s1 de dentro da função escreva_Frase.\");\n",
        "\t\tSystem.out.println(\"s1 = \" + s1);\n",
        "\t}\n",
        "}"
      ],
      "execution_count": 4,
      "outputs": [
        {
          "output_type": "stream",
          "text": [
            "Writing ModularizacaoEx2.java\n"
          ],
          "name": "stdout"
        }
      ]
    },
    {
      "cell_type": "code",
      "metadata": {
        "colab": {
          "base_uri": "https://localhost:8080/"
        },
        "id": "UweSjBN04twl",
        "outputId": "64ed4db2-8f74-475b-dfbe-fb1453f28967"
      },
      "source": [
        "!javac ModularizacaoEx2.java\n",
        "!java ModularizacaoEx2"
      ],
      "execution_count": 5,
      "outputs": [
        {
          "output_type": "stream",
          "text": [
            "imprimindo o valor de s1 de dentro da função main\n",
            "s1 = qualquer coisa\n",
            "imprimindo o valor de s1 de dentro da função escreva_Frase.\n",
            "s1 = qualquer coisa\n",
            "De volta para a função main\n"
          ],
          "name": "stdout"
        }
      ]
    },
    {
      "cell_type": "markdown",
      "metadata": {
        "id": "4Mc2k30dy9Ho"
      },
      "source": [
        "###Exemplo #3\n",
        "Numa loja de materiais de construção, um azulejo estampado custa R$2,50. Faça um programa para ler o comprimento e a altura de uma parede (em metros), e depois escrever o valor a ser gasto com a compra de azulejos. Considere que um metro quadrado é formado por 9 azulejos.\n"
      ]
    },
    {
      "cell_type": "code",
      "metadata": {
        "colab": {
          "base_uri": "https://localhost:8080/"
        },
        "id": "TjkzbQFG5GbN",
        "outputId": "1731efa2-005c-43fe-edcf-6d3e84b1cb0a"
      },
      "source": [
        "%%writefile ModularizacaoEx3.java\n",
        "\n",
        "import java.util.Scanner;\n",
        "\n",
        "public class ModularizacaoEx3 {\n",
        "\n",
        "    /* modulo ler dimensões */\n",
        "    public static void ler_dimensoes(double[] valores){\n",
        "        /* Para leitura dos dados de entrada comprimento e altura */\n",
        "        /* usa-se a classe Scanner */\n",
        "        Scanner sc = new Scanner(System.in);\n",
        "\n",
        "        System.out.println(\"Insere o comprimento em metros \");\n",
        "\t\t    /* Este metodo vai ler do teclado um valor double */\n",
        "        valores[0] = sc.nextDouble();\n",
        "\n",
        "        System.out.println(\"Insere a altura em metros \");\n",
        "        /* Este metodo vai ler do teclado um valor double */\n",
        "        valores[1] = sc.nextDouble();\n",
        "    }\n",
        "\n",
        "    /* modulo calcular valor gasto */\n",
        "    public static void calcular_valores(double [] valores){\n",
        "        \t/* calcula-se a area do terreno*/\n",
        "          /* area = comprimento * altura */\n",
        "          valores[2] = valores[0] * valores[1];\n",
        "\n",
        "          /* determina-se a quantidade de azulejos a serem usados */\n",
        "          /* qtd_azulejos = (int) area * 9 */\n",
        "          valores[3] = valores[2] * 9;\n",
        "          \n",
        "          /* calcula-se o valor gasto */\n",
        "          /* custo_azulejos = qtd_azulejos * 2.5 */\n",
        "          valores[4] = valores[3] * 2.5;\n",
        "    }\n",
        "\n",
        "    /* modulo escrever gasto */\n",
        "    public static void escrever_resultados(double[] valores){\n",
        "        /* imprimi-se os resultados obtidos */\n",
        "        String resposta1 = \"\", resposta2 = \"\";\n",
        "        resposta1 = \"Quantidade de azulejos necessaria: \" + (int)valores[3];\n",
        "        System.out.println(resposta1);\n",
        "    \n",
        "        resposta2 = \"Valor gasto com azulejos: R$ \" + valores[4];\n",
        "        System.out.println(resposta2);\n",
        "    }\n",
        "\n",
        "\tpublic static void main(String[] args)\n",
        "\t{\n",
        "      /* declaracao das variaveis */\n",
        "      /* comprimento, altura, area, qtd_azulejos, custo_azulejos\n",
        "      */\n",
        "      double [] valores = {0.0, 0.0, 0.0, 0.0, 0.0};\n",
        "  \n",
        "      /* passagem de parametros por referencia */\n",
        "      /* ler dimensoes */\n",
        "      ler_dimensoes(valores);\n",
        "  \n",
        "      /* calcular valor gasto */\n",
        "      calcular_valores(valores);\n",
        "  \n",
        "      /* escrever gasto */\n",
        "      escrever_resultados(valores);\n",
        "\t}\n",
        "\n",
        "} // fim da classe"
      ],
      "execution_count": 6,
      "outputs": [
        {
          "output_type": "stream",
          "text": [
            "Writing ModularizacaoEx3.java\n"
          ],
          "name": "stdout"
        }
      ]
    },
    {
      "cell_type": "code",
      "metadata": {
        "colab": {
          "base_uri": "https://localhost:8080/"
        },
        "id": "qnyMtyUD6c7b",
        "outputId": "b5f40634-34d4-43de-939d-27af9fcad109"
      },
      "source": [
        "!javac ModularizacaoEx3.java\n",
        "!java ModularizacaoEx3"
      ],
      "execution_count": 7,
      "outputs": [
        {
          "output_type": "stream",
          "text": [
            "Insere o comprimento em metros \n",
            "45.5\n",
            "Insere a altura em metros \n",
            "1.70\n",
            "Quantidade de azulejos necessaria: 696\n",
            "Valor gasto com azulejos: R$ 1740.375\n"
          ],
          "name": "stdout"
        }
      ]
    },
    {
      "cell_type": "markdown",
      "metadata": {
        "id": "bXsi0GKS7UPZ"
      },
      "source": [
        "##LISTA DE EXERCÍCIOS RESOLVIDOS\n",
        "\n",
        "###Exercício #1\n",
        "Faça um programa que: Leia um vetor “turma” de 5 alunos. Cada registro/objeto de aluno deve ter o número de matrícula do aluno e suas notas de 4 bimestres. Faça um procedimento que imprima a lista de matrícula e notas de cada aluno. Faça uma função que tenha como parâmetro um objeto Aluno e retorne a média das 4 notas. Percorra o vetor de alunos e imprima a matricula e a média calculada (pela função criada) para cada aluno."
      ]
    },
    {
      "cell_type": "code",
      "metadata": {
        "colab": {
          "base_uri": "https://localhost:8080/"
        },
        "id": "Rwlpl_NP7fK3",
        "outputId": "21babf96-e46f-4332-9ab0-c4595d3ed3b8"
      },
      "source": [
        "%%writefile Exercicio_1.java\n",
        "\n",
        "import java.util.*;\n",
        "import java.util.Scanner; \n",
        "\n",
        "public class Exercicio_1\n",
        "{\n",
        "    /* O metodo principal */\n",
        "\tpublic static void main(String[] args) \n",
        "\t{\n",
        "      /* codigoAluno e uma matriz, vetor de vetores */\n",
        "\t\tString codigoAluno[] = new String[5];\n",
        "\t\tint notas[][] = new int [5][4];\n",
        "\n",
        "    lerRegistro(codigoAluno, notas);\n",
        "\t\timprimeRegistro(codigoAluno, notas);\n",
        "\t\timprimeMedia(codigoAluno, notas);\n",
        "\t}\n",
        " \n",
        " public static void lerRegistro(String []codigoAluno, int [][]notas)\n",
        " {\n",
        "    Scanner leitura = new Scanner(System.in);\n",
        "\n",
        "\t\t/* lendo os dados dos alunos matriculados e suas notas */\n",
        "\t\tfor (int i=0; i < codigoAluno.length; i++) {\n",
        "\t\t\tSystem.out.println(\"Insere os dados do \"+(i+1)+\" aluno\");\n",
        "\t\t\tSystem.out.println(\"Insere o codigo e as notas dos 4 bimestres \");\n",
        "\t\t\tcodigoAluno[i] = leitura.next();\n",
        "\t\t\tfor (int j=0; j < notas[i].length; j++) {\n",
        "\t\t\t\tnotas[i][j] = leitura.nextInt();\t\n",
        "\t\t\t}\n",
        "\t\t}  \n",
        "    leitura.close();   \n",
        " }\n",
        "\n",
        "\tpublic static void imprimeRegistro(String []codigoAluno, int [][]notas)\n",
        "\t{\n",
        "\t\tSystem.out.println(\"---------------------------------------\");\n",
        "\t\t/* Imprimindo os dados registrados */\n",
        "\t\tSystem.out.println(\"Codigos dos alunos pelas 4 notas bimestrais \");\n",
        "\t\tfor (int i=0; i < codigoAluno.length; i++) {\n",
        "\t\t\tSystem.out.print(codigoAluno[i]+\" -- \");\n",
        "\t\t\tfor (int j=0; j < notas[i].length; j++) {\n",
        "\t\t\t\tSystem.out.print(\" \"+notas[i][j]);\n",
        "\t\t\t}\n",
        "\t\t\tSystem.out.println(\"\");\n",
        "\t\t}\n",
        "\t}\n",
        "\n",
        "\tpublic static void imprimeMedia(String [] codigoAluno, int [][]notas)\n",
        "\t{\n",
        "\t\tSystem.out.println(\"---------------------------------------\");\n",
        "\t\t/* Imprimindo a media das notas dos 4 bimestres registrados */\n",
        "\t\tSystem.out.println(\"Codigos dos Alunos pelas medias \");\n",
        "\t\tfor (int i=0; i < codigoAluno.length; i++) {\n",
        "\t\t\tSystem.out.print(codigoAluno[i]);\n",
        "\t\t\tdouble media = 0;\n",
        "\t\t\tfor (int j=0; j < notas[i].length; j++) {\n",
        "\t\t\t\tmedia += notas[i][j];\n",
        "\t\t\t}\n",
        "\t\t\tSystem.out.println(\" -- \" + media/4.0);\n",
        "\t\t}\n",
        "\t}\n",
        "}"
      ],
      "execution_count": 8,
      "outputs": [
        {
          "output_type": "stream",
          "text": [
            "Overwriting Exercicio_1.java\n"
          ],
          "name": "stdout"
        }
      ]
    },
    {
      "cell_type": "code",
      "metadata": {
        "colab": {
          "base_uri": "https://localhost:8080/"
        },
        "id": "48z1zou0E2xV",
        "outputId": "ff2f0d54-16b0-4abe-dff9-06e98cd96d9c"
      },
      "source": [
        "%%writefile registro_aluno.txt\n",
        "5675675 3 6 8 5\n",
        "2435435 7 8 4 6\n",
        "4564564 4 7 9 3\n",
        "2354567 9 6 4 3\n",
        "6768767 4 8 6 7"
      ],
      "execution_count": 9,
      "outputs": [
        {
          "output_type": "stream",
          "text": [
            "Overwriting registro_aluno.txt\n"
          ],
          "name": "stdout"
        }
      ]
    },
    {
      "cell_type": "code",
      "metadata": {
        "colab": {
          "base_uri": "https://localhost:8080/"
        },
        "id": "dna3z6Or799i",
        "outputId": "2ccba42f-8a0e-4029-8d8e-44a9fabf86bc"
      },
      "source": [
        "!javac Exercicio_1.java\n",
        "!java Exercicio_1 < registro_aluno.txt"
      ],
      "execution_count": 10,
      "outputs": [
        {
          "output_type": "stream",
          "text": [
            "Insere os dados do 1 aluno\n",
            "Insere o codigo e as notas dos 4 bimestres \n",
            "Insere os dados do 2 aluno\n",
            "Insere o codigo e as notas dos 4 bimestres \n",
            "Insere os dados do 3 aluno\n",
            "Insere o codigo e as notas dos 4 bimestres \n",
            "Insere os dados do 4 aluno\n",
            "Insere o codigo e as notas dos 4 bimestres \n",
            "Insere os dados do 5 aluno\n",
            "Insere o codigo e as notas dos 4 bimestres \n",
            "---------------------------------------\n",
            "Codigos dos alunos pelas 4 notas bimestrais \n",
            "5675675 --  3 6 8 5\n",
            "2435435 --  7 8 4 6\n",
            "4564564 --  4 7 9 3\n",
            "2354567 --  9 6 4 3\n",
            "6768767 --  4 8 6 7\n",
            "---------------------------------------\n",
            "Codigos dos Alunos pelas medias \n",
            "5675675 -- 5.5\n",
            "2435435 -- 6.25\n",
            "4564564 -- 5.75\n",
            "2354567 -- 5.5\n",
            "6768767 -- 6.25\n"
          ],
          "name": "stdout"
        }
      ]
    },
    {
      "cell_type": "code",
      "metadata": {
        "colab": {
          "base_uri": "https://localhost:8080/"
        },
        "id": "5P-ovGnvWGQz",
        "outputId": "389113cd-24a4-4001-e509-f37b0e5bb108"
      },
      "source": [
        "%%writefile registro_alunos.txt\n",
        "\"5675675\", 3, 6, 8, 5\n",
        "\"2435435\", 7, 8, 4, 6\n",
        "\"4564564\", 4, 7, 9, 3\n",
        "\"2354567\", 9, 6, 4, 3\n",
        "\"6768767\", 4, 8, 6, 7"
      ],
      "execution_count": 11,
      "outputs": [
        {
          "output_type": "stream",
          "text": [
            "Overwriting registro_alunos.txt\n"
          ],
          "name": "stdout"
        }
      ]
    },
    {
      "cell_type": "code",
      "metadata": {
        "colab": {
          "base_uri": "https://localhost:8080/"
        },
        "id": "jS9Mige3Bxxc",
        "outputId": "af3485b6-a4c1-4baa-ee19-2055a4761e10"
      },
      "source": [
        "%%writefile Exercicio_1.py\n",
        "from numpy import *\n",
        "\n",
        "def lerRegistro(registro):\n",
        "  count = 0\n",
        "  # lendo os registros dos 5 alunos\n",
        "  while(count < 5):\n",
        "    registro.append([])\n",
        "    registro[count].append(eval(input(\"Informe o aluno \"+str(count+1)+\" \")))\n",
        "    count = count +1\n",
        "  print(\"\\n\")\n",
        "\n",
        "def imprimeRegistro(registro):\n",
        "  count = 0\n",
        "  # imprimindo os registros dos 5 alunos\n",
        "  print(\"Codigos dos alunos pelas 4 notas bimestrais \")\n",
        "  while(count < 5):\n",
        "    print(registro[count])\n",
        "    count = count +1\n",
        "\n",
        "def calcMediaRegistro(registro):\n",
        "  count = 0\n",
        "  # calculando as medias dos alunos\n",
        "  print(\"Codigos dos Alunos pelas medias \")\n",
        "  while(count < 5):\n",
        "    media = 0\n",
        "    i=1\n",
        "    while(i < 5):\n",
        "      media += int(registro[count][0][i])\n",
        "      i += 1\n",
        "    media = media/4.0\n",
        "    print(registro[count][0][0]+\" \"+str(media))\n",
        "    count = count+1\n",
        "\n",
        "# o metodo principal\n",
        "if __name__ == '__main__':\n",
        "  registro = []\n",
        "  lerRegistro(registro)\n",
        "  imprimeRegistro(registro)\n",
        "  calcMediaRegistro(registro)"
      ],
      "execution_count": 12,
      "outputs": [
        {
          "output_type": "stream",
          "text": [
            "Overwriting Exercicio_1.py\n"
          ],
          "name": "stdout"
        }
      ]
    },
    {
      "cell_type": "code",
      "metadata": {
        "colab": {
          "base_uri": "https://localhost:8080/"
        },
        "id": "dRk2yfolW4OK",
        "outputId": "9ed8f082-c6e4-49fe-9b41-9a885f31f65b"
      },
      "source": [
        "!python3 Exercicio_1.py < registro_alunos.txt"
      ],
      "execution_count": 13,
      "outputs": [
        {
          "output_type": "stream",
          "text": [
            "Informe o aluno 1 Informe o aluno 2 Informe o aluno 3 Informe o aluno 4 Informe o aluno 5 \n",
            "\n",
            "Codigos dos alunos pelas 4 notas bimestrais \n",
            "[('5675675', 3, 6, 8, 5)]\n",
            "[('2435435', 7, 8, 4, 6)]\n",
            "[('4564564', 4, 7, 9, 3)]\n",
            "[('2354567', 9, 6, 4, 3)]\n",
            "[('6768767', 4, 8, 6, 7)]\n",
            "Codigos dos Alunos pelas medias \n",
            "5675675 5.5\n",
            "2435435 6.25\n",
            "4564564 5.75\n",
            "2354567 5.5\n",
            "6768767 6.25\n"
          ],
          "name": "stdout"
        }
      ]
    },
    {
      "cell_type": "markdown",
      "metadata": {
        "id": "0_oI5Aw6inNj"
      },
      "source": [
        "###Exercício #2\n",
        "Escreva uma função que recebe 15 valores e retorna a média desses valores."
      ]
    },
    {
      "cell_type": "code",
      "metadata": {
        "colab": {
          "base_uri": "https://localhost:8080/"
        },
        "id": "g9P-4txm9G41",
        "outputId": "4526f3ea-3fe3-4069-f484-9bb6d2684d24"
      },
      "source": [
        "%%writefile Exercicio_2.java\n",
        "\n",
        "import java.util.*;\n",
        "\n",
        "public class Exercicio_2 \n",
        "{\n",
        "\t//funcao que calcula a media\n",
        "\tpublic static double calcmedia(int []valores)\n",
        "\t{\n",
        "      int soma = 0;\n",
        "      for(int i=0; i<valores.length; i++)\n",
        "        soma += valores[i];\n",
        "\t\t  return (double)soma/valores.length;\n",
        "\t}\n",
        " \n",
        "  public static void lerValores(int []valores)\n",
        "  {\n",
        "      Scanner leitura = new Scanner(System.in);\n",
        "      int contador=0;\n",
        "\n",
        "      //leitura dos valores do usuario\n",
        "      while(contador < valores.length)\n",
        "      {\n",
        "        System.out.println(\"Informe o \"+(contador+1)+\" valor:\");\n",
        "        valores[contador]= leitura.nextInt();\n",
        "        contador++;\n",
        "      }\n",
        "      leitura.close();\n",
        "  }\n",
        "\n",
        "  /* Metodo principal*/\n",
        "\tpublic static void main(String[] args) \n",
        "\t{\n",
        "      int []valores = new int[15];\n",
        "      lerValores(valores);\n",
        "\t\t  //mostra o resultado apos o calculo da media\n",
        "\t\t  System.out.printf(\"\\nA media dos valores e de: %.2f\\n\", calcmedia(valores));\n",
        "\t}\n",
        "}"
      ],
      "execution_count": 14,
      "outputs": [
        {
          "output_type": "stream",
          "text": [
            "Overwriting Exercicio_2.java\n"
          ],
          "name": "stdout"
        }
      ]
    },
    {
      "cell_type": "code",
      "metadata": {
        "colab": {
          "base_uri": "https://localhost:8080/"
        },
        "id": "Pqx5B16UF1l_",
        "outputId": "4b3b6eca-9bcb-4b30-8d61-55cf7c483949"
      },
      "source": [
        "%%writefile valores.txt\n",
        "4 5 6 8 10 4 3 6 7 2 5 8 9 4 6"
      ],
      "execution_count": 15,
      "outputs": [
        {
          "output_type": "stream",
          "text": [
            "Overwriting valores.txt\n"
          ],
          "name": "stdout"
        }
      ]
    },
    {
      "cell_type": "code",
      "metadata": {
        "colab": {
          "base_uri": "https://localhost:8080/"
        },
        "id": "k9ymNrfB9Wwr",
        "outputId": "988e3063-88bf-45b7-b26b-6d35a261caf4"
      },
      "source": [
        "!javac Exercicio_2.java\n",
        "!java Exercicio_2 < valores.txt"
      ],
      "execution_count": 16,
      "outputs": [
        {
          "output_type": "stream",
          "text": [
            "Informe o 1 valor:\n",
            "Informe o 2 valor:\n",
            "Informe o 3 valor:\n",
            "Informe o 4 valor:\n",
            "Informe o 5 valor:\n",
            "Informe o 6 valor:\n",
            "Informe o 7 valor:\n",
            "Informe o 8 valor:\n",
            "Informe o 9 valor:\n",
            "Informe o 10 valor:\n",
            "Informe o 11 valor:\n",
            "Informe o 12 valor:\n",
            "Informe o 13 valor:\n",
            "Informe o 14 valor:\n",
            "Informe o 15 valor:\n",
            "\n",
            "A media dos valores e de: 5.80\n"
          ],
          "name": "stdout"
        }
      ]
    },
    {
      "cell_type": "code",
      "metadata": {
        "colab": {
          "base_uri": "https://localhost:8080/"
        },
        "id": "GTZxNEeooD0e",
        "outputId": "9683343b-a522-4d2f-ec95-1f4ea1474617"
      },
      "source": [
        "%%writefile Exercicio_2.py\n",
        "from numpy import *\n",
        "\n",
        "def calcMedia(registro):\n",
        "  n = len(registro[0])  #15\n",
        "  i = 0\n",
        "  soma = 0\n",
        "  while(i < n):\n",
        "    soma = soma + registro[0][i]\n",
        "    i = i+1\n",
        "  return soma / n\n",
        "\n",
        "def lerRegistro(registro):\n",
        "  registro.append(array(eval(input(\"Informe o vetor: \\n\"))))\n",
        "\n",
        "# o metodo principal\n",
        "if __name__ == '__main__':\n",
        "  registro = []\n",
        "  lerRegistro(registro)\n",
        "  print(\"A media dos valores = \"+str(calcMedia(registro)))"
      ],
      "execution_count": 17,
      "outputs": [
        {
          "output_type": "stream",
          "text": [
            "Overwriting Exercicio_2.py\n"
          ],
          "name": "stdout"
        }
      ]
    },
    {
      "cell_type": "code",
      "metadata": {
        "colab": {
          "base_uri": "https://localhost:8080/"
        },
        "id": "XogAueRl9EYK",
        "outputId": "1c9dd97f-08a1-4def-9289-055e3711c6ab"
      },
      "source": [
        "%%writefile notas.txt\n",
        "4, 5, 6, 8, 10, 4, 3, 6, 7, 2, 5, 8, 9, 4, 6"
      ],
      "execution_count": 18,
      "outputs": [
        {
          "output_type": "stream",
          "text": [
            "Overwriting notas.txt\n"
          ],
          "name": "stdout"
        }
      ]
    },
    {
      "cell_type": "code",
      "metadata": {
        "colab": {
          "base_uri": "https://localhost:8080/"
        },
        "id": "lkUQWNBstYEo",
        "outputId": "3cb0ce2b-4fe3-4ff6-f1e6-4518225f326b"
      },
      "source": [
        "!python3 Exercicio_2.py < notas.txt"
      ],
      "execution_count": 19,
      "outputs": [
        {
          "output_type": "stream",
          "text": [
            "Informe o vetor: \n",
            "A media dos valores = 5.8\n"
          ],
          "name": "stdout"
        }
      ]
    }
  ]
}