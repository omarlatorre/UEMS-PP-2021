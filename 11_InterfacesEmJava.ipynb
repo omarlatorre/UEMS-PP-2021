{
  "nbformat": 4,
  "nbformat_minor": 0,
  "metadata": {
    "colab": {
      "name": "11_InterfacesEmJava.ipynb",
      "provenance": [],
      "authorship_tag": "ABX9TyOq767fTbnZ2rLMru36oD3h",
      "include_colab_link": true
    },
    "kernelspec": {
      "name": "python3",
      "display_name": "Python 3"
    },
    "language_info": {
      "name": "python"
    }
  },
  "cells": [
    {
      "cell_type": "markdown",
      "metadata": {
        "id": "view-in-github",
        "colab_type": "text"
      },
      "source": [
        "<a href=\"https://colab.research.google.com/github/omarlatorre/UEMS-PP-2021/blob/master/11_InterfacesEmJava.ipynb\" target=\"_parent\"><img src=\"https://colab.research.google.com/assets/colab-badge.svg\" alt=\"Open In Colab\"/></a>"
      ]
    },
    {
      "cell_type": "markdown",
      "metadata": {
        "id": "iIDoC1efWBV8"
      },
      "source": [
        "#Interfaces em Java\n",
        "<ul>\n",
        "<li>Toda interface pode ser vista como uma classe abstrata, mas a recíproca não é verdadeira.</li>\n",
        "<li>Quando dizemos que uma classe implementa uma interface obrigatoriamente essa classe tem que implementar todos os métodos declarados na interface. </li>\n",
        "<li>Neste sentido, uma interface pode ser vista como sendo um contrato estabelecido entre a classe que implementa a interface (provedora do serviço) e a classe que vai utilizar os métodos definidos na interface (cliente do serviço).</li>\n",
        "</ul>"
      ]
    },
    {
      "cell_type": "code",
      "metadata": {
        "colab": {
          "base_uri": "https://localhost:8080/"
        },
        "id": "-hqqKI_KV8y3",
        "outputId": "53bafa50-c12c-47f3-e047-6e8e15100d87"
      },
      "source": [
        "!pip install git+git://github.com/canesche/nvcc4jupyter.git\n",
        "!git clone https://github.com/canesche/nvcc4jupyter\n",
        "%load_ext nvcc_plugin"
      ],
      "execution_count": 1,
      "outputs": [
        {
          "output_type": "stream",
          "text": [
            "Collecting git+git://github.com/canesche/nvcc4jupyter.git\n",
            "  Cloning git://github.com/canesche/nvcc4jupyter.git to /tmp/pip-req-build-6treo_8t\n",
            "  Running command git clone -q git://github.com/canesche/nvcc4jupyter.git /tmp/pip-req-build-6treo_8t\n",
            "Building wheels for collected packages: ColabPlugin\n",
            "  Building wheel for ColabPlugin (setup.py) ... \u001b[?25l\u001b[?25hdone\n",
            "  Created wheel for ColabPlugin: filename=ColabPlugin-blind-cp37-none-any.whl size=12726 sha256=fda182a3c0f706bc7beefbaa8b2c4f532443d5add3a098277a365b4ece26e7d1\n",
            "  Stored in directory: /tmp/pip-ephem-wheel-cache-_e61xtfq/wheels/87/ae/09/21c6e192181a0472e20ddd1d5212e2cbb113f00ebe14330d0d\n",
            "Successfully built ColabPlugin\n",
            "Installing collected packages: ColabPlugin\n",
            "Successfully installed ColabPlugin-blind\n",
            "Cloning into 'nvcc4jupyter'...\n",
            "remote: Enumerating objects: 1147, done.\u001b[K\n",
            "remote: Counting objects: 100% (362/362), done.\u001b[K\n",
            "remote: Compressing objects: 100% (271/271), done.\u001b[K\n",
            "remote: Total 1147 (delta 100), reused 328 (delta 74), pack-reused 785\u001b[K\n",
            "Receiving objects: 100% (1147/1147), 35.71 MiB | 20.35 MiB/s, done.\n",
            "Resolving deltas: 100% (554/554), done.\n"
          ],
          "name": "stdout"
        }
      ]
    },
    {
      "cell_type": "code",
      "metadata": {
        "colab": {
          "base_uri": "https://localhost:8080/"
        },
        "id": "9S_wF_bGacah",
        "outputId": "89c02a70-b4b0-4674-e96c-785f837e15da"
      },
      "source": [
        "%%writefile IExemplo.java\n",
        "\n",
        "public interface IExemplo { \n",
        "    public void metodo1(); \n",
        "    public void metodoN(); \n",
        "}"
      ],
      "execution_count": 2,
      "outputs": [
        {
          "output_type": "stream",
          "text": [
            "Writing IExemplo.java\n"
          ],
          "name": "stdout"
        }
      ]
    },
    {
      "cell_type": "code",
      "metadata": {
        "colab": {
          "base_uri": "https://localhost:8080/"
        },
        "id": "fTTUPgYVaq-7",
        "outputId": "2efe42a7-90a5-40d1-f135-712033faa51f"
      },
      "source": [
        "%%writefile Exemplo.java\n",
        "public class Exemplo implements IExemplo { \n",
        "    // nao faz nada\n",
        "}"
      ],
      "execution_count": 3,
      "outputs": [
        {
          "output_type": "stream",
          "text": [
            "Writing Exemplo.java\n"
          ],
          "name": "stdout"
        }
      ]
    },
    {
      "cell_type": "code",
      "metadata": {
        "colab": {
          "base_uri": "https://localhost:8080/"
        },
        "id": "HGsgXtnPcP0t",
        "outputId": "6476f2f5-a104-4727-b0ba-5404978e6cad"
      },
      "source": [
        "%%writefile TestExemplo.java\n",
        "\n",
        "public class TestExemplo{\n",
        "    public static void main(String []args){\n",
        "        Exemplo exemplo = new Exemplo();\n",
        "        exemplo.metodo1();\n",
        "        exemplo.metodoN();\n",
        "    }\n",
        "}"
      ],
      "execution_count": 4,
      "outputs": [
        {
          "output_type": "stream",
          "text": [
            "Writing TestExemplo.java\n"
          ],
          "name": "stdout"
        }
      ]
    },
    {
      "cell_type": "code",
      "metadata": {
        "colab": {
          "base_uri": "https://localhost:8080/"
        },
        "id": "M3pb5i6GbCA2",
        "outputId": "9edbc635-92e5-41fe-ec68-228ea469650f"
      },
      "source": [
        "!javac IExemplo.java Exemplo.java TestExemplo.java\n",
        "!java TestExemplo"
      ],
      "execution_count": 5,
      "outputs": [
        {
          "output_type": "stream",
          "text": [
            "Exemplo.java:1: error: Exemplo is not abstract and does not override abstract method metodoN() in IExemplo\n",
            "public class Exemplo implements IExemplo { \n",
            "       ^\n",
            "TestExemplo.java:5: error: cannot find symbol\n",
            "        exemplo.metodo1();\n",
            "               ^\n",
            "  symbol:   method metodo1()\n",
            "  location: variable exemplo of type Exemplo\n",
            "TestExemplo.java:6: error: cannot find symbol\n",
            "        exemplo.metodoN();\n",
            "               ^\n",
            "  symbol:   method metodoN()\n",
            "  location: variable exemplo of type Exemplo\n",
            "3 errors\n",
            "Error: Could not find or load main class TestExemplo\n",
            "Caused by: java.lang.ClassNotFoundException: TestExemplo\n"
          ],
          "name": "stdout"
        }
      ]
    },
    {
      "cell_type": "markdown",
      "metadata": {
        "id": "s_BWSht9bOgU"
      },
      "source": [
        "**Erro de compilação** porque a classe Exemplo não implementa todos os métodos definidos na interface IExemplo.\n",
        "\n",
        "Corrigindo...\n",
        "\n"
      ]
    },
    {
      "cell_type": "code",
      "metadata": {
        "colab": {
          "base_uri": "https://localhost:8080/"
        },
        "id": "s23FWv1ublqY",
        "outputId": "a6bfbdc6-4da6-48e0-96b3-d3e7c14152aa"
      },
      "source": [
        "%%writefile Exemplo.java\n",
        "\n",
        "public class Exemplo implements IExemplo { \n",
        "    public void metodo1() { \n",
        "        System.out.println(\"Executando metodo1( )...\"); \n",
        "    } \n",
        "    public void metodoN() { \n",
        "      System.out.println(\"Executando metodoN( )...\"); \n",
        "    } \n",
        "}"
      ],
      "execution_count": 6,
      "outputs": [
        {
          "output_type": "stream",
          "text": [
            "Overwriting Exemplo.java\n"
          ],
          "name": "stdout"
        }
      ]
    },
    {
      "cell_type": "code",
      "metadata": {
        "colab": {
          "base_uri": "https://localhost:8080/"
        },
        "id": "KBGc9WEOb7PL",
        "outputId": "8fdf2dee-e43c-407a-c3aa-d29d79084ee5"
      },
      "source": [
        "!javac IExemplo.java Exemplo.java TestExemplo.java\n",
        "!java TestExemplo"
      ],
      "execution_count": 7,
      "outputs": [
        {
          "output_type": "stream",
          "text": [
            "Executando metodo1( )...\n",
            "Executando metodoN( )...\n"
          ],
          "name": "stdout"
        }
      ]
    },
    {
      "cell_type": "code",
      "metadata": {
        "colab": {
          "base_uri": "https://localhost:8080/"
        },
        "id": "fX00ga8HdxEN",
        "outputId": "c70acc75-d07b-48b2-89a2-37766ffd3b55"
      },
      "source": [
        "%%writefile Exemplo2.java\n",
        "\n",
        "public class Exemplo2 implements IExemplo { \n",
        "    public void metodo1() { \n",
        "        System.out.println(\"metodo1( ) de Exemplo2...\"); } \n",
        "    public void metodoN() { \n",
        "        System.out.println(\"metodoN( ) de Exemplo2...\"); } \n",
        "}"
      ],
      "execution_count": 8,
      "outputs": [
        {
          "output_type": "stream",
          "text": [
            "Writing Exemplo2.java\n"
          ],
          "name": "stdout"
        }
      ]
    },
    {
      "cell_type": "code",
      "metadata": {
        "colab": {
          "base_uri": "https://localhost:8080/"
        },
        "id": "2lD4VJZOeDvM",
        "outputId": "c5e1bb72-c3bf-45f8-9013-202becef319c"
      },
      "source": [
        "%%writefile TestExemplo2.java\n",
        "\n",
        "public class TestExemplo2{\n",
        "    public static void main(String []args){\n",
        "        System.out.println(\"Uso de Interface:\"); \n",
        "        IExemplo ex = new Exemplo2(); \n",
        "        ex.metodo1(); \n",
        "        ex.metodoN();\n",
        "        IExemplo ex1 = new Exemplo();\n",
        "        ex1.metodo1();\n",
        "        ex1.metodoN();\n",
        "    }\n",
        "}"
      ],
      "execution_count": 12,
      "outputs": [
        {
          "output_type": "stream",
          "text": [
            "Overwriting TestExemplo2.java\n"
          ],
          "name": "stdout"
        }
      ]
    },
    {
      "cell_type": "code",
      "metadata": {
        "colab": {
          "base_uri": "https://localhost:8080/"
        },
        "id": "Vo8czf8LeXtT",
        "outputId": "209477ab-d26e-440a-f744-a31e436fec70"
      },
      "source": [
        "!javac IExemplo.java Exemplo2.java TestExemplo2.java\n",
        "!java TestExemplo2"
      ],
      "execution_count": 13,
      "outputs": [
        {
          "output_type": "stream",
          "text": [
            "Uso de Interface:\n",
            "metodo1( ) de Exemplo2...\n",
            "metodoN( ) de Exemplo2...\n",
            "Executando metodo1( )...\n",
            "Executando metodoN( )...\n"
          ],
          "name": "stdout"
        }
      ]
    },
    {
      "cell_type": "markdown",
      "metadata": {
        "id": "4NbS9Za-e12D"
      },
      "source": [
        "**Conclusões**: Polimorfismo; Vários objetos tratados da mesma forma."
      ]
    },
    {
      "cell_type": "code",
      "metadata": {
        "colab": {
          "base_uri": "https://localhost:8080/"
        },
        "id": "w_WJwx_lWHhc",
        "outputId": "9dc581b8-b5aa-47d3-e1a7-e42a7067c99e"
      },
      "source": [
        "%%writefile Candidato.java\n",
        "\n",
        "public class Candidato implements Comparable<Candidato>{\n",
        "   // atributos\n",
        "   private int nota;\n",
        "   private boolean deficiente;\n",
        "   private int idade;\n",
        "\n",
        "   // metodo construtor\n",
        "   public Candidato(int nota, boolean deficiente, int idade){\n",
        "      super();\n",
        "      this.nota = nota;\n",
        "      this.deficiente = deficiente;\n",
        "      this.idade = idade;\n",
        "   }\n",
        "\n",
        "   // metodos de acesso\n",
        "   public int getNota(){\n",
        "\t    return nota;\n",
        "   }\n",
        "\n",
        "   public boolean isDeficiente(){\n",
        "\t    return deficiente;\n",
        "   }\n",
        "\n",
        "   public int getIdade(){\n",
        "\t    return idade;\n",
        "   }\n",
        "\n",
        "   // sobrecarregamento de metodo compareTo da interface Comparable\n",
        "   @Override\n",
        "   public int compareTo(Candidato outro){\n",
        "      if(nota == outro.getNota()){\n",
        "        if(deficiente == outro.isDeficiente()){\n",
        "            return idade - outro.getIdade();\n",
        "        }else{\n",
        "            if(deficiente) return 1;\n",
        "            else return -1;\n",
        "        }\n",
        "      } else{\n",
        "        return nota - outro.getNota();\n",
        "      }\n",
        "   }\n",
        "\n",
        "   // sobrecarregamento de metodo toString da interface Comparable\n",
        "   @Override\n",
        "   public String toString(){\n",
        "\t    return nota +\";\"+ deficiente+\";\"+idade;\n",
        "   }\n",
        "}"
      ],
      "execution_count": 14,
      "outputs": [
        {
          "output_type": "stream",
          "text": [
            "Writing Candidato.java\n"
          ],
          "name": "stdout"
        }
      ]
    },
    {
      "cell_type": "markdown",
      "metadata": {
        "id": "rHW_VeteW5LF"
      },
      "source": [
        "A classe **Collections** usa a interface **Comparable** para fazer a ordenacao de seus elementos para maior informacao veja https://www.journaldev.com/780/comparable-and-comparator-in-java-example"
      ]
    },
    {
      "cell_type": "code",
      "metadata": {
        "colab": {
          "base_uri": "https://localhost:8080/"
        },
        "id": "2jLdqOJrWtEX",
        "outputId": "0038b796-78a4-4666-a858-e081f7686a78"
      },
      "source": [
        "%%writefile TestCandidato.java\n",
        "\n",
        "import java.util.ArrayList;\n",
        "import java.util.Collections;\n",
        "import java.util.List;\n",
        "\n",
        "public class TestCandidato {\n",
        "    public static void main(String[] args){\n",
        "      // criando uma lista de objetos tipo Candidato\n",
        "      List<Candidato> lista = new ArrayList<>();\n",
        "\n",
        "    \tlista.add(new Candidato(80,true,30));\n",
        "    \tlista.add(new Candidato(80,true,25));\n",
        "    \tlista.add(new Candidato(80,true,28));\n",
        "    \tlista.add(new Candidato(90,true,20));\n",
        "    \n",
        "    \tCollections.sort(lista);\n",
        "\t    // percorrendo a lista e imprimindo seus elementos\n",
        "    \tfor(Candidato c: lista){\n",
        "    \t   System.out.println(c);\n",
        "    \t}\n",
        "    }\n",
        "}"
      ],
      "execution_count": 15,
      "outputs": [
        {
          "output_type": "stream",
          "text": [
            "Writing TestCandidato.java\n"
          ],
          "name": "stdout"
        }
      ]
    },
    {
      "cell_type": "code",
      "metadata": {
        "colab": {
          "base_uri": "https://localhost:8080/"
        },
        "id": "IeKC3b15XOak",
        "outputId": "8488b7a5-022d-469e-fc5a-c1bfbaa4c76a"
      },
      "source": [
        "!javac Candidato.java TestCandidato.java\n",
        "!java TestCandidato"
      ],
      "execution_count": 16,
      "outputs": [
        {
          "output_type": "stream",
          "text": [
            "80;true;25\n",
            "80;true;28\n",
            "80;true;30\n",
            "90;true;20\n"
          ],
          "name": "stdout"
        }
      ]
    },
    {
      "cell_type": "markdown",
      "metadata": {
        "id": "n9hsntV8Xfdl"
      },
      "source": [
        "##LISTA DE EXERCÍCIOS RESOLVIDOS\n",
        "\n",
        "###Exercício #1\n",
        "<ol>\n",
        "<li>Construir a classe Quadrado que implementa a interface FormaGeometrica; </li>\n",
        "<li>Implementar programa de testes que declara duas variáveis do tipo FormaGeometrica e instancia dois objetos um do tipo Circulo e outro do tipo Quadrado. Exibir a área e o comprimento dos objetos instanciados.\n",
        "</li>\n",
        "</ol>"
      ]
    },
    {
      "cell_type": "code",
      "metadata": {
        "colab": {
          "base_uri": "https://localhost:8080/"
        },
        "id": "4IcIKhLBfVrF",
        "outputId": "8cd98490-b3dd-4d4c-c7e4-77eefd03ec95"
      },
      "source": [
        "%%writefile FormaGeometrica.java\n",
        "\n",
        "/*\n",
        " * Autor : Omar Latorre Vilca\n",
        " * Interfaces \n",
        " * FormaGeometrica, Circulo, Quadrado e TestFormaGeometrica\n",
        " * Exercicio_4\n",
        " * */\n",
        "\n",
        "public interface FormaGeometrica {\n",
        "\tpublic double area( );\n",
        "\tpublic double comprimento( );\n",
        "}"
      ],
      "execution_count": 17,
      "outputs": [
        {
          "output_type": "stream",
          "text": [
            "Writing FormaGeometrica.java\n"
          ],
          "name": "stdout"
        }
      ]
    },
    {
      "cell_type": "code",
      "metadata": {
        "colab": {
          "base_uri": "https://localhost:8080/"
        },
        "id": "jxSevRKrffJb",
        "outputId": "825ac81a-cc2f-4c38-b862-d61d4333da44"
      },
      "source": [
        "%%writefile Circulo.java\n",
        "\n",
        "/*\n",
        " * Autor : Omar Latorre Vilca\n",
        " * Interfaces \n",
        " * FormaGeometrica Circulo Quadrado TestFormaGeometrica\n",
        " * */\n",
        "\n",
        "public class Circulo implements FormaGeometrica {\n",
        "    // atributos\n",
        "\tprivate double raio;\n",
        "\tprivate static final double PI = 3.14;\n",
        "\t\n",
        "\t// construtor\n",
        "\tpublic Circulo(double raio) {\n",
        "\t\tthis.raio = raio;\n",
        "\t}\n",
        "\n",
        "\t@Override\n",
        "\tpublic double area() {\n",
        "\t\treturn (PI * raio * raio);\n",
        "\t}\n",
        "\n",
        "\t@Override\n",
        "\tpublic double comprimento() {\n",
        "\t\treturn (2 * PI * raio);\n",
        "\t}\n",
        "\n",
        "\t@Override\n",
        "\tpublic String toString() {\n",
        "\t\treturn \"Circulo [raio=\" + raio + \", area()=\" + area() + \", comprimento()=\" + comprimento() + \"]\";\n",
        "\t}\n",
        "}"
      ],
      "execution_count": 18,
      "outputs": [
        {
          "output_type": "stream",
          "text": [
            "Writing Circulo.java\n"
          ],
          "name": "stdout"
        }
      ]
    },
    {
      "cell_type": "code",
      "metadata": {
        "colab": {
          "base_uri": "https://localhost:8080/"
        },
        "id": "XxZDrU_XfrHy",
        "outputId": "cfcca1df-8942-46f2-bb36-98ca13b78659"
      },
      "source": [
        "%%writefile Quadrado.java\n",
        "/*\n",
        " * Autor : Omar Latorre Vilca\n",
        " * Interfaces \n",
        " * FormaGeometrica Circulo Quadrado TestFormaGeometrica\n",
        " * */\n",
        "\n",
        "public class Quadrado implements FormaGeometrica {\n",
        "\t// atributo\n",
        "\tprivate double lado;\n",
        "\t\n",
        "\t// construtor\n",
        "\tpublic Quadrado(double lado) {\n",
        "\t\tthis.lado = lado;\n",
        "\t}\n",
        "\n",
        "\t@Override\n",
        "\tpublic double area() {\n",
        "\t\treturn (lado * lado);\n",
        "\t}\n",
        "\n",
        "\t@Override\n",
        "\tpublic double comprimento() {\n",
        "\t\treturn (4 * lado);\n",
        "\t}\n",
        "\n",
        "\t@Override\n",
        "\tpublic String toString() {\n",
        "\t\treturn \"Quadrado [lado=\" + lado + \", area()=\" + area() + \", comprimento()=\" + comprimento() + \"]\";\n",
        "\t}\n",
        "}"
      ],
      "execution_count": 19,
      "outputs": [
        {
          "output_type": "stream",
          "text": [
            "Writing Quadrado.java\n"
          ],
          "name": "stdout"
        }
      ]
    },
    {
      "cell_type": "code",
      "metadata": {
        "colab": {
          "base_uri": "https://localhost:8080/"
        },
        "id": "AUVX724Af0bt",
        "outputId": "3e08772a-59ac-449f-9a86-0c892723880d"
      },
      "source": [
        "%%writefile TestFormaGeometrica.java\n",
        "\n",
        "/*\n",
        " * Autor : Omar Latorre Vilca\n",
        " * Interfaces \n",
        " * FormaGeometrica Circulo Quadrado TestFormaGeometrica\n",
        " * */\n",
        "\n",
        "public class TestFormaGeometrica {\n",
        "\n",
        "\tpublic static void main(String[] args) {\n",
        "\t\t// instanciando a classe circulo\n",
        "\t\tFormaGeometrica circulo = new Circulo(4.5);\n",
        "\t\tSystem.out.println(circulo.toString());\n",
        "\t\t\n",
        "\t\t//  instanciando a classe quadrado\n",
        "\t\tFormaGeometrica quadrado = new Quadrado(2.5);\n",
        "\t\tSystem.out.println(quadrado.toString());\n",
        "\t}\n",
        "}"
      ],
      "execution_count": 20,
      "outputs": [
        {
          "output_type": "stream",
          "text": [
            "Writing TestFormaGeometrica.java\n"
          ],
          "name": "stdout"
        }
      ]
    },
    {
      "cell_type": "code",
      "metadata": {
        "colab": {
          "base_uri": "https://localhost:8080/"
        },
        "id": "3VEuifXrf-XD",
        "outputId": "6b797569-40c2-4262-aa2b-74ad628df4a3"
      },
      "source": [
        "!javac FormaGeometrica.java Circulo.java Quadrado.java TestFormaGeometrica.java\n",
        "!java TestFormaGeometrica"
      ],
      "execution_count": 21,
      "outputs": [
        {
          "output_type": "stream",
          "text": [
            "Circulo [raio=4.5, area()=63.585, comprimento()=28.26]\n",
            "Quadrado [lado=2.5, area()=6.25, comprimento()=10.0]\n"
          ],
          "name": "stdout"
        }
      ]
    }
  ]
}