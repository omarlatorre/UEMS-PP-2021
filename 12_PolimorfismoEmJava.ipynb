{
  "nbformat": 4,
  "nbformat_minor": 0,
  "metadata": {
    "colab": {
      "name": "12_PolimorfismoEmJava.ipynb",
      "provenance": [],
      "authorship_tag": "ABX9TyPyU+YjyFCenY06Glda0Tnk",
      "include_colab_link": true
    },
    "kernelspec": {
      "name": "python3",
      "display_name": "Python 3"
    },
    "language_info": {
      "name": "python"
    }
  },
  "cells": [
    {
      "cell_type": "markdown",
      "metadata": {
        "id": "view-in-github",
        "colab_type": "text"
      },
      "source": [
        "<a href=\"https://colab.research.google.com/github/omarlatorre/UEMS-PP-2021/blob/master/12_PolimorfismoEmJava.ipynb\" target=\"_parent\"><img src=\"https://colab.research.google.com/assets/colab-badge.svg\" alt=\"Open In Colab\"/></a>"
      ]
    },
    {
      "cell_type": "markdown",
      "metadata": {
        "id": "6tZ5fSUMqiOF"
      },
      "source": [
        "#Polimorfismo em Java\n",
        "<ul>\n",
        "<li>O polimorfismo é mais um princípio fundamental da orientação a objetos</li>\n",
        "<li>Significa, ao pé da letra, \"várias formas\"</li>\n",
        "<li>Não confundir com sobrecarga (overload)</li>\n",
        "<li>Ele permite que classes pertencentes a uma\n",
        "mesma linha de herança possuam\n",
        "comportamentos diferentes para o mesmo\n",
        "método</li>\n",
        "</ul>\n"
      ]
    },
    {
      "cell_type": "code",
      "metadata": {
        "colab": {
          "base_uri": "https://localhost:8080/"
        },
        "id": "2rjaPsMjqcAz",
        "outputId": "3e362b16-988e-4fb2-8cec-f6ad21e88a72"
      },
      "source": [
        "!pip install git+git://github.com/canesche/nvcc4jupyter.git\n",
        "!git clone https://github.com/canesche/nvcc4jupyter\n",
        "%load_ext nvcc_plugin"
      ],
      "execution_count": null,
      "outputs": [
        {
          "output_type": "stream",
          "text": [
            "Collecting git+git://github.com/canesche/nvcc4jupyter.git\n",
            "  Cloning git://github.com/canesche/nvcc4jupyter.git to /tmp/pip-req-build-4cu3bnk0\n",
            "  Running command git clone -q git://github.com/canesche/nvcc4jupyter.git /tmp/pip-req-build-4cu3bnk0\n",
            "Building wheels for collected packages: ColabPlugin\n",
            "  Building wheel for ColabPlugin (setup.py) ... \u001b[?25l\u001b[?25hdone\n",
            "  Created wheel for ColabPlugin: filename=ColabPlugin-blind-cp37-none-any.whl size=12726 sha256=c5af3d307021ac89df67bd7d0be012088e1e8cd1fbffc54ff1dbc63215e46b36\n",
            "  Stored in directory: /tmp/pip-ephem-wheel-cache-bf_5tpli/wheels/87/ae/09/21c6e192181a0472e20ddd1d5212e2cbb113f00ebe14330d0d\n",
            "Successfully built ColabPlugin\n",
            "Installing collected packages: ColabPlugin\n",
            "Successfully installed ColabPlugin-blind\n",
            "Cloning into 'nvcc4jupyter'...\n",
            "remote: Enumerating objects: 1147, done.\u001b[K\n",
            "remote: Counting objects: 100% (362/362), done.\u001b[K\n",
            "remote: Compressing objects: 100% (271/271), done.\u001b[K\n",
            "remote: Total 1147 (delta 100), reused 328 (delta 74), pack-reused 785\u001b[K\n",
            "Receiving objects: 100% (1147/1147), 35.71 MiB | 21.38 MiB/s, done.\n",
            "Resolving deltas: 100% (554/554), done.\n"
          ],
          "name": "stdout"
        }
      ]
    },
    {
      "cell_type": "markdown",
      "metadata": {
        "id": "K6_Pju0jybN_"
      },
      "source": [
        "<ul>\n",
        "<li>Exemplo simples: em um jogo de xadrez temos várias peças, cada peça se\n",
        "movimenta, porém cada tipo de peça se movimenta de uma maneira diferente (o\n",
        "peão vai pra frente, o cavalo anda em L, o bisbo em diagonal e assim por diante)</li>\n",
        "<li>Desta maneira, todos (peão, cavalo e bispo) são peças, porém cada um se movimenta de uma maneira diferente!</li>\n",
        "</ul>"
      ]
    },
    {
      "cell_type": "code",
      "metadata": {
        "colab": {
          "base_uri": "https://localhost:8080/"
        },
        "id": "Jvnrot9ay4l2",
        "outputId": "acee787e-e333-4e6d-a89c-41c5eb2de673"
      },
      "source": [
        "%%writefile Peca.java\n",
        "\n",
        "public abstract class Peca{\n",
        "    public abstract void mover();\n",
        "}"
      ],
      "execution_count": null,
      "outputs": [
        {
          "output_type": "stream",
          "text": [
            "Writing Peca.java\n"
          ],
          "name": "stdout"
        }
      ]
    },
    {
      "cell_type": "code",
      "metadata": {
        "colab": {
          "base_uri": "https://localhost:8080/"
        },
        "id": "Kot5SYQlzemH",
        "outputId": "937f20cf-2d06-4bfe-f991-7488e2851376"
      },
      "source": [
        "%%writefile Peao.java\n",
        "\n",
        "public class Peao extends Peca{\n",
        "    public void mover(){\n",
        "        System.out.println(\"Andar para frente\");\n",
        "    }\n",
        "}"
      ],
      "execution_count": null,
      "outputs": [
        {
          "output_type": "stream",
          "text": [
            "Writing Peao.java\n"
          ],
          "name": "stdout"
        }
      ]
    },
    {
      "cell_type": "code",
      "metadata": {
        "colab": {
          "base_uri": "https://localhost:8080/"
        },
        "id": "5Oqtt3K-z8S4",
        "outputId": "84c07062-a333-46d6-d7b1-387f78df3797"
      },
      "source": [
        "%%writefile Cavalo.java\n",
        "\n",
        "public class Cavalo extends Peca{\n",
        "    public void mover(){\n",
        "        System.out.println(\"Andar em L\");\n",
        "    }\n",
        "}"
      ],
      "execution_count": null,
      "outputs": [
        {
          "output_type": "stream",
          "text": [
            "Writing Cavalo.java\n"
          ],
          "name": "stdout"
        }
      ]
    },
    {
      "cell_type": "code",
      "metadata": {
        "colab": {
          "base_uri": "https://localhost:8080/"
        },
        "id": "_1XWuShl0PZ-",
        "outputId": "3bd54e14-67db-4018-8ff4-06d1087b3d32"
      },
      "source": [
        "%%writefile Bispo.java\n",
        "\n",
        "public class Bispo extends Peca{\n",
        "    public void mover(){\n",
        "        System.out.println(\"Andar na diagonal\");\n",
        "    }\n",
        "}"
      ],
      "execution_count": null,
      "outputs": [
        {
          "output_type": "stream",
          "text": [
            "Writing Bispo.java\n"
          ],
          "name": "stdout"
        }
      ]
    },
    {
      "cell_type": "code",
      "metadata": {
        "colab": {
          "base_uri": "https://localhost:8080/"
        },
        "id": "gKLa-V250XcV",
        "outputId": "1baea987-d670-464e-a9a5-06036cd5e489"
      },
      "source": [
        "%%writefile TestPeca.java\n",
        "\n",
        "public class TestPeca{\n",
        "    public static void main(String [] args){\n",
        "        Peca peao = new Peao();\n",
        "        Peca cavalo = new Cavalo();\n",
        "        Peca bispo = new Bispo();\n",
        "\n",
        "        peao.mover();\n",
        "        cavalo.mover();\n",
        "        bispo.mover();   \n",
        "    }\n",
        "}"
      ],
      "execution_count": null,
      "outputs": [
        {
          "output_type": "stream",
          "text": [
            "Writing TestPeca.java\n"
          ],
          "name": "stdout"
        }
      ]
    },
    {
      "cell_type": "code",
      "metadata": {
        "colab": {
          "base_uri": "https://localhost:8080/"
        },
        "id": "pFR8o6ah09fB",
        "outputId": "930ed164-d979-440c-c3fa-94524698e3ac"
      },
      "source": [
        "!javac Peca.java Peao.java Cavalo.java Bispo.java TestPeca.java\n",
        "!java TestPeca"
      ],
      "execution_count": null,
      "outputs": [
        {
          "output_type": "stream",
          "text": [
            "Andar para frente\n",
            "Andar em L\n",
            "Andar na diagonal\n"
          ],
          "name": "stdout"
        }
      ]
    },
    {
      "cell_type": "markdown",
      "metadata": {
        "id": "YmUkXS22q1tZ"
      },
      "source": [
        "##LISTA DE EXERCÍCIOS RESOLVIDOS\n",
        "\n",
        "###Exercício #1\n",
        "<ul>\n",
        "<li>Crie a interface **Animal** especificando os métodos **sono** e **comida**. </li>\n",
        "<li>Implementar as classes Gato, Cachorro, tigre, lobo e Leao, as quais implementam a interface Animal, observe que os métodos sono e comida devem ser implementados em cada classe.</li>\n",
        "<li>Implementar também a classe Principal possua um método main para testar os métodos das classes criadas.</li>\n",
        "</ul>"
      ]
    },
    {
      "cell_type": "code",
      "metadata": {
        "colab": {
          "base_uri": "https://localhost:8080/"
        },
        "id": "p3wwO_Mvqp1_",
        "outputId": "fb3fbc2b-4577-4440-8960-4adb8b7e268d"
      },
      "source": [
        "%%writefile IAnimal.java\n",
        "\n",
        "public interface IAnimal{\n",
        "    public void sono();\n",
        "    public void comida();\n",
        "}\n"
      ],
      "execution_count": null,
      "outputs": [
        {
          "output_type": "stream",
          "text": [
            "Writing IAnimal.java\n"
          ],
          "name": "stdout"
        }
      ]
    },
    {
      "cell_type": "code",
      "metadata": {
        "colab": {
          "base_uri": "https://localhost:8080/"
        },
        "id": "0JrCj6orrasd",
        "outputId": "4dbf7fd9-3187-49b3-c399-139952003e4c"
      },
      "source": [
        "%%writefile Gato.java\n",
        "\n",
        "public class Gato implements IAnimal{\n",
        "    public void sono() { \n",
        "        System.out.println(\"O gato esta com sono vai dormir\"); \n",
        "    } \n",
        "    public void comida() { \n",
        "      System.out.println(\"O gato esta com fome vai comer\"); \n",
        "    } \n",
        "}"
      ],
      "execution_count": null,
      "outputs": [
        {
          "output_type": "stream",
          "text": [
            "Writing Gato.java\n"
          ],
          "name": "stdout"
        }
      ]
    },
    {
      "cell_type": "code",
      "metadata": {
        "colab": {
          "base_uri": "https://localhost:8080/"
        },
        "id": "kjaQP9-7sfIO",
        "outputId": "367cf271-2a47-4f0a-d5c3-82eae52c8e49"
      },
      "source": [
        "%%writefile Cachorro.java\n",
        "\n",
        "public class Cachorro implements IAnimal{\n",
        "    public void sono() { \n",
        "        System.out.println(\"O cachorro esta com sono vai dormir\"); \n",
        "    } \n",
        "    public void comida() { \n",
        "      System.out.println(\"O cachorro esta com fome vai comer\"); \n",
        "    } \n",
        "}"
      ],
      "execution_count": null,
      "outputs": [
        {
          "output_type": "stream",
          "text": [
            "Writing Cachorro.java\n"
          ],
          "name": "stdout"
        }
      ]
    },
    {
      "cell_type": "code",
      "metadata": {
        "colab": {
          "base_uri": "https://localhost:8080/"
        },
        "id": "jcI6xpRCsqgX",
        "outputId": "739eaedc-7924-4172-ff8f-ad2e37550bfe"
      },
      "source": [
        "%%writefile Tigre.java\n",
        "\n",
        "public class Tigre implements IAnimal{\n",
        "    public void sono() { \n",
        "        System.out.println(\"O tigre esta com sono vai dormir\"); \n",
        "    } \n",
        "    public void comida() { \n",
        "      System.out.println(\"O tigre esta com fome vai comer\"); \n",
        "    } \n",
        "}"
      ],
      "execution_count": null,
      "outputs": [
        {
          "output_type": "stream",
          "text": [
            "Writing Tigre.java\n"
          ],
          "name": "stdout"
        }
      ]
    },
    {
      "cell_type": "code",
      "metadata": {
        "colab": {
          "base_uri": "https://localhost:8080/"
        },
        "id": "RGx9CulxsxPu",
        "outputId": "2316eab3-1fa4-4165-e1f0-2480e9abe10b"
      },
      "source": [
        "%%writefile Lobo.java\n",
        "\n",
        "public class Lobo implements IAnimal{\n",
        "    public void sono() { \n",
        "        System.out.println(\"O lobo esta com sono vai dormir\"); \n",
        "    } \n",
        "    public void comida() { \n",
        "      System.out.println(\"O lobo esta com fome vai comer\"); \n",
        "    } \n",
        "}"
      ],
      "execution_count": null,
      "outputs": [
        {
          "output_type": "stream",
          "text": [
            "Writing Lobo.java\n"
          ],
          "name": "stdout"
        }
      ]
    },
    {
      "cell_type": "code",
      "metadata": {
        "colab": {
          "base_uri": "https://localhost:8080/"
        },
        "id": "oBhMdpuds3y_",
        "outputId": "687f1908-d568-4425-9698-2d138634f481"
      },
      "source": [
        "%%writefile Leao.java\n",
        "\n",
        "public class Leao implements IAnimal{\n",
        "    public void sono() { \n",
        "        System.out.println(\"O leao esta com sono vai dormir\"); \n",
        "    } \n",
        "    public void comida() { \n",
        "      System.out.println(\"O leao esta com fome vai comer\"); \n",
        "    } \n",
        "}"
      ],
      "execution_count": null,
      "outputs": [
        {
          "output_type": "stream",
          "text": [
            "Writing Leao.java\n"
          ],
          "name": "stdout"
        }
      ]
    },
    {
      "cell_type": "code",
      "metadata": {
        "colab": {
          "base_uri": "https://localhost:8080/"
        },
        "id": "erwGOD5ZsC6N",
        "outputId": "1ba9992f-d886-4587-89a1-d258131f411f"
      },
      "source": [
        "%%writefile TestAnimal.java\n",
        "\n",
        "public class TestAnimal{\n",
        "    public static void main(String []args){\n",
        "        IAnimal animais[] = new IAnimal[5];\n",
        "\n",
        "        animais[0] = new Cachorro();\n",
        "        animais[1] = new Gato();\n",
        "        animais[2] = new Lobo();\n",
        "        animais[3] = new Tigre();\n",
        "        animais[4] = new Leao();\n",
        "\n",
        "        for (int i = 0; i < animais.length; i++)\n",
        "        {\n",
        "          animais[i].comida();\n",
        "          animais[i].sono();\n",
        "        }   \n",
        "    }\n",
        "}"
      ],
      "execution_count": null,
      "outputs": [
        {
          "output_type": "stream",
          "text": [
            "Writing TestAnimal.java\n"
          ],
          "name": "stdout"
        }
      ]
    },
    {
      "cell_type": "code",
      "metadata": {
        "colab": {
          "base_uri": "https://localhost:8080/"
        },
        "id": "V19wg_SotK_G",
        "outputId": "46328328-9ee2-44fc-b735-a3b089505319"
      },
      "source": [
        "!javac IAnimal.java Gato.java Cachorro.java Tigre.java Lobo.java Leao.java TestAnimal.java\n",
        "!java TestAnimal"
      ],
      "execution_count": null,
      "outputs": [
        {
          "output_type": "stream",
          "text": [
            "O cachorro esta com fome vai comer\n",
            "O cachorro esta com sono vai dormir\n",
            "O gato esta com fome vai comer\n",
            "O gato esta com sono vai dormir\n",
            "O lobo esta com fome vai comer\n",
            "O lobo esta com sono vai dormir\n",
            "O tigre esta com fome vai comer\n",
            "O tigre esta com sono vai dormir\n",
            "O leao esta com fome vai comer\n",
            "O leao esta com sono vai dormir\n"
          ],
          "name": "stdout"
        }
      ]
    }
  ]
}