{
  "nbformat": 4,
  "nbformat_minor": 0,
  "metadata": {
    "colab": {
      "name": "09_HerancaEntreClasses.ipynb",
      "provenance": [],
      "authorship_tag": "ABX9TyOQrchjXWBvABZ9JXSia+4d",
      "include_colab_link": true
    },
    "kernelspec": {
      "name": "python3",
      "display_name": "Python 3"
    },
    "language_info": {
      "name": "python"
    }
  },
  "cells": [
    {
      "cell_type": "markdown",
      "metadata": {
        "id": "view-in-github",
        "colab_type": "text"
      },
      "source": [
        "<a href=\"https://colab.research.google.com/github/omarlatorre/UEMS-PP-2021/blob/master/09_HerancaEntreClasses.ipynb\" target=\"_parent\"><img src=\"https://colab.research.google.com/assets/colab-badge.svg\" alt=\"Open In Colab\"/></a>"
      ]
    },
    {
      "cell_type": "markdown",
      "metadata": {
        "id": "D0sqyUe66oOE"
      },
      "source": [
        "#Herança entre classes\n",
        "Herança\n",
        "<ul>\n",
        "<li> forma de reutilização de software </li>\n",
        "<li>Novas classes são criadas a partir de classes já\n",
        "existentes</li>\n",
        "<li>Absorvem atributos e comportamentos, e incluem\n",
        "os seus próprios</li>\n",
        "<li>Sobrescrevem métodos - redefinem métodos herdados </li>\n",
        "<li>Subclasse herda de uma superclasse</li>\n",
        "<li>Superclasse direta - subclasse herda explicitamente</li>\n",
        "<li>Superclasse indireta - subclasse herda de dois ou mais\n",
        "níveis acima na hierarquia de classes</li>\n",
        "</ul>"
      ]
    },
    {
      "cell_type": "code",
      "metadata": {
        "colab": {
          "base_uri": "https://localhost:8080/"
        },
        "id": "PrdtAYtR6hWM",
        "outputId": "3295fc7c-8d8c-4f54-e5a0-04bd296d1564"
      },
      "source": [
        "!pip install git+git://github.com/canesche/nvcc4jupyter.git\n",
        "!git clone https://github.com/canesche/nvcc4jupyter\n",
        "%load_ext nvcc_plugin"
      ],
      "execution_count": null,
      "outputs": [
        {
          "output_type": "stream",
          "text": [
            "Collecting git+git://github.com/canesche/nvcc4jupyter.git\n",
            "  Cloning git://github.com/canesche/nvcc4jupyter.git to /tmp/pip-req-build-j6oaybwg\n",
            "  Running command git clone -q git://github.com/canesche/nvcc4jupyter.git /tmp/pip-req-build-j6oaybwg\n",
            "Building wheels for collected packages: ColabPlugin\n",
            "  Building wheel for ColabPlugin (setup.py) ... \u001b[?25l\u001b[?25hdone\n",
            "  Created wheel for ColabPlugin: filename=ColabPlugin-blind-cp37-none-any.whl size=12726 sha256=28ca14f49c4cf779acd36f07a8f22a215b7c2aa851d99d4cb39e2cf37887d78c\n",
            "  Stored in directory: /tmp/pip-ephem-wheel-cache-dksqh1qm/wheels/87/ae/09/21c6e192181a0472e20ddd1d5212e2cbb113f00ebe14330d0d\n",
            "Successfully built ColabPlugin\n",
            "Installing collected packages: ColabPlugin\n",
            "Successfully installed ColabPlugin-blind\n",
            "Cloning into 'nvcc4jupyter'...\n",
            "remote: Enumerating objects: 1147, done.\u001b[K\n",
            "remote: Counting objects: 100% (362/362), done.\u001b[K\n",
            "remote: Compressing objects: 100% (271/271), done.\u001b[K\n",
            "remote: Total 1147 (delta 100), reused 328 (delta 74), pack-reused 785\u001b[K\n",
            "Receiving objects: 100% (1147/1147), 35.71 MiB | 19.49 MiB/s, done.\n",
            "Resolving deltas: 100% (554/554), done.\n"
          ],
          "name": "stdout"
        }
      ]
    },
    {
      "cell_type": "code",
      "metadata": {
        "colab": {
          "base_uri": "https://localhost:8080/"
        },
        "id": "qlvdo3IF_Zih",
        "outputId": "f33e5dd8-210c-4e9c-c913-9faf7cb7a5e4"
      },
      "source": [
        "%%writefile ContaCorrente.java\n",
        "\n",
        "public class ContaCorrente{\n",
        "   // atributo\n",
        "   private int saldo;\n",
        "\n",
        "   // construtor\n",
        "   public ContaCorrente(){\n",
        "       saldo = 0;\n",
        "   }\n",
        "   \n",
        "   // metodo de acesso getter\n",
        "   public int getSaldo(){\n",
        "       return saldo;\n",
        "   }\n",
        "   \n",
        "   // metodo de acesso setter \n",
        "   public void setSaldo(int saldo){\n",
        "      this.saldo = saldo;\n",
        "   }\n",
        "   \n",
        "   public int sacar(int valor){\n",
        "      if(valor > saldo){\n",
        "        return 0;\n",
        "      } else {\n",
        "        saldo -= valor;\n",
        "        return valor;\n",
        "      }\n",
        "   }\n",
        "   \n",
        "   public void depositar(int valor){\n",
        "\t    saldo += valor;\n",
        "   }\n",
        "}"
      ],
      "execution_count": null,
      "outputs": [
        {
          "output_type": "stream",
          "text": [
            "Writing ContaCorrente.java\n"
          ],
          "name": "stdout"
        }
      ]
    },
    {
      "cell_type": "code",
      "metadata": {
        "colab": {
          "base_uri": "https://localhost:8080/"
        },
        "id": "4qMKTXqI_hnX",
        "outputId": "132be25f-dde3-4e57-bd43-4f5292e4688c"
      },
      "source": [
        "%%writefile ContaEspecial.java\n",
        "\n",
        "public class ContaEspecial extends ContaCorrente{\n",
        "    /* atributo */\n",
        "   private int limite;\n",
        "\n",
        "  /* construtor */\n",
        "   ContaEspecial(int limite){\n",
        "\t    this.limite = limite;\n",
        "   }\n",
        "\n",
        "   public int sacar(int valor){\n",
        "      if(valor > (getSaldo() + limite)){\n",
        "        return 0;\n",
        "      } else {\n",
        "        setSaldo(getSaldo() - valor);\n",
        "        return valor;\n",
        "      }\n",
        "   }\n",
        "}"
      ],
      "execution_count": null,
      "outputs": [
        {
          "output_type": "stream",
          "text": [
            "Writing ContaEspecial.java\n"
          ],
          "name": "stdout"
        }
      ]
    },
    {
      "cell_type": "code",
      "metadata": {
        "colab": {
          "base_uri": "https://localhost:8080/"
        },
        "id": "FX-pmqk6_1LX",
        "outputId": "b3170901-c8e7-4513-f9c4-c6dc1603f48f"
      },
      "source": [
        "%%writefile TestContaCorrente.java\n",
        "\n",
        "public class TestContaCorrente {\n",
        "    public static void main(String args[]) {\n",
        "      ContaCorrente c1 = new ContaCorrente();\n",
        "      c1.depositar(200);\n",
        "      c1.sacar(50);\n",
        "      System.out.println(\"Saldo atual \"+c1.getSaldo()); //150\n",
        "      \n",
        "      ContaEspecial c2 = new ContaEspecial(100);\n",
        "      c2.depositar(300);\n",
        "      c2.sacar(350);\n",
        "      System.out.println(\"Saldo atual \"+c2.getSaldo()); //-50\n",
        "\n",
        "      ContaEspecial c3 = new ContaEspecial(200);\n",
        "      c3.depositar(200);\n",
        "      c3.sacar(400);\n",
        "      System.out.println(\"Saldo atual \"+c3.getSaldo()); //0\n",
        "    }\n",
        "}"
      ],
      "execution_count": null,
      "outputs": [
        {
          "output_type": "stream",
          "text": [
            "Overwriting TestContaCorrente.java\n"
          ],
          "name": "stdout"
        }
      ]
    },
    {
      "cell_type": "code",
      "metadata": {
        "colab": {
          "base_uri": "https://localhost:8080/"
        },
        "id": "RFgVm-ufCh9n",
        "outputId": "9d6af6af-2f88-469c-a4e9-ca323b3618ad"
      },
      "source": [
        "!javac ContaCorrente.java ContaEspecial.java TestContaCorrente.java\n",
        "!java TestContaCorrente"
      ],
      "execution_count": null,
      "outputs": [
        {
          "output_type": "stream",
          "text": [
            "Saldo atual 150\n",
            "Saldo atual -50\n",
            "Saldo atual -200\n"
          ],
          "name": "stdout"
        }
      ]
    },
    {
      "cell_type": "markdown",
      "metadata": {
        "id": "C19hwLgMAHP5"
      },
      "source": [
        "##LISTA DE EXERCÍCIOS RESOLVIDOS\n",
        "\n",
        "###Exercício #1\n",
        "Crie uma classe **Animal** que obedeça à seguinte descrição:\n",
        "<ul>\n",
        "<li>possua os atributos nome (String), comprimento (float), número de patas (int), cor (String), ambiente (String) e velocidade média (float)</li>\n",
        "<li>Crie um método construtor que receba por parâmetro os valores iniciais de cada um dos atributos e atribua-os aos seus respectivos atributos.</li>\n",
        "<li>Crie os métodos get e set para cada um dos atributos.</li>\n",
        "<li>Crie um método dados, sem parâmetro e do tipo void, que, quando chamado, imprime na tela uma espécie de relatório informando os dados do animal.</li>\n",
        "</ul>\n",
        "\n",
        "Crie uma classe **Peixe** que herde da classe Animal e obedeça à seguinte descrição:\n",
        "<ul>\n",
        "<li>possua um atributo caracteristica(String)</li>\n",
        "<li>Crie um método construtor que receba por parâmetro os valores iniciais de cada um dos atributos (incluindo os atributos da classe Animal) e atribua-os aos seus respectivos atributos.</li>\n",
        "<li>Crie ainda os métodos get e set para o atributo caracteristica.</li>\n",
        "<li>Crie um método dadosPeixe sem parâmetro e do tipo void, que, quando chamado, imprime na tela uma espécie de relatório informando os dados do peixe (incluindo os dados do Animal e mais a característica).</li>\n",
        "</ul>\n",
        "\n",
        "Crie uma classe **Mamifero** que herde da classe Animal e obedeça à seguinte descrição:\n",
        "<ul>\n",
        "<li>possua um atributo alimento(String)</li>\n",
        "<li>Crie um método construtor que receba por parâmetro os valores iniciais de cada um dos atributos (incluindo os atributos da classe Animal) e atribua-os aos seus respectivos atributos.</li>\n",
        "<li>Crie ainda os métodos get e set para o atributo alimento.</li>\n",
        "<li>Crie um método dadosMamifero sem parâmetro e do tipo void, que, quando chamado, imprime na tela uma espécie de relatório informando os dados do mamífero (incluindo os dados do Animal e mais o alimento)</li>\n",
        "</ul>\n",
        "\n",
        "Crie uma classe **TestarAnimais** possua um método main para testar as classes criadas.\n",
        "<ol>\n",
        "<li>\n",
        "Crie um objeto camelo do tipo Mamífero e atribua os seguintes valores para seus atributos:\n",
        "<ul>\n",
        "<li>Nome: Camelo</li>\n",
        "<li>Comprimento: 150 cm</li>\n",
        "<li>Patas: 4</li>\n",
        "<li>Cor: Amarelo</li>\n",
        "<li>Ambiente: Terra</li>\n",
        "<li>Velocidade: 2.0 m/s</li>\n",
        "</ul>\n",
        "</li>\n",
        "\n",
        "<li>\n",
        "Crie um objeto tubarao do tipo Peixe e atribua os seguintes valores para seus atributos\n",
        "<ul>\n",
        "<li>Nome: Tubarão</li>\n",
        "<li>Comprimento: 300 cm</li>\n",
        "<li>Patas: 0</li>\n",
        "<li>Cor: Cinzento</li>\n",
        "<li>Ambiente: Mar</li>\n",
        "<li>Velocidade: 1.5 m/s</li>\n",
        "<li>Caracteristica: Barbatanas e cauda</li>\n",
        "</ul>\n",
        "</li>\n",
        "\n",
        "<li>c) Chame os métodos para imprimir os dados de cada um dos objetos criados.</li>\n",
        "</ol>"
      ]
    },
    {
      "cell_type": "code",
      "metadata": {
        "colab": {
          "base_uri": "https://localhost:8080/"
        },
        "id": "C0GGCeMmAWQW",
        "outputId": "513d9a05-bd84-4064-9570-a6eb4d0ce686"
      },
      "source": [
        "%%writefile Animal.java\n",
        "/*\n",
        " * Autor : Omar Latorre Vilca\n",
        " * Heranca entre classes\n",
        " * Animal subclasses Peixe, Mamifero e TestAnimal\n",
        " * */\n",
        "\n",
        "public class Animal {\n",
        "\t// atributos\n",
        "\tprivate String nome;\n",
        "\tprivate float comprimento;\n",
        "\tprivate int numeroDePatas;\n",
        "\tprivate String cor;\n",
        "\tprivate String ambiente;\n",
        "\tprivate float velocidadeMedia;\n",
        "\t\n",
        "\t// construtor\n",
        "\tpublic Animal(String nome, float comprimento, int numeroDePatas, String cor, String ambiente,\n",
        "\t\t\tfloat velocidadeMedia) {\n",
        "\t\tthis.nome = nome;\n",
        "\t\tthis.comprimento = comprimento;\n",
        "\t\tthis.numeroDePatas = numeroDePatas;\n",
        "\t\tthis.cor = cor;\n",
        "\t\tthis.ambiente = ambiente;\n",
        "\t\tthis.velocidadeMedia = velocidadeMedia;\n",
        "\t}\n",
        "\n",
        "\t// metodos de acesso getter\n",
        "\tpublic String getNome() {\n",
        "\t\treturn nome;\n",
        "\t}\n",
        "\n",
        "  // metodos de acesso setter\n",
        "\tpublic void setNome(String nome) {\n",
        "\t\tthis.nome = nome;\n",
        "\t}\n",
        "\n",
        "\tpublic float getComprimento() {\n",
        "\t\treturn comprimento;\n",
        "\t}\n",
        "\n",
        "\tpublic void setComprimento(float comprimento) {\n",
        "\t\tthis.comprimento = comprimento;\n",
        "\t}\n",
        "\n",
        "\tpublic int getNumeroDePatas() {\n",
        "\t\treturn numeroDePatas;\n",
        "\t}\n",
        "\n",
        "\tpublic void setNumeroDePatas(int numeroDePatas) {\n",
        "\t\tthis.numeroDePatas = numeroDePatas;\n",
        "\t}\n",
        "\n",
        "\tpublic String getCor() {\n",
        "\t\treturn cor;\n",
        "\t}\n",
        "\n",
        "\tpublic void setCor(String cor) {\n",
        "\t\tthis.cor = cor;\n",
        "\t}\n",
        "\n",
        "\tpublic String getAmbiente() {\n",
        "\t\treturn ambiente;\n",
        "\t}\n",
        "\n",
        "\tpublic void setAmbiente(String ambiente) {\n",
        "\t\tthis.ambiente = ambiente;\n",
        "\t}\n",
        "\n",
        "\tpublic float getVelocidadeMedia() {\n",
        "\t\treturn velocidadeMedia;\n",
        "\t}\n",
        "\n",
        "\tpublic void setVelocidadeMedia(float velocidadeMedia) {\n",
        "\t\tthis.velocidadeMedia = velocidadeMedia;\n",
        "\t}\n",
        "\n",
        "\t@Override\n",
        "\tpublic String toString() {\n",
        "\t\treturn \"Animal [nome=\" + nome + \", comprimento=\" + comprimento + \", numeroDePatas=\" + numeroDePatas + \", cor=\"\n",
        "\t\t\t\t+ cor + \", ambiente=\" + ambiente + \", velocidadeMedia=\" + velocidadeMedia + \"]\";\n",
        "\t}\n",
        "\n",
        "}\n"
      ],
      "execution_count": null,
      "outputs": [
        {
          "output_type": "stream",
          "text": [
            "Writing Animal.java\n"
          ],
          "name": "stdout"
        }
      ]
    },
    {
      "cell_type": "code",
      "metadata": {
        "colab": {
          "base_uri": "https://localhost:8080/"
        },
        "id": "NA5tv627ApkH",
        "outputId": "38d0cc2d-b212-441f-ffd8-6c1d3dfd36a5"
      },
      "source": [
        "%%writefile Mamifero.java\n",
        "\n",
        "/*\n",
        " * Autor : Omar Latorre Vilca\n",
        " * Heranca entre classes\n",
        " * Animal subclasses Peixe e Mamifero implementar TestarAnimais\n",
        " * */\n",
        "\n",
        "public class Mamifero extends Animal {\n",
        "\t/* atributo */\n",
        "\tprivate String alimento;\n",
        "\n",
        "\t// construtor\n",
        "\tpublic Mamifero(String nome, float comprimento, int numeroDePatas, String cor, String ambiente,\n",
        "\t\t\tfloat velocidadeMedia, String alimento) {\n",
        "\t\tsuper(nome, comprimento, numeroDePatas, cor, ambiente, velocidadeMedia);\n",
        "\t\tthis.alimento = alimento;\n",
        "\t}\n",
        "\n",
        "\t// metodo de acesso getter\n",
        "\tpublic String getAlimento() {\n",
        "\t\treturn alimento;\n",
        "\t}\n",
        "\n",
        "\tpublic void setAlimento(String alimento) {\n",
        "\t\tthis.alimento = alimento;\n",
        "\t}\n",
        "\n",
        "\t@Override\n",
        "\tpublic String toString() {\n",
        "\t\treturn \"Mamifero [alimento=\" + alimento + \", getNome()=\" + getNome() + \", getComprimento()=\" + getComprimento()\n",
        "\t\t\t\t+ \", getNumeroDePatas()=\" + getNumeroDePatas() + \", getCor()=\" + getCor() + \", getAmbiente()=\"\n",
        "\t\t\t\t+ getAmbiente() + \", getVelocidadeMedia()=\" + getVelocidadeMedia() + \"]\";\n",
        "\t}\n",
        "\n",
        "}"
      ],
      "execution_count": null,
      "outputs": [
        {
          "output_type": "stream",
          "text": [
            "Writing Mamifero.java\n"
          ],
          "name": "stdout"
        }
      ]
    },
    {
      "cell_type": "code",
      "metadata": {
        "colab": {
          "base_uri": "https://localhost:8080/"
        },
        "id": "ZAkISZAQA21S",
        "outputId": "fdbbfc08-ef16-41bb-d7d9-ba95606e93cd"
      },
      "source": [
        "%%writefile Peixe.java\n",
        "\n",
        "/*\n",
        " * Autor : Omar Latorre Vilca\n",
        " * Heranca entre classes \n",
        " * Animal subclasses Peixe e Mamifero implementar TestarAnimais\n",
        " * */\n",
        "\n",
        "public class Peixe extends Animal {\n",
        "    /* atributo */\n",
        "\tprivate String caracteristica;\n",
        "\t\n",
        "\t//  construtor\n",
        "\tpublic Peixe(String nome, float comprimento, int numeroDePatas, String cor, String ambiente,\n",
        "\t\t\tfloat velocidadeMedia, String caracteristica) {\n",
        "\t\tsuper(nome, comprimento, numeroDePatas, cor, ambiente, velocidadeMedia);\n",
        "\t\tthis.caracteristica = caracteristica;\n",
        "\t}\n",
        "\n",
        "\t// metodos de acesso\n",
        "\tpublic String getCaracteristica() {\n",
        "\t\treturn caracteristica;\n",
        "\t}\n",
        "\n",
        "\tpublic void setCaracteristica(String caracteristica) {\n",
        "\t\tthis.caracteristica = caracteristica;\n",
        "\t}\n",
        "\n",
        "\t@Override\n",
        "\tpublic String toString() {\n",
        "\t\treturn \"Peixe [caracteristica=\" + caracteristica + \", getNome()=\" + getNome() + \", getComprimento()=\"\n",
        "\t\t\t\t+ getComprimento() + \", getNumeroDePatas()=\" + getNumeroDePatas() + \", getCor()=\" + getCor()\n",
        "\t\t\t\t+ \", getAmbiente()=\" + getAmbiente() + \", getVelocidadeMedia()=\" + getVelocidadeMedia()\n",
        "\t\t\t\t+ \"]\";\n",
        "\t}\n",
        "\n",
        "}"
      ],
      "execution_count": null,
      "outputs": [
        {
          "output_type": "stream",
          "text": [
            "Writing Peixe.java\n"
          ],
          "name": "stdout"
        }
      ]
    },
    {
      "cell_type": "code",
      "metadata": {
        "colab": {
          "base_uri": "https://localhost:8080/"
        },
        "id": "gg2gxvTYBEO6",
        "outputId": "a6f24653-26c8-4054-a5bf-3d545335a392"
      },
      "source": [
        "%%writefile TestAnimal.java\n",
        "\n",
        "/*\n",
        " * Autor : Omar Latorre Vilca\n",
        " * Heranca entre classes \n",
        " * Animal subclasses Peixe e Mamifero implementar TestarAnimais\n",
        " * */\n",
        "\n",
        "public class TestAnimal {\n",
        "\n",
        "\tpublic static void main(String[] args) {\n",
        "\t\t// criando o objeto mamifero\n",
        "\t\tMamifero mamifero = new Mamifero(\"Camelo\", 150, 4, \"Amarelo\", \"Terra\", (float) 2.0, \"agua\");\n",
        "\t\tPeixe peixe = new Peixe(\"Tubarão\", 300, 0, \"Cinzento\", \"Mar\", (float) 1.5, \"Barbatanas e cauda\");\n",
        "\t\t// imprimindo a informacao por cada animal\n",
        "\t\tSystem.out.println(mamifero.toString());\n",
        "\t\tSystem.out.println(peixe.toString());\n",
        "\t}\n",
        "\n",
        "}\n"
      ],
      "execution_count": null,
      "outputs": [
        {
          "output_type": "stream",
          "text": [
            "Writing TestAnimal.java\n"
          ],
          "name": "stdout"
        }
      ]
    },
    {
      "cell_type": "code",
      "metadata": {
        "colab": {
          "base_uri": "https://localhost:8080/"
        },
        "id": "kmzhiwe0DS45",
        "outputId": "fe991dc9-5c71-47da-f69c-7202dc831d22"
      },
      "source": [
        "!javac Animal.java Mamifero.java Peixe.java TestAnimal.java\n",
        "!java TestAnimal"
      ],
      "execution_count": null,
      "outputs": [
        {
          "output_type": "stream",
          "text": [
            "Mamifero [alimento=agua, getNome()=Camelo, getComprimento()=150.0, getNumeroDePatas()=4, getCor()=Amarelo, getAmbiente()=Terra, getVelocidadeMedia()=2.0]\n",
            "Peixe [caracteristica=Barbatanas e cauda, getNome()=Tubarão, getComprimento()=300.0, getNumeroDePatas()=0, getCor()=Cinzento, getAmbiente()=Mar, getVelocidadeMedia()=1.5]\n"
          ],
          "name": "stdout"
        }
      ]
    }
  ]
}